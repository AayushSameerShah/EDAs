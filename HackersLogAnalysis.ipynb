{
 "cells": [
  {
   "cell_type": "markdown",
   "metadata": {},
   "source": [
    "# Analysis of the Hackers.log file.\n",
    "This is my small analysis on the log files, in which I will tryout my Regular Exp - abilities.<br>\n",
    "————<br>\n",
    "_Feel free to run the cells from top to bottom without worry! (You may need to install some of the libraries along the way... but that is easy at it look. Enjoy._"
   ]
  },
  {
   "cell_type": "markdown",
   "metadata": {},
   "source": [
    "To follow along with this notebook: please download these 2 files. <br>\n",
    "2 Files: [Here](https://1drv.ms/u/s!AvfjgvTsKfX4jS_tNCG138WNvymv?e=iIbpn5)"
   ]
  },
  {
   "cell_type": "code",
   "execution_count": 1,
   "metadata": {},
   "outputs": [],
   "source": [
    "import pandas as pd\n",
    "import numpy as np\n",
    "from datetime import datetime\n",
    "from collections import defaultdict\n",
    "\n",
    "import nltk\n",
    "import re"
   ]
  },
  {
   "cell_type": "markdown",
   "metadata": {},
   "source": [
    "*This ↓ is the LogFile that I have converted from .log to .csv, for easier access.*"
   ]
  },
  {
   "cell_type": "code",
   "execution_count": 2,
   "metadata": {},
   "outputs": [],
   "source": [
    "data = pd.read_csv(\"./hackersLog\", header= None)"
   ]
  },
  {
   "cell_type": "markdown",
   "metadata": {},
   "source": [
    "###### "
   ]
  },
  {
   "cell_type": "markdown",
   "metadata": {},
   "source": [
    "##### Creating patterns for Notification - Chat - Renames"
   ]
  },
  {
   "cell_type": "code",
   "execution_count": 3,
   "metadata": {},
   "outputs": [],
   "source": [
    "pat_Notification = r\"(^\\d{2}\\:\\d{2}) (-!-) (.+?) (\\[.+?\\]) (.+)\""
   ]
  },
  {
   "cell_type": "code",
   "execution_count": 4,
   "metadata": {},
   "outputs": [],
   "source": [
    "pat_Chat = r\"(^\\d{2}\\:\\d{2}\\b) (\\<.+?\\>) (.+)\""
   ]
  },
  {
   "cell_type": "code",
   "execution_count": 5,
   "metadata": {},
   "outputs": [],
   "source": [
    "pat_Known_as = r\"(^\\d{2}\\:\\d{2})( -!- )([a-z0-9\\'\\\":;\\{\\}`~!@#$%^\\\\\\/&*().+_|\\-\\[\\]]+)( (is )?now known as )(.+)\""
   ]
  },
  {
   "cell_type": "markdown",
   "metadata": {},
   "source": [
    "# "
   ]
  },
  {
   "cell_type": "markdown",
   "metadata": {},
   "source": [
    "## Getting the log open date"
   ]
  },
  {
   "cell_type": "markdown",
   "metadata": {},
   "source": [
    "There are two types of dates, Log Starting date and normal date when the day changes. Here I am extracting all the dates when the Log is opened."
   ]
  },
  {
   "cell_type": "code",
   "execution_count": 6,
   "metadata": {},
   "outputs": [],
   "source": [
    "open_log = r\"(--- Log opened)(.+)\""
   ]
  },
  {
   "cell_type": "code",
   "execution_count": 7,
   "metadata": {},
   "outputs": [],
   "source": [
    "open_time = data.iloc[:, 0].str.extract(open_log, flags= re.I | re.M)"
   ]
  },
  {
   "cell_type": "code",
   "execution_count": 8,
   "metadata": {},
   "outputs": [],
   "source": [
    "open_time.drop(0, axis= 1, inplace= True)"
   ]
  },
  {
   "cell_type": "code",
   "execution_count": 9,
   "metadata": {},
   "outputs": [],
   "source": [
    "open_time.columns = [\"dayLog\"]"
   ]
  },
  {
   "cell_type": "code",
   "execution_count": 10,
   "metadata": {},
   "outputs": [
    {
     "data": {
      "text/html": [
       "<div>\n",
       "<style scoped>\n",
       "    .dataframe tbody tr th:only-of-type {\n",
       "        vertical-align: middle;\n",
       "    }\n",
       "\n",
       "    .dataframe tbody tr th {\n",
       "        vertical-align: top;\n",
       "    }\n",
       "\n",
       "    .dataframe thead th {\n",
       "        text-align: right;\n",
       "    }\n",
       "</style>\n",
       "<table border=\"1\" class=\"dataframe\">\n",
       "  <thead>\n",
       "    <tr style=\"text-align: right;\">\n",
       "      <th></th>\n",
       "      <th>dayLog</th>\n",
       "    </tr>\n",
       "  </thead>\n",
       "  <tbody>\n",
       "    <tr>\n",
       "      <th>1</th>\n",
       "      <td>Tue Sep 20 00:01:49 2016</td>\n",
       "    </tr>\n",
       "    <tr>\n",
       "      <th>3929</th>\n",
       "      <td>Thu Sep 22 23:57:59 2016</td>\n",
       "    </tr>\n",
       "    <tr>\n",
       "      <th>9280</th>\n",
       "      <td>Mon Sep 26 14:48:05 2016</td>\n",
       "    </tr>\n",
       "    <tr>\n",
       "      <th>12178</th>\n",
       "      <td>Wed Sep 28 22:45:15 2016</td>\n",
       "    </tr>\n",
       "    <tr>\n",
       "      <th>14253</th>\n",
       "      <td>Fri Sep 30 17:53:45 2016</td>\n",
       "    </tr>\n",
       "    <tr>\n",
       "      <th>...</th>\n",
       "      <td>...</td>\n",
       "    </tr>\n",
       "    <tr>\n",
       "      <th>475934</th>\n",
       "      <td>Thu Apr 26 21:22:07 2018</td>\n",
       "    </tr>\n",
       "    <tr>\n",
       "      <th>476364</th>\n",
       "      <td>Fri Apr 27 21:22:08 2018</td>\n",
       "    </tr>\n",
       "    <tr>\n",
       "      <th>476912</th>\n",
       "      <td>Sat Apr 28 21:22:09 2018</td>\n",
       "    </tr>\n",
       "    <tr>\n",
       "      <th>477647</th>\n",
       "      <td>Sun Apr 29 21:22:09 2018</td>\n",
       "    </tr>\n",
       "    <tr>\n",
       "      <th>478556</th>\n",
       "      <td>Mon Apr 30 21:22:08 2018</td>\n",
       "    </tr>\n",
       "  </tbody>\n",
       "</table>\n",
       "<p>558 rows × 1 columns</p>\n",
       "</div>"
      ],
      "text/plain": [
       "                           dayLog\n",
       "1        Tue Sep 20 00:01:49 2016\n",
       "3929     Thu Sep 22 23:57:59 2016\n",
       "9280     Mon Sep 26 14:48:05 2016\n",
       "12178    Wed Sep 28 22:45:15 2016\n",
       "14253    Fri Sep 30 17:53:45 2016\n",
       "...                           ...\n",
       "475934   Thu Apr 26 21:22:07 2018\n",
       "476364   Fri Apr 27 21:22:08 2018\n",
       "476912   Sat Apr 28 21:22:09 2018\n",
       "477647   Sun Apr 29 21:22:09 2018\n",
       "478556   Mon Apr 30 21:22:08 2018\n",
       "\n",
       "[558 rows x 1 columns]"
      ]
     },
     "execution_count": 10,
     "metadata": {},
     "output_type": "execute_result"
    }
   ],
   "source": [
    "open_time[open_time.notna().any(1)]"
   ]
  },
  {
   "cell_type": "markdown",
   "metadata": {},
   "source": [
    "# "
   ]
  },
  {
   "cell_type": "markdown",
   "metadata": {},
   "source": [
    "Now getting the changing day data."
   ]
  },
  {
   "cell_type": "markdown",
   "metadata": {},
   "source": [
    "## Getting Day Changed data (which will be helpful later) "
   ]
  },
  {
   "cell_type": "code",
   "execution_count": 11,
   "metadata": {},
   "outputs": [],
   "source": [
    "day_change = r\"(--- Day changed) (.+)\""
   ]
  },
  {
   "cell_type": "code",
   "execution_count": 12,
   "metadata": {},
   "outputs": [],
   "source": [
    "day_change = data.iloc[:, 0].str.extract(day_change, flags= re.I | re.M)"
   ]
  },
  {
   "cell_type": "code",
   "execution_count": 13,
   "metadata": {},
   "outputs": [],
   "source": [
    "day_change.drop(0, axis= 1, inplace= True)"
   ]
  },
  {
   "cell_type": "code",
   "execution_count": 14,
   "metadata": {},
   "outputs": [],
   "source": [
    "day_change.columns = [\"dayChange\"]"
   ]
  },
  {
   "cell_type": "code",
   "execution_count": 15,
   "metadata": {},
   "outputs": [
    {
     "data": {
      "text/html": [
       "<div>\n",
       "<style scoped>\n",
       "    .dataframe tbody tr th:only-of-type {\n",
       "        vertical-align: middle;\n",
       "    }\n",
       "\n",
       "    .dataframe tbody tr th {\n",
       "        vertical-align: top;\n",
       "    }\n",
       "\n",
       "    .dataframe thead th {\n",
       "        text-align: right;\n",
       "    }\n",
       "</style>\n",
       "<table border=\"1\" class=\"dataframe\">\n",
       "  <thead>\n",
       "    <tr style=\"text-align: right;\">\n",
       "      <th></th>\n",
       "      <th>dayChange</th>\n",
       "    </tr>\n",
       "  </thead>\n",
       "  <tbody>\n",
       "    <tr>\n",
       "      <th>0</th>\n",
       "      <td>Tue Sep 20 2016</td>\n",
       "    </tr>\n",
       "    <tr>\n",
       "      <th>917</th>\n",
       "      <td>Wed Sep 21 2016</td>\n",
       "    </tr>\n",
       "    <tr>\n",
       "      <th>2359</th>\n",
       "      <td>Thu Sep 22 2016</td>\n",
       "    </tr>\n",
       "    <tr>\n",
       "      <th>3935</th>\n",
       "      <td>Fri Sep 23 2016</td>\n",
       "    </tr>\n",
       "    <tr>\n",
       "      <th>5091</th>\n",
       "      <td>Sat Sep 24 2016</td>\n",
       "    </tr>\n",
       "    <tr>\n",
       "      <th>...</th>\n",
       "      <td>...</td>\n",
       "    </tr>\n",
       "    <tr>\n",
       "      <th>475968</th>\n",
       "      <td>Fri Apr 27 2018</td>\n",
       "    </tr>\n",
       "    <tr>\n",
       "      <th>476412</th>\n",
       "      <td>Sat Apr 28 2018</td>\n",
       "    </tr>\n",
       "    <tr>\n",
       "      <th>477278</th>\n",
       "      <td>Sun Apr 29 2018</td>\n",
       "    </tr>\n",
       "    <tr>\n",
       "      <th>477679</th>\n",
       "      <td>Mon Apr 30 2018</td>\n",
       "    </tr>\n",
       "    <tr>\n",
       "      <th>478588</th>\n",
       "      <td>Tue May 01 2018</td>\n",
       "    </tr>\n",
       "  </tbody>\n",
       "</table>\n",
       "<p>566 rows × 1 columns</p>\n",
       "</div>"
      ],
      "text/plain": [
       "              dayChange\n",
       "0       Tue Sep 20 2016\n",
       "917     Wed Sep 21 2016\n",
       "2359    Thu Sep 22 2016\n",
       "3935    Fri Sep 23 2016\n",
       "5091    Sat Sep 24 2016\n",
       "...                 ...\n",
       "475968  Fri Apr 27 2018\n",
       "476412  Sat Apr 28 2018\n",
       "477278  Sun Apr 29 2018\n",
       "477679  Mon Apr 30 2018\n",
       "478588  Tue May 01 2018\n",
       "\n",
       "[566 rows x 1 columns]"
      ]
     },
     "execution_count": 15,
     "metadata": {},
     "output_type": "execute_result"
    }
   ],
   "source": [
    "day_change[day_change.notna().any(1)]"
   ]
  },
  {
   "cell_type": "markdown",
   "metadata": {},
   "source": [
    "# "
   ]
  },
  {
   "cell_type": "markdown",
   "metadata": {},
   "source": [
    "# "
   ]
  },
  {
   "cell_type": "markdown",
   "metadata": {},
   "source": [
    "### Concatinating data"
   ]
  },
  {
   "cell_type": "code",
   "execution_count": 27,
   "metadata": {},
   "outputs": [],
   "source": [
    "merged = pd.concat([data, open_time, day_change], axis= 1)"
   ]
  },
  {
   "cell_type": "code",
   "execution_count": 28,
   "metadata": {},
   "outputs": [
    {
     "data": {
      "text/html": [
       "<div>\n",
       "<style scoped>\n",
       "    .dataframe tbody tr th:only-of-type {\n",
       "        vertical-align: middle;\n",
       "    }\n",
       "\n",
       "    .dataframe tbody tr th {\n",
       "        vertical-align: top;\n",
       "    }\n",
       "\n",
       "    .dataframe thead th {\n",
       "        text-align: right;\n",
       "    }\n",
       "</style>\n",
       "<table border=\"1\" class=\"dataframe\">\n",
       "  <thead>\n",
       "    <tr style=\"text-align: right;\">\n",
       "      <th></th>\n",
       "      <th>0</th>\n",
       "      <th>dayLog</th>\n",
       "      <th>dayChange</th>\n",
       "    </tr>\n",
       "  </thead>\n",
       "  <tbody>\n",
       "    <tr>\n",
       "      <th>0</th>\n",
       "      <td>--- Day changed Tue Sep 20 2016</td>\n",
       "      <td>NaN</td>\n",
       "      <td>Tue Sep 20 2016</td>\n",
       "    </tr>\n",
       "    <tr>\n",
       "      <th>1</th>\n",
       "      <td>--- Log opened Tue Sep 20 00:01:49 2016</td>\n",
       "      <td>Tue Sep 20 00:01:49 2016</td>\n",
       "      <td>NaN</td>\n",
       "    </tr>\n",
       "    <tr>\n",
       "      <th>2</th>\n",
       "      <td>00:01 -!- Guest40341 [AndChat2541@AN-pl0gl1.8e...</td>\n",
       "      <td>NaN</td>\n",
       "      <td>NaN</td>\n",
       "    </tr>\n",
       "    <tr>\n",
       "      <th>3</th>\n",
       "      <td>00:11 -!- peejr [peeejr@AN-sru.3ib.ec0efc.IP] ...</td>\n",
       "      <td>NaN</td>\n",
       "      <td>NaN</td>\n",
       "    </tr>\n",
       "    <tr>\n",
       "      <th>4</th>\n",
       "      <td>00:14 -!- Gilgamesh [Gilgamesh@AN-nkf.mv0.se35...</td>\n",
       "      <td>NaN</td>\n",
       "      <td>NaN</td>\n",
       "    </tr>\n",
       "    <tr>\n",
       "      <th>...</th>\n",
       "      <td>...</td>\n",
       "      <td>...</td>\n",
       "      <td>...</td>\n",
       "    </tr>\n",
       "    <tr>\n",
       "      <th>478900</th>\n",
       "      <td>19:26 -!- hypnotic [hypnotic@One.Shot.One.Kill...</td>\n",
       "      <td>NaN</td>\n",
       "      <td>NaN</td>\n",
       "    </tr>\n",
       "    <tr>\n",
       "      <th>478901</th>\n",
       "      <td>19:29 &lt;+Cogitabundus&gt; Some like chaos.</td>\n",
       "      <td>NaN</td>\n",
       "      <td>NaN</td>\n",
       "    </tr>\n",
       "    <tr>\n",
       "      <th>478902</th>\n",
       "      <td>19:29 &lt;+Cogitabundus&gt; Oh they left.</td>\n",
       "      <td>NaN</td>\n",
       "      <td>NaN</td>\n",
       "    </tr>\n",
       "    <tr>\n",
       "      <th>478903</th>\n",
       "      <td>19:34 &lt; DeTH&gt; theres plenty of wreckless alpha...</td>\n",
       "      <td>NaN</td>\n",
       "      <td>NaN</td>\n",
       "    </tr>\n",
       "    <tr>\n",
       "      <th>478904</th>\n",
       "      <td>19:44 -!- anonym_boy [webirc@AN-elm.0o5.g90cf3...</td>\n",
       "      <td>NaN</td>\n",
       "      <td>NaN</td>\n",
       "    </tr>\n",
       "  </tbody>\n",
       "</table>\n",
       "<p>478905 rows × 3 columns</p>\n",
       "</div>"
      ],
      "text/plain": [
       "                                                        0  \\\n",
       "0                         --- Day changed Tue Sep 20 2016   \n",
       "1                 --- Log opened Tue Sep 20 00:01:49 2016   \n",
       "2       00:01 -!- Guest40341 [AndChat2541@AN-pl0gl1.8e...   \n",
       "3       00:11 -!- peejr [peeejr@AN-sru.3ib.ec0efc.IP] ...   \n",
       "4       00:14 -!- Gilgamesh [Gilgamesh@AN-nkf.mv0.se35...   \n",
       "...                                                   ...   \n",
       "478900  19:26 -!- hypnotic [hypnotic@One.Shot.One.Kill...   \n",
       "478901             19:29 <+Cogitabundus> Some like chaos.   \n",
       "478902                19:29 <+Cogitabundus> Oh they left.   \n",
       "478903  19:34 < DeTH> theres plenty of wreckless alpha...   \n",
       "478904  19:44 -!- anonym_boy [webirc@AN-elm.0o5.g90cf3...   \n",
       "\n",
       "                           dayLog        dayChange  \n",
       "0                             NaN  Tue Sep 20 2016  \n",
       "1        Tue Sep 20 00:01:49 2016              NaN  \n",
       "2                             NaN              NaN  \n",
       "3                             NaN              NaN  \n",
       "4                             NaN              NaN  \n",
       "...                           ...              ...  \n",
       "478900                        NaN              NaN  \n",
       "478901                        NaN              NaN  \n",
       "478902                        NaN              NaN  \n",
       "478903                        NaN              NaN  \n",
       "478904                        NaN              NaN  \n",
       "\n",
       "[478905 rows x 3 columns]"
      ]
     },
     "execution_count": 28,
     "metadata": {},
     "output_type": "execute_result"
    }
   ],
   "source": [
    "merged"
   ]
  },
  {
   "cell_type": "markdown",
   "metadata": {},
   "source": [
    "Now we have the Merged DF, which will be so helpful in the upcoming massage of data. It has all the available information for each operation (ie. message or notification)."
   ]
  },
  {
   "cell_type": "markdown",
   "metadata": {},
   "source": [
    "If you see, in most of the rows we have the Nulls — because the iformation of Date is only available in the single line, now we need to make them available in all lines. So we will use `ffill`. <br>\n",
    "——<br>\n",
    "Feel safe to use 'ffill', it will not create any false information. I have tested many times and it turnes out to be correct."
   ]
  },
  {
   "cell_type": "code",
   "execution_count": 29,
   "metadata": {},
   "outputs": [],
   "source": [
    "# Here making sure the raw date doesn't have Spaces.\n",
    "merged.dayChange = merged.dayChange.str.strip()\n",
    "merged.dayLog = merged.dayLog.str.strip()"
   ]
  },
  {
   "cell_type": "code",
   "execution_count": 30,
   "metadata": {},
   "outputs": [],
   "source": [
    "# Now converting the raw datetime into timestamps! (So exciting!)\n",
    "merged.dayLog = pd.to_datetime(merged.dayLog, format= \"%a %b %d %H:%M:%S %Y\")\n",
    "merged.dayChange = pd.to_datetime(merged.dayChange, format= \"%a %b %d %Y\")"
   ]
  },
  {
   "cell_type": "code",
   "execution_count": 31,
   "metadata": {},
   "outputs": [],
   "source": [
    "# Now performing 'ffill'\n",
    "merged.dayLog = merged.dayLog.fillna(method= \"ffill\")\n",
    "merged.dayChange = merged.dayChange.fillna(method= \"ffill\")"
   ]
  },
  {
   "cell_type": "markdown",
   "metadata": {},
   "source": [
    "The data till here looks like"
   ]
  },
  {
   "cell_type": "code",
   "execution_count": 32,
   "metadata": {},
   "outputs": [
    {
     "data": {
      "text/html": [
       "<div>\n",
       "<style scoped>\n",
       "    .dataframe tbody tr th:only-of-type {\n",
       "        vertical-align: middle;\n",
       "    }\n",
       "\n",
       "    .dataframe tbody tr th {\n",
       "        vertical-align: top;\n",
       "    }\n",
       "\n",
       "    .dataframe thead th {\n",
       "        text-align: right;\n",
       "    }\n",
       "</style>\n",
       "<table border=\"1\" class=\"dataframe\">\n",
       "  <thead>\n",
       "    <tr style=\"text-align: right;\">\n",
       "      <th></th>\n",
       "      <th>0</th>\n",
       "      <th>dayLog</th>\n",
       "      <th>dayChange</th>\n",
       "    </tr>\n",
       "  </thead>\n",
       "  <tbody>\n",
       "    <tr>\n",
       "      <th>0</th>\n",
       "      <td>--- Day changed Tue Sep 20 2016</td>\n",
       "      <td>NaT</td>\n",
       "      <td>2016-09-20</td>\n",
       "    </tr>\n",
       "    <tr>\n",
       "      <th>1</th>\n",
       "      <td>--- Log opened Tue Sep 20 00:01:49 2016</td>\n",
       "      <td>2016-09-20 00:01:49</td>\n",
       "      <td>2016-09-20</td>\n",
       "    </tr>\n",
       "    <tr>\n",
       "      <th>2</th>\n",
       "      <td>00:01 -!- Guest40341 [AndChat2541@AN-pl0gl1.8e...</td>\n",
       "      <td>2016-09-20 00:01:49</td>\n",
       "      <td>2016-09-20</td>\n",
       "    </tr>\n",
       "    <tr>\n",
       "      <th>3</th>\n",
       "      <td>00:11 -!- peejr [peeejr@AN-sru.3ib.ec0efc.IP] ...</td>\n",
       "      <td>2016-09-20 00:01:49</td>\n",
       "      <td>2016-09-20</td>\n",
       "    </tr>\n",
       "    <tr>\n",
       "      <th>4</th>\n",
       "      <td>00:14 -!- Gilgamesh [Gilgamesh@AN-nkf.mv0.se35...</td>\n",
       "      <td>2016-09-20 00:01:49</td>\n",
       "      <td>2016-09-20</td>\n",
       "    </tr>\n",
       "    <tr>\n",
       "      <th>...</th>\n",
       "      <td>...</td>\n",
       "      <td>...</td>\n",
       "      <td>...</td>\n",
       "    </tr>\n",
       "    <tr>\n",
       "      <th>478900</th>\n",
       "      <td>19:26 -!- hypnotic [hypnotic@One.Shot.One.Kill...</td>\n",
       "      <td>2018-04-30 21:22:08</td>\n",
       "      <td>2018-05-01</td>\n",
       "    </tr>\n",
       "    <tr>\n",
       "      <th>478901</th>\n",
       "      <td>19:29 &lt;+Cogitabundus&gt; Some like chaos.</td>\n",
       "      <td>2018-04-30 21:22:08</td>\n",
       "      <td>2018-05-01</td>\n",
       "    </tr>\n",
       "    <tr>\n",
       "      <th>478902</th>\n",
       "      <td>19:29 &lt;+Cogitabundus&gt; Oh they left.</td>\n",
       "      <td>2018-04-30 21:22:08</td>\n",
       "      <td>2018-05-01</td>\n",
       "    </tr>\n",
       "    <tr>\n",
       "      <th>478903</th>\n",
       "      <td>19:34 &lt; DeTH&gt; theres plenty of wreckless alpha...</td>\n",
       "      <td>2018-04-30 21:22:08</td>\n",
       "      <td>2018-05-01</td>\n",
       "    </tr>\n",
       "    <tr>\n",
       "      <th>478904</th>\n",
       "      <td>19:44 -!- anonym_boy [webirc@AN-elm.0o5.g90cf3...</td>\n",
       "      <td>2018-04-30 21:22:08</td>\n",
       "      <td>2018-05-01</td>\n",
       "    </tr>\n",
       "  </tbody>\n",
       "</table>\n",
       "<p>478905 rows × 3 columns</p>\n",
       "</div>"
      ],
      "text/plain": [
       "                                                        0              dayLog  \\\n",
       "0                         --- Day changed Tue Sep 20 2016                 NaT   \n",
       "1                 --- Log opened Tue Sep 20 00:01:49 2016 2016-09-20 00:01:49   \n",
       "2       00:01 -!- Guest40341 [AndChat2541@AN-pl0gl1.8e... 2016-09-20 00:01:49   \n",
       "3       00:11 -!- peejr [peeejr@AN-sru.3ib.ec0efc.IP] ... 2016-09-20 00:01:49   \n",
       "4       00:14 -!- Gilgamesh [Gilgamesh@AN-nkf.mv0.se35... 2016-09-20 00:01:49   \n",
       "...                                                   ...                 ...   \n",
       "478900  19:26 -!- hypnotic [hypnotic@One.Shot.One.Kill... 2018-04-30 21:22:08   \n",
       "478901             19:29 <+Cogitabundus> Some like chaos. 2018-04-30 21:22:08   \n",
       "478902                19:29 <+Cogitabundus> Oh they left. 2018-04-30 21:22:08   \n",
       "478903  19:34 < DeTH> theres plenty of wreckless alpha... 2018-04-30 21:22:08   \n",
       "478904  19:44 -!- anonym_boy [webirc@AN-elm.0o5.g90cf3... 2018-04-30 21:22:08   \n",
       "\n",
       "        dayChange  \n",
       "0      2016-09-20  \n",
       "1      2016-09-20  \n",
       "2      2016-09-20  \n",
       "3      2016-09-20  \n",
       "4      2016-09-20  \n",
       "...           ...  \n",
       "478900 2018-05-01  \n",
       "478901 2018-05-01  \n",
       "478902 2018-05-01  \n",
       "478903 2018-05-01  \n",
       "478904 2018-05-01  \n",
       "\n",
       "[478905 rows x 3 columns]"
      ]
     },
     "execution_count": 32,
     "metadata": {},
     "output_type": "execute_result"
    }
   ],
   "source": [
    "merged"
   ]
  },
  {
   "cell_type": "code",
   "execution_count": 33,
   "metadata": {},
   "outputs": [],
   "source": [
    "# As we don't need the TIME information — at when the log was started\n",
    "# we can ignore the time from datetim\n",
    "merged.dayLog = merged.dayLog.apply(lambda x: x.date())"
   ]
  },
  {
   "cell_type": "code",
   "execution_count": 34,
   "metadata": {},
   "outputs": [],
   "source": [
    "# Convering back — to datetime because now it is object type\n",
    "merged.dayLog = merged.dayLog.astype(np.datetime64)"
   ]
  },
  {
   "cell_type": "markdown",
   "metadata": {},
   "source": [
    "Now it looks like... ↓"
   ]
  },
  {
   "cell_type": "code",
   "execution_count": 35,
   "metadata": {},
   "outputs": [
    {
     "data": {
      "text/html": [
       "<div>\n",
       "<style scoped>\n",
       "    .dataframe tbody tr th:only-of-type {\n",
       "        vertical-align: middle;\n",
       "    }\n",
       "\n",
       "    .dataframe tbody tr th {\n",
       "        vertical-align: top;\n",
       "    }\n",
       "\n",
       "    .dataframe thead th {\n",
       "        text-align: right;\n",
       "    }\n",
       "</style>\n",
       "<table border=\"1\" class=\"dataframe\">\n",
       "  <thead>\n",
       "    <tr style=\"text-align: right;\">\n",
       "      <th></th>\n",
       "      <th>0</th>\n",
       "      <th>dayLog</th>\n",
       "      <th>dayChange</th>\n",
       "    </tr>\n",
       "  </thead>\n",
       "  <tbody>\n",
       "    <tr>\n",
       "      <th>0</th>\n",
       "      <td>--- Day changed Tue Sep 20 2016</td>\n",
       "      <td>NaT</td>\n",
       "      <td>2016-09-20</td>\n",
       "    </tr>\n",
       "    <tr>\n",
       "      <th>1</th>\n",
       "      <td>--- Log opened Tue Sep 20 00:01:49 2016</td>\n",
       "      <td>2016-09-20</td>\n",
       "      <td>2016-09-20</td>\n",
       "    </tr>\n",
       "    <tr>\n",
       "      <th>2</th>\n",
       "      <td>00:01 -!- Guest40341 [AndChat2541@AN-pl0gl1.8e...</td>\n",
       "      <td>2016-09-20</td>\n",
       "      <td>2016-09-20</td>\n",
       "    </tr>\n",
       "    <tr>\n",
       "      <th>3</th>\n",
       "      <td>00:11 -!- peejr [peeejr@AN-sru.3ib.ec0efc.IP] ...</td>\n",
       "      <td>2016-09-20</td>\n",
       "      <td>2016-09-20</td>\n",
       "    </tr>\n",
       "    <tr>\n",
       "      <th>4</th>\n",
       "      <td>00:14 -!- Gilgamesh [Gilgamesh@AN-nkf.mv0.se35...</td>\n",
       "      <td>2016-09-20</td>\n",
       "      <td>2016-09-20</td>\n",
       "    </tr>\n",
       "    <tr>\n",
       "      <th>...</th>\n",
       "      <td>...</td>\n",
       "      <td>...</td>\n",
       "      <td>...</td>\n",
       "    </tr>\n",
       "    <tr>\n",
       "      <th>478900</th>\n",
       "      <td>19:26 -!- hypnotic [hypnotic@One.Shot.One.Kill...</td>\n",
       "      <td>2018-04-30</td>\n",
       "      <td>2018-05-01</td>\n",
       "    </tr>\n",
       "    <tr>\n",
       "      <th>478901</th>\n",
       "      <td>19:29 &lt;+Cogitabundus&gt; Some like chaos.</td>\n",
       "      <td>2018-04-30</td>\n",
       "      <td>2018-05-01</td>\n",
       "    </tr>\n",
       "    <tr>\n",
       "      <th>478902</th>\n",
       "      <td>19:29 &lt;+Cogitabundus&gt; Oh they left.</td>\n",
       "      <td>2018-04-30</td>\n",
       "      <td>2018-05-01</td>\n",
       "    </tr>\n",
       "    <tr>\n",
       "      <th>478903</th>\n",
       "      <td>19:34 &lt; DeTH&gt; theres plenty of wreckless alpha...</td>\n",
       "      <td>2018-04-30</td>\n",
       "      <td>2018-05-01</td>\n",
       "    </tr>\n",
       "    <tr>\n",
       "      <th>478904</th>\n",
       "      <td>19:44 -!- anonym_boy [webirc@AN-elm.0o5.g90cf3...</td>\n",
       "      <td>2018-04-30</td>\n",
       "      <td>2018-05-01</td>\n",
       "    </tr>\n",
       "  </tbody>\n",
       "</table>\n",
       "<p>478905 rows × 3 columns</p>\n",
       "</div>"
      ],
      "text/plain": [
       "                                                        0     dayLog  \\\n",
       "0                         --- Day changed Tue Sep 20 2016        NaT   \n",
       "1                 --- Log opened Tue Sep 20 00:01:49 2016 2016-09-20   \n",
       "2       00:01 -!- Guest40341 [AndChat2541@AN-pl0gl1.8e... 2016-09-20   \n",
       "3       00:11 -!- peejr [peeejr@AN-sru.3ib.ec0efc.IP] ... 2016-09-20   \n",
       "4       00:14 -!- Gilgamesh [Gilgamesh@AN-nkf.mv0.se35... 2016-09-20   \n",
       "...                                                   ...        ...   \n",
       "478900  19:26 -!- hypnotic [hypnotic@One.Shot.One.Kill... 2018-04-30   \n",
       "478901             19:29 <+Cogitabundus> Some like chaos. 2018-04-30   \n",
       "478902                19:29 <+Cogitabundus> Oh they left. 2018-04-30   \n",
       "478903  19:34 < DeTH> theres plenty of wreckless alpha... 2018-04-30   \n",
       "478904  19:44 -!- anonym_boy [webirc@AN-elm.0o5.g90cf3... 2018-04-30   \n",
       "\n",
       "        dayChange  \n",
       "0      2016-09-20  \n",
       "1      2016-09-20  \n",
       "2      2016-09-20  \n",
       "3      2016-09-20  \n",
       "4      2016-09-20  \n",
       "...           ...  \n",
       "478900 2018-05-01  \n",
       "478901 2018-05-01  \n",
       "478902 2018-05-01  \n",
       "478903 2018-05-01  \n",
       "478904 2018-05-01  \n",
       "\n",
       "[478905 rows x 3 columns]"
      ]
     },
     "execution_count": 35,
     "metadata": {},
     "output_type": "execute_result"
    }
   ],
   "source": [
    "merged"
   ]
  },
  {
   "cell_type": "markdown",
   "metadata": {},
   "source": [
    "It might seem that both dates are same, but the DayChange is DayWise and changes each day, while the dayLog doesn't ... mean's it is not based on dayChange."
   ]
  },
  {
   "cell_type": "markdown",
   "metadata": {},
   "source": [
    "# "
   ]
  },
  {
   "cell_type": "markdown",
   "metadata": {},
   "source": [
    "### Now, Extraction of Types of messages\n",
    "If you see in the merge dataframe, there is only single column of things. Column `0`. It has ALL / EVERY information of whole log.\n",
    "\n",
    "Now it is my job to extract relavant information."
   ]
  },
  {
   "cell_type": "markdown",
   "metadata": {},
   "source": [
    "**Before moving forward:** I would like to make things clear that - this is the log of many groups and there are multiple actions inside of it. And each of them are with their our patterns. Some of the actions are:\n",
    "* Message sending\n",
    "* Joining the conversation\n",
    "* Leaving the conversation\n",
    "* Group names\n",
    "* Ip addresses\n",
    "* Changing the mode of group\n",
    "* Making someone an admin\n",
    "* Changing the name\n",
    "\n",
    "And couple of others... <br>\n",
    "—— <br>\n",
    "But here, I have selected THE MOST common and mostly done things: Joining, Changing name - and sending message.\n",
    "\n",
    "You can explore more on your own. But man! Just with these 3 things, Many many things are possible. <br> \n",
    "**Just keep scrolling!**"
   ]
  },
  {
   "cell_type": "code",
   "execution_count": 36,
   "metadata": {},
   "outputs": [],
   "source": [
    "# Rows with Notification (Join, Quit, Leave)\n",
    "_1 = merged.iloc[:, 0].str.extract(pat_Notification, flags= re.M|re.I)\n",
    "_1[\"dayLog\"] = merged.dayLog\n",
    "_1[\"dayChange\"] = merged.dayChange"
   ]
  },
  {
   "cell_type": "code",
   "execution_count": 37,
   "metadata": {},
   "outputs": [],
   "source": [
    "# Rows with Message send\n",
    "_2 = merged.iloc[:, 0].str.extract(pat_Chat, flags= re.I|re.M)\n",
    "_2[\"dayLog\"] = merged.dayLog\n",
    "_2[\"dayChange\"] = merged.dayChange"
   ]
  },
  {
   "cell_type": "code",
   "execution_count": 38,
   "metadata": {},
   "outputs": [],
   "source": [
    "# Rows with Renaming\n",
    "_3 = merged.iloc[:, 0].str.extract(pat_Known_as, flags= re.I|re.M)\n",
    "_3[\"dayLog\"] = merged.dayLog\n",
    "_3[\"dayChange\"] = merged.dayChange"
   ]
  },
  {
   "cell_type": "markdown",
   "metadata": {},
   "source": [
    "As I have told you, there are multiple things to be done but I have selected only 3. Now to prove that... see below ↓"
   ]
  },
  {
   "cell_type": "code",
   "execution_count": 39,
   "metadata": {},
   "outputs": [],
   "source": [
    "Not_match = data[(_1.isna().any(1) == _2.isna().any(1)) == _3.isna().any(1)]"
   ]
  },
  {
   "cell_type": "code",
   "execution_count": 40,
   "metadata": {},
   "outputs": [
    {
     "data": {
      "text/plain": [
       "3754"
      ]
     },
     "execution_count": 40,
     "metadata": {},
     "output_type": "execute_result"
    }
   ],
   "source": [
    "Not_match.size"
   ]
  },
  {
   "cell_type": "markdown",
   "metadata": {},
   "source": [
    "This shows that out of `4,78,905` rows of data these 3 things occupy 478905 - 3754 = `475151` rows!"
   ]
  },
  {
   "cell_type": "markdown",
   "metadata": {},
   "source": [
    "That means the rest of rows are just 3754, or - `0.78%` of total rows."
   ]
  },
  {
   "cell_type": "markdown",
   "metadata": {},
   "source": [
    "# "
   ]
  },
  {
   "cell_type": "code",
   "execution_count": 45,
   "metadata": {},
   "outputs": [],
   "source": [
    "# Renaming our DFs and dropping the un-necessary. \n",
    "Notifs = _1\n",
    "Chats = _2\n",
    "Renams = _3"
   ]
  },
  {
   "cell_type": "code",
   "execution_count": 46,
   "metadata": {},
   "outputs": [],
   "source": [
    "del _1; del _2; del _3"
   ]
  },
  {
   "cell_type": "markdown",
   "metadata": {},
   "source": [
    "# "
   ]
  },
  {
   "cell_type": "markdown",
   "metadata": {},
   "source": [
    "Renaming columns of each DF"
   ]
  },
  {
   "cell_type": "code",
   "execution_count": 48,
   "metadata": {},
   "outputs": [],
   "source": [
    "Notifs.columns = ['time', 'type', 'uname', 'ip', 'action', 'dayLog', 'dayChange']\n",
    "Notifs.dropna(inplace= True)\n",
    "Notifs.drop([\"type\", \"ip\"], axis= 1, inplace= True)"
   ]
  },
  {
   "cell_type": "markdown",
   "metadata": {},
   "source": [
    "###### "
   ]
  },
  {
   "cell_type": "code",
   "execution_count": 49,
   "metadata": {},
   "outputs": [],
   "source": [
    "Chats.columns = ['time', 'uname', 'message', 'dayLog', 'dayChange']\n",
    "Chats = Chats.dropna()"
   ]
  },
  {
   "cell_type": "markdown",
   "metadata": {},
   "source": [
    "###### "
   ]
  },
  {
   "cell_type": "code",
   "execution_count": 51,
   "metadata": {},
   "outputs": [],
   "source": [
    "Renams.columns = [\"time\", \"type\", \"old_name\", \"message\", \"_\", \"new_name\", 'dayLog', 'dayChange']\n",
    "Renams = Renams.dropna()"
   ]
  },
  {
   "cell_type": "markdown",
   "metadata": {},
   "source": [
    "###### "
   ]
  },
  {
   "cell_type": "markdown",
   "metadata": {},
   "source": [
    "# "
   ]
  },
  {
   "cell_type": "code",
   "execution_count": 53,
   "metadata": {},
   "outputs": [
    {
     "data": {
      "text/html": [
       "<div>\n",
       "<style scoped>\n",
       "    .dataframe tbody tr th:only-of-type {\n",
       "        vertical-align: middle;\n",
       "    }\n",
       "\n",
       "    .dataframe tbody tr th {\n",
       "        vertical-align: top;\n",
       "    }\n",
       "\n",
       "    .dataframe thead th {\n",
       "        text-align: right;\n",
       "    }\n",
       "</style>\n",
       "<table border=\"1\" class=\"dataframe\">\n",
       "  <thead>\n",
       "    <tr style=\"text-align: right;\">\n",
       "      <th></th>\n",
       "      <th>time</th>\n",
       "      <th>uname</th>\n",
       "      <th>action</th>\n",
       "      <th>dayLog</th>\n",
       "      <th>dayChange</th>\n",
       "    </tr>\n",
       "  </thead>\n",
       "  <tbody>\n",
       "    <tr>\n",
       "      <th>239231</th>\n",
       "      <td>03:49</td>\n",
       "      <td>hasNoClue</td>\n",
       "      <td>has quit [Client exited]</td>\n",
       "      <td>2017-05-03</td>\n",
       "      <td>2017-05-04</td>\n",
       "    </tr>\n",
       "    <tr>\n",
       "      <th>404311</th>\n",
       "      <td>12:01</td>\n",
       "      <td>yasbarh</td>\n",
       "      <td>has quit [Quit: Page closed]</td>\n",
       "      <td>2017-12-11</td>\n",
       "      <td>2017-12-12</td>\n",
       "    </tr>\n",
       "    <tr>\n",
       "      <th>207781</th>\n",
       "      <td>18:22</td>\n",
       "      <td>xAcex</td>\n",
       "      <td>has quit [Connection closed]</td>\n",
       "      <td>2017-04-02</td>\n",
       "      <td>2017-04-03</td>\n",
       "    </tr>\n",
       "  </tbody>\n",
       "</table>\n",
       "</div>"
      ],
      "text/plain": [
       "         time      uname                        action     dayLog  dayChange\n",
       "239231  03:49  hasNoClue      has quit [Client exited] 2017-05-03 2017-05-04\n",
       "404311  12:01    yasbarh  has quit [Quit: Page closed] 2017-12-11 2017-12-12\n",
       "207781  18:22      xAcex  has quit [Connection closed] 2017-04-02 2017-04-03"
      ]
     },
     "execution_count": 53,
     "metadata": {},
     "output_type": "execute_result"
    }
   ],
   "source": [
    "Notifs.sample(3)"
   ]
  },
  {
   "cell_type": "code",
   "execution_count": 54,
   "metadata": {},
   "outputs": [
    {
     "data": {
      "text/html": [
       "<div>\n",
       "<style scoped>\n",
       "    .dataframe tbody tr th:only-of-type {\n",
       "        vertical-align: middle;\n",
       "    }\n",
       "\n",
       "    .dataframe tbody tr th {\n",
       "        vertical-align: top;\n",
       "    }\n",
       "\n",
       "    .dataframe thead th {\n",
       "        text-align: right;\n",
       "    }\n",
       "</style>\n",
       "<table border=\"1\" class=\"dataframe\">\n",
       "  <thead>\n",
       "    <tr style=\"text-align: right;\">\n",
       "      <th></th>\n",
       "      <th>time</th>\n",
       "      <th>uname</th>\n",
       "      <th>message</th>\n",
       "      <th>dayLog</th>\n",
       "      <th>dayChange</th>\n",
       "    </tr>\n",
       "  </thead>\n",
       "  <tbody>\n",
       "    <tr>\n",
       "      <th>331315</th>\n",
       "      <td>03:53</td>\n",
       "      <td>&lt;+evilbot&gt;</td>\n",
       "      <td>hashcatplus - a GPGPU-based multi-hash cracker</td>\n",
       "      <td>2017-08-22</td>\n",
       "      <td>2017-08-23</td>\n",
       "    </tr>\n",
       "    <tr>\n",
       "      <th>39659</th>\n",
       "      <td>00:50</td>\n",
       "      <td>&lt; Shaitan&gt;</td>\n",
       "      <td>thats cool, i dont judge anybody or anything, ...</td>\n",
       "      <td>2016-10-17</td>\n",
       "      <td>2016-10-19</td>\n",
       "    </tr>\n",
       "    <tr>\n",
       "      <th>93254</th>\n",
       "      <td>17:47</td>\n",
       "      <td>&lt; catface&gt;</td>\n",
       "      <td>\"defcon sql\" its being hosted by a black guy</td>\n",
       "      <td>2016-11-21</td>\n",
       "      <td>2016-11-21</td>\n",
       "    </tr>\n",
       "  </tbody>\n",
       "</table>\n",
       "</div>"
      ],
      "text/plain": [
       "         time       uname                                            message  \\\n",
       "331315  03:53  <+evilbot>     hashcatplus - a GPGPU-based multi-hash cracker   \n",
       "39659   00:50  < Shaitan>  thats cool, i dont judge anybody or anything, ...   \n",
       "93254   17:47  < catface>       \"defcon sql\" its being hosted by a black guy   \n",
       "\n",
       "           dayLog  dayChange  \n",
       "331315 2017-08-22 2017-08-23  \n",
       "39659  2016-10-17 2016-10-19  \n",
       "93254  2016-11-21 2016-11-21  "
      ]
     },
     "execution_count": 54,
     "metadata": {},
     "output_type": "execute_result"
    }
   ],
   "source": [
    "Chats.sample(3)"
   ]
  },
  {
   "cell_type": "code",
   "execution_count": 55,
   "metadata": {},
   "outputs": [
    {
     "data": {
      "text/html": [
       "<div>\n",
       "<style scoped>\n",
       "    .dataframe tbody tr th:only-of-type {\n",
       "        vertical-align: middle;\n",
       "    }\n",
       "\n",
       "    .dataframe tbody tr th {\n",
       "        vertical-align: top;\n",
       "    }\n",
       "\n",
       "    .dataframe thead th {\n",
       "        text-align: right;\n",
       "    }\n",
       "</style>\n",
       "<table border=\"1\" class=\"dataframe\">\n",
       "  <thead>\n",
       "    <tr style=\"text-align: right;\">\n",
       "      <th></th>\n",
       "      <th>time</th>\n",
       "      <th>type</th>\n",
       "      <th>old_name</th>\n",
       "      <th>message</th>\n",
       "      <th>_</th>\n",
       "      <th>new_name</th>\n",
       "      <th>dayLog</th>\n",
       "      <th>dayChange</th>\n",
       "    </tr>\n",
       "  </thead>\n",
       "  <tbody>\n",
       "    <tr>\n",
       "      <th>334300</th>\n",
       "      <td>17:59</td>\n",
       "      <td>-!-</td>\n",
       "      <td>Garb-Anti-Odor</td>\n",
       "      <td>is now known as</td>\n",
       "      <td>is</td>\n",
       "      <td>Cheseburger</td>\n",
       "      <td>2017-08-26</td>\n",
       "      <td>2017-08-27</td>\n",
       "    </tr>\n",
       "    <tr>\n",
       "      <th>437556</th>\n",
       "      <td>10:40</td>\n",
       "      <td>-!-</td>\n",
       "      <td>Guest11299</td>\n",
       "      <td>is now known as</td>\n",
       "      <td>is</td>\n",
       "      <td>fried_potato</td>\n",
       "      <td>2018-02-18</td>\n",
       "      <td>2018-02-19</td>\n",
       "    </tr>\n",
       "    <tr>\n",
       "      <th>254543</th>\n",
       "      <td>15:44</td>\n",
       "      <td>-!-</td>\n",
       "      <td>[S]</td>\n",
       "      <td>is now known as</td>\n",
       "      <td>is</td>\n",
       "      <td>Guest43023</td>\n",
       "      <td>2017-05-19</td>\n",
       "      <td>2017-05-20</td>\n",
       "    </tr>\n",
       "  </tbody>\n",
       "</table>\n",
       "</div>"
      ],
      "text/plain": [
       "         time   type        old_name            message    _      new_name  \\\n",
       "334300  17:59   -!-   Garb-Anti-Odor   is now known as   is    Cheseburger   \n",
       "437556  10:40   -!-       Guest11299   is now known as   is   fried_potato   \n",
       "254543  15:44   -!-              [S]   is now known as   is     Guest43023   \n",
       "\n",
       "           dayLog  dayChange  \n",
       "334300 2017-08-26 2017-08-27  \n",
       "437556 2018-02-18 2018-02-19  \n",
       "254543 2017-05-19 2017-05-20  "
      ]
     },
     "execution_count": 55,
     "metadata": {},
     "output_type": "execute_result"
    }
   ],
   "source": [
    "Renams.sample(3)"
   ]
  },
  {
   "cell_type": "markdown",
   "metadata": {},
   "source": [
    "Now, if you see - we hae 'time' column in very first of each df, that is time - but it is without the information of date. \n",
    "\n",
    "In the further exploration and operations we need the date info attatched with that time to aviod the time operlapping issues."
   ]
  },
  {
   "cell_type": "code",
   "execution_count": 56,
   "metadata": {},
   "outputs": [],
   "source": [
    "# Creating a function to merge time and date\n",
    "def merge_time(time_date):\n",
    "    time = time_date[0]\n",
    "    date = time_date[1].strftime(\"%Y-%m-%d\")\n",
    "    merged = datetime.strptime(date + ' ' + time, \"%Y-%m-%d %H:%M\")\n",
    "    return merged"
   ]
  },
  {
   "cell_type": "code",
   "execution_count": 57,
   "metadata": {},
   "outputs": [],
   "source": [
    "Chats.time = Chats[['time', 'dayChange']].apply(merge_time, axis= 1)"
   ]
  },
  {
   "cell_type": "code",
   "execution_count": 58,
   "metadata": {},
   "outputs": [],
   "source": [
    "Notifs.time = Notifs[['time', 'dayChange']].apply(merge_time, axis= 1)"
   ]
  },
  {
   "cell_type": "code",
   "execution_count": 59,
   "metadata": {},
   "outputs": [],
   "source": [
    "Renams.time = Renams[['time', 'dayChange']].apply(merge_time, axis= 1)"
   ]
  },
  {
   "cell_type": "markdown",
   "metadata": {},
   "source": [
    "##### Easy! "
   ]
  },
  {
   "cell_type": "markdown",
   "metadata": {},
   "source": [
    "# "
   ]
  },
  {
   "cell_type": "markdown",
   "metadata": {},
   "source": [
    "## Now main tables that we have are Chats and Notifs"
   ]
  },
  {
   "cell_type": "markdown",
   "metadata": {},
   "source": [
    "`Chats` represent the messages transferred on that day and `Notifs` informs who joind on that day"
   ]
  },
  {
   "cell_type": "code",
   "execution_count": 244,
   "metadata": {},
   "outputs": [
    {
     "data": {
      "text/html": [
       "<div>\n",
       "<style scoped>\n",
       "    .dataframe tbody tr th:only-of-type {\n",
       "        vertical-align: middle;\n",
       "    }\n",
       "\n",
       "    .dataframe tbody tr th {\n",
       "        vertical-align: top;\n",
       "    }\n",
       "\n",
       "    .dataframe thead th {\n",
       "        text-align: right;\n",
       "    }\n",
       "</style>\n",
       "<table border=\"1\" class=\"dataframe\">\n",
       "  <thead>\n",
       "    <tr style=\"text-align: right;\">\n",
       "      <th></th>\n",
       "      <th>time</th>\n",
       "      <th>uname</th>\n",
       "      <th>message</th>\n",
       "      <th>dayLog</th>\n",
       "      <th>dayChange</th>\n",
       "    </tr>\n",
       "  </thead>\n",
       "  <tbody>\n",
       "    <tr>\n",
       "      <th>99811</th>\n",
       "      <td>2016-11-26 15:51:00</td>\n",
       "      <td>&lt;@guapo&gt;</td>\n",
       "      <td>applepie: I guess that you will never lend you...</td>\n",
       "      <td>2016-11-23</td>\n",
       "      <td>2016-11-26</td>\n",
       "    </tr>\n",
       "    <tr>\n",
       "      <th>154015</th>\n",
       "      <td>2017-01-31 00:04:00</td>\n",
       "      <td>&lt; blueandnew&gt;</td>\n",
       "      <td>i cant have more than 10 tabs opeb</td>\n",
       "      <td>2017-01-30</td>\n",
       "      <td>2017-01-31</td>\n",
       "    </tr>\n",
       "    <tr>\n",
       "      <th>6357</th>\n",
       "      <td>2016-09-25 01:18:00</td>\n",
       "      <td>&lt;+evilbot&gt;</td>\n",
       "      <td>maltego - an open source intelligence and fore...</td>\n",
       "      <td>2016-09-22</td>\n",
       "      <td>2016-09-25</td>\n",
       "    </tr>\n",
       "    <tr>\n",
       "      <th>458671</th>\n",
       "      <td>2018-03-22 00:27:00</td>\n",
       "      <td>&lt; intravenous&gt;</td>\n",
       "      <td>ok</td>\n",
       "      <td>2018-03-21</td>\n",
       "      <td>2018-03-22</td>\n",
       "    </tr>\n",
       "    <tr>\n",
       "      <th>61519</th>\n",
       "      <td>2016-11-03 00:49:00</td>\n",
       "      <td>&lt;@guapo&gt;</td>\n",
       "      <td>lol</td>\n",
       "      <td>2016-11-01</td>\n",
       "      <td>2016-11-03</td>\n",
       "    </tr>\n",
       "  </tbody>\n",
       "</table>\n",
       "</div>"
      ],
      "text/plain": [
       "                      time           uname  \\\n",
       "99811  2016-11-26 15:51:00        <@guapo>   \n",
       "154015 2017-01-31 00:04:00   < blueandnew>   \n",
       "6357   2016-09-25 01:18:00      <+evilbot>   \n",
       "458671 2018-03-22 00:27:00  < intravenous>   \n",
       "61519  2016-11-03 00:49:00        <@guapo>   \n",
       "\n",
       "                                                  message     dayLog  \\\n",
       "99811   applepie: I guess that you will never lend you... 2016-11-23   \n",
       "154015                 i cant have more than 10 tabs opeb 2017-01-30   \n",
       "6357    maltego - an open source intelligence and fore... 2016-09-22   \n",
       "458671                                                 ok 2018-03-21   \n",
       "61519                                                 lol 2016-11-01   \n",
       "\n",
       "        dayChange  \n",
       "99811  2016-11-26  \n",
       "154015 2017-01-31  \n",
       "6357   2016-09-25  \n",
       "458671 2018-03-22  \n",
       "61519  2016-11-03  "
      ]
     },
     "execution_count": 244,
     "metadata": {},
     "output_type": "execute_result"
    }
   ],
   "source": [
    "Chats.sample(5)"
   ]
  },
  {
   "cell_type": "code",
   "execution_count": 245,
   "metadata": {},
   "outputs": [
    {
     "data": {
      "text/html": [
       "<div>\n",
       "<style scoped>\n",
       "    .dataframe tbody tr th:only-of-type {\n",
       "        vertical-align: middle;\n",
       "    }\n",
       "\n",
       "    .dataframe tbody tr th {\n",
       "        vertical-align: top;\n",
       "    }\n",
       "\n",
       "    .dataframe thead th {\n",
       "        text-align: right;\n",
       "    }\n",
       "</style>\n",
       "<table border=\"1\" class=\"dataframe\">\n",
       "  <thead>\n",
       "    <tr style=\"text-align: right;\">\n",
       "      <th></th>\n",
       "      <th>time</th>\n",
       "      <th>uname</th>\n",
       "      <th>action</th>\n",
       "      <th>dayLog</th>\n",
       "      <th>dayChange</th>\n",
       "    </tr>\n",
       "  </thead>\n",
       "  <tbody>\n",
       "    <tr>\n",
       "      <th>147192</th>\n",
       "      <td>2017-01-22 02:15:00</td>\n",
       "      <td>Freak</td>\n",
       "      <td>has quit [Ping timeout: 121 seconds]</td>\n",
       "      <td>2017-01-21</td>\n",
       "      <td>2017-01-22</td>\n",
       "    </tr>\n",
       "    <tr>\n",
       "      <th>149990</th>\n",
       "      <td>2017-01-25 17:39:00</td>\n",
       "      <td>mugg</td>\n",
       "      <td>has joined #hackers</td>\n",
       "      <td>2017-01-24</td>\n",
       "      <td>2017-01-25</td>\n",
       "    </tr>\n",
       "    <tr>\n",
       "      <th>216349</th>\n",
       "      <td>2017-04-13 00:40:00</td>\n",
       "      <td>kaijectorsf</td>\n",
       "      <td>has joined #hackers</td>\n",
       "      <td>2017-04-12</td>\n",
       "      <td>2017-04-13</td>\n",
       "    </tr>\n",
       "    <tr>\n",
       "      <th>473812</th>\n",
       "      <td>2018-04-22 20:44:00</td>\n",
       "      <td>lonelykiller</td>\n",
       "      <td>has joined #hackers</td>\n",
       "      <td>2018-04-21</td>\n",
       "      <td>2018-04-22</td>\n",
       "    </tr>\n",
       "    <tr>\n",
       "      <th>456957</th>\n",
       "      <td>2018-03-19 18:46:00</td>\n",
       "      <td>moyless4p3y</td>\n",
       "      <td>has quit [Connection closed]</td>\n",
       "      <td>2018-03-18</td>\n",
       "      <td>2018-03-19</td>\n",
       "    </tr>\n",
       "  </tbody>\n",
       "</table>\n",
       "</div>"
      ],
      "text/plain": [
       "                      time         uname  \\\n",
       "147192 2017-01-22 02:15:00         Freak   \n",
       "149990 2017-01-25 17:39:00          mugg   \n",
       "216349 2017-04-13 00:40:00   kaijectorsf   \n",
       "473812 2018-04-22 20:44:00  lonelykiller   \n",
       "456957 2018-03-19 18:46:00   moyless4p3y   \n",
       "\n",
       "                                      action     dayLog  dayChange  \n",
       "147192  has quit [Ping timeout: 121 seconds] 2017-01-21 2017-01-22  \n",
       "149990                   has joined #hackers 2017-01-24 2017-01-25  \n",
       "216349                   has joined #hackers 2017-04-12 2017-04-13  \n",
       "473812                   has joined #hackers 2018-04-21 2018-04-22  \n",
       "456957          has quit [Connection closed] 2018-03-18 2018-03-19  "
      ]
     },
     "execution_count": 245,
     "metadata": {},
     "output_type": "execute_result"
    }
   ],
   "source": [
    "Notifs.sample(5)"
   ]
  },
  {
   "cell_type": "markdown",
   "metadata": {},
   "source": [
    "# "
   ]
  },
  {
   "cell_type": "markdown",
   "metadata": {},
   "source": [
    "# <font face=\"neuville\" style=\"font-size:100px\"> <center> Starting Analysis </center> </font>"
   ]
  },
  {
   "cell_type": "markdown",
   "metadata": {},
   "source": [
    "**NOTE** -- Please -- **NOTE** <br>\n",
    "The following codes are SO COMPUTATIONLY INTENSIVE. So I suggest to Download the ready file from [here](https://1drv.ms/u/s!AvfjgvTsKfX4jS_tNCG138WNvymv?e=iIbpn5) and then write the code like...  (file size is approx: 180 MB)\n",
    "\n",
    "```python\n",
    "with pd.HDFStore('./pre_computed.h5') as file:\n",
    "    print(file.keys())\n",
    "```\n",
    "\n",
    "The expression above will show all keys in that file. Then store as in your variables are they needed. Access them in this way...\n",
    "\n",
    "```python\n",
    "df_name = file['key']\n",
    "```\n",
    "\n",
    "Now, not in all code you will need to fetch the data, you can run them too. I will note `OKAY TO RUN` or `DON'T` RUN respectively."
   ]
  },
  {
   "cell_type": "markdown",
   "metadata": {},
   "source": [
    "# "
   ]
  },
  {
   "cell_type": "markdown",
   "metadata": {},
   "source": [
    "# Q1. Number of people who Joined BUT hadn't Written anything"
   ]
  },
  {
   "cell_type": "markdown",
   "metadata": {},
   "source": [
    "This means those people who are in there when the log / session started - but they didn't write anything or sent any message during that log. So... here is how it goes."
   ]
  },
  {
   "cell_type": "code",
   "execution_count": 61,
   "metadata": {},
   "outputs": [
    {
     "data": {
      "text/plain": [
       "dayLog\n",
       "2016-09-20    [Guest40341, peejr, Gilgamesh, _CyBruh_, Bobse...\n",
       "2016-09-22    [ranbo2, emmaaa, Trionex_, bigbadwolf, razepun...\n",
       "2016-09-26    [ranbo2, pr0m37h3u5, pokefucker, gmago, Numb3r...\n",
       "2016-09-28    [ranbo2, Winston, Guest54480, Nitr0, Moriarty,...\n",
       "2016-09-30    [ranbo2, gre1v__, gre1v___, Mavis, fatbedridde...\n",
       "                                    ...                        \n",
       "2018-04-26    [ranbo2, fleming, systemd, twelve, mode/#hacke...\n",
       "2018-04-27    [ranbo2, Hex, sheldon, Llocker, multijust, Joh...\n",
       "2018-04-28    [ranbo2, Bl4xPirat3_CreW, Bl4xPirat3_CreW_, TH...\n",
       "2018-04-29    [ranbo2, twelve, maxmuster, dobs, Nitr0, DJDiv...\n",
       "2018-04-30    [ranbo2, Sho_0e, sho_0es, psouth_, maxmuster, ...\n",
       "Name: uname, Length: 491, dtype: object"
      ]
     },
     "execution_count": 61,
     "metadata": {},
     "output_type": "execute_result"
    }
   ],
   "source": [
    "'OKAY TO RUN'\n",
    "# Daywise grouping unique names who JOINED\n",
    "daywise_notifs = Notifs.groupby(\"dayLog\")['uname'].apply(lambda g: g.unique())\n",
    "daywise_notifs"
   ]
  },
  {
   "cell_type": "code",
   "execution_count": 62,
   "metadata": {},
   "outputs": [
    {
     "data": {
      "text/plain": [
       "dayLog\n",
       "2016-09-20    [< ice231>, < HeavenGuard>, <+nemecy>, < Ctrl>...\n",
       "2016-09-22    [<+nemecy>, < crackerjax>, < Iron1>, < doxer>,...\n",
       "2016-09-26    [< pr0m37h3u5>, < pokefucker>, < keddy>, <%gua...\n",
       "2016-09-28    [< sTrikEforCe>, < Winston>, < Demand>, <+evil...\n",
       "2016-09-30    [< gr1ev>, < Moriarty>, < dedocne>, <@phusion>...\n",
       "                                    ...                        \n",
       "2018-04-26    [< acab>, < AnonSF>, < xData>, <%twelve>, < DJ...\n",
       "2018-04-27    [< Guest5741>, < nemesys>, < alan>, < Zer0NetP...\n",
       "2018-04-28    [< Bl4xPirat3_CreW>, <%twelve>, < lazarus>, < ...\n",
       "2018-04-29    [< nemesys>, < maxmuster>, < CedEagle09>, < la...\n",
       "2018-04-30    [< FreeAnons-089>, < BeatbyAnonymous>, < tobi>...\n",
       "Name: uname, Length: 491, dtype: object"
      ]
     },
     "execution_count": 62,
     "metadata": {},
     "output_type": "execute_result"
    }
   ],
   "source": [
    "'OKAY TO RUN'\n",
    "# day wise users who CHATTED\n",
    "daywise_chats = Chats.groupby(\"dayLog\")['uname'].apply(lambda g: g.unique())\n",
    "daywise_chats"
   ]
  },
  {
   "cell_type": "code",
   "execution_count": 63,
   "metadata": {},
   "outputs": [
    {
     "data": {
      "text/html": [
       "<div>\n",
       "<style scoped>\n",
       "    .dataframe tbody tr th:only-of-type {\n",
       "        vertical-align: middle;\n",
       "    }\n",
       "\n",
       "    .dataframe tbody tr th {\n",
       "        vertical-align: top;\n",
       "    }\n",
       "\n",
       "    .dataframe thead th {\n",
       "        text-align: right;\n",
       "    }\n",
       "</style>\n",
       "<table border=\"1\" class=\"dataframe\">\n",
       "  <thead>\n",
       "    <tr style=\"text-align: right;\">\n",
       "      <th></th>\n",
       "      <th>joined</th>\n",
       "      <th>chatted</th>\n",
       "    </tr>\n",
       "    <tr>\n",
       "      <th>dayLog</th>\n",
       "      <th></th>\n",
       "      <th></th>\n",
       "    </tr>\n",
       "  </thead>\n",
       "  <tbody>\n",
       "    <tr>\n",
       "      <th>2016-09-20</th>\n",
       "      <td>[Guest40341, peejr, Gilgamesh, _CyBruh_, Bobse...</td>\n",
       "      <td>[&lt; ice231&gt;, &lt; HeavenGuard&gt;, &lt;+nemecy&gt;, &lt; Ctrl&gt;...</td>\n",
       "    </tr>\n",
       "    <tr>\n",
       "      <th>2016-09-22</th>\n",
       "      <td>[ranbo2, emmaaa, Trionex_, bigbadwolf, razepun...</td>\n",
       "      <td>[&lt;+nemecy&gt;, &lt; crackerjax&gt;, &lt; Iron1&gt;, &lt; doxer&gt;,...</td>\n",
       "    </tr>\n",
       "    <tr>\n",
       "      <th>2016-09-26</th>\n",
       "      <td>[ranbo2, pr0m37h3u5, pokefucker, gmago, Numb3r...</td>\n",
       "      <td>[&lt; pr0m37h3u5&gt;, &lt; pokefucker&gt;, &lt; keddy&gt;, &lt;%gua...</td>\n",
       "    </tr>\n",
       "    <tr>\n",
       "      <th>2016-09-28</th>\n",
       "      <td>[ranbo2, Winston, Guest54480, Nitr0, Moriarty,...</td>\n",
       "      <td>[&lt; sTrikEforCe&gt;, &lt; Winston&gt;, &lt; Demand&gt;, &lt;+evil...</td>\n",
       "    </tr>\n",
       "    <tr>\n",
       "      <th>2016-09-30</th>\n",
       "      <td>[ranbo2, gre1v__, gre1v___, Mavis, fatbedridde...</td>\n",
       "      <td>[&lt; gr1ev&gt;, &lt; Moriarty&gt;, &lt; dedocne&gt;, &lt;@phusion&gt;...</td>\n",
       "    </tr>\n",
       "    <tr>\n",
       "      <th>...</th>\n",
       "      <td>...</td>\n",
       "      <td>...</td>\n",
       "    </tr>\n",
       "    <tr>\n",
       "      <th>2018-04-26</th>\n",
       "      <td>[ranbo2, fleming, systemd, twelve, mode/#hacke...</td>\n",
       "      <td>[&lt; acab&gt;, &lt; AnonSF&gt;, &lt; xData&gt;, &lt;%twelve&gt;, &lt; DJ...</td>\n",
       "    </tr>\n",
       "    <tr>\n",
       "      <th>2018-04-27</th>\n",
       "      <td>[ranbo2, Hex, sheldon, Llocker, multijust, Joh...</td>\n",
       "      <td>[&lt; Guest5741&gt;, &lt; nemesys&gt;, &lt; alan&gt;, &lt; Zer0NetP...</td>\n",
       "    </tr>\n",
       "    <tr>\n",
       "      <th>2018-04-28</th>\n",
       "      <td>[ranbo2, Bl4xPirat3_CreW, Bl4xPirat3_CreW_, TH...</td>\n",
       "      <td>[&lt; Bl4xPirat3_CreW&gt;, &lt;%twelve&gt;, &lt; lazarus&gt;, &lt; ...</td>\n",
       "    </tr>\n",
       "    <tr>\n",
       "      <th>2018-04-29</th>\n",
       "      <td>[ranbo2, twelve, maxmuster, dobs, Nitr0, DJDiv...</td>\n",
       "      <td>[&lt; nemesys&gt;, &lt; maxmuster&gt;, &lt; CedEagle09&gt;, &lt; la...</td>\n",
       "    </tr>\n",
       "    <tr>\n",
       "      <th>2018-04-30</th>\n",
       "      <td>[ranbo2, Sho_0e, sho_0es, psouth_, maxmuster, ...</td>\n",
       "      <td>[&lt; FreeAnons-089&gt;, &lt; BeatbyAnonymous&gt;, &lt; tobi&gt;...</td>\n",
       "    </tr>\n",
       "  </tbody>\n",
       "</table>\n",
       "<p>491 rows × 2 columns</p>\n",
       "</div>"
      ],
      "text/plain": [
       "                                                       joined  \\\n",
       "dayLog                                                          \n",
       "2016-09-20  [Guest40341, peejr, Gilgamesh, _CyBruh_, Bobse...   \n",
       "2016-09-22  [ranbo2, emmaaa, Trionex_, bigbadwolf, razepun...   \n",
       "2016-09-26  [ranbo2, pr0m37h3u5, pokefucker, gmago, Numb3r...   \n",
       "2016-09-28  [ranbo2, Winston, Guest54480, Nitr0, Moriarty,...   \n",
       "2016-09-30  [ranbo2, gre1v__, gre1v___, Mavis, fatbedridde...   \n",
       "...                                                       ...   \n",
       "2018-04-26  [ranbo2, fleming, systemd, twelve, mode/#hacke...   \n",
       "2018-04-27  [ranbo2, Hex, sheldon, Llocker, multijust, Joh...   \n",
       "2018-04-28  [ranbo2, Bl4xPirat3_CreW, Bl4xPirat3_CreW_, TH...   \n",
       "2018-04-29  [ranbo2, twelve, maxmuster, dobs, Nitr0, DJDiv...   \n",
       "2018-04-30  [ranbo2, Sho_0e, sho_0es, psouth_, maxmuster, ...   \n",
       "\n",
       "                                                      chatted  \n",
       "dayLog                                                         \n",
       "2016-09-20  [< ice231>, < HeavenGuard>, <+nemecy>, < Ctrl>...  \n",
       "2016-09-22  [<+nemecy>, < crackerjax>, < Iron1>, < doxer>,...  \n",
       "2016-09-26  [< pr0m37h3u5>, < pokefucker>, < keddy>, <%gua...  \n",
       "2016-09-28  [< sTrikEforCe>, < Winston>, < Demand>, <+evil...  \n",
       "2016-09-30  [< gr1ev>, < Moriarty>, < dedocne>, <@phusion>...  \n",
       "...                                                       ...  \n",
       "2018-04-26  [< acab>, < AnonSF>, < xData>, <%twelve>, < DJ...  \n",
       "2018-04-27  [< Guest5741>, < nemesys>, < alan>, < Zer0NetP...  \n",
       "2018-04-28  [< Bl4xPirat3_CreW>, <%twelve>, < lazarus>, < ...  \n",
       "2018-04-29  [< nemesys>, < maxmuster>, < CedEagle09>, < la...  \n",
       "2018-04-30  [< FreeAnons-089>, < BeatbyAnonymous>, < tobi>...  \n",
       "\n",
       "[491 rows x 2 columns]"
      ]
     },
     "execution_count": 63,
     "metadata": {},
     "output_type": "execute_result"
    }
   ],
   "source": [
    "'OKAY TO RUN'\n",
    "# Now making the df together\n",
    "dayWise = pd.concat([daywise_notifs.rename(\"joined\"), daywise_chats.rename(\"chatted\")], axis= 1)\n",
    "dayWise"
   ]
  },
  {
   "cell_type": "code",
   "execution_count": 64,
   "metadata": {},
   "outputs": [],
   "source": [
    "# Making a function to get the difference\n",
    "def check_if(both_names):\n",
    "    join_names = both_names[0]\n",
    "    chat_names = both_names[1]\n",
    "    return pd.Series([len(join_names), len(chat_names), len(join_names) - len(chat_names)], index= [\"Joined\", \"Chatted\", \"Not_Chatted\"])"
   ]
  },
  {
   "cell_type": "code",
   "execution_count": 65,
   "metadata": {},
   "outputs": [
    {
     "data": {
      "text/html": [
       "<div>\n",
       "<style scoped>\n",
       "    .dataframe tbody tr th:only-of-type {\n",
       "        vertical-align: middle;\n",
       "    }\n",
       "\n",
       "    .dataframe tbody tr th {\n",
       "        vertical-align: top;\n",
       "    }\n",
       "\n",
       "    .dataframe thead th {\n",
       "        text-align: right;\n",
       "    }\n",
       "</style>\n",
       "<table border=\"1\" class=\"dataframe\">\n",
       "  <thead>\n",
       "    <tr style=\"text-align: right;\">\n",
       "      <th></th>\n",
       "      <th>Joined</th>\n",
       "      <th>Chatted</th>\n",
       "      <th>Not_Chatted</th>\n",
       "    </tr>\n",
       "    <tr>\n",
       "      <th>dayLog</th>\n",
       "      <th></th>\n",
       "      <th></th>\n",
       "      <th></th>\n",
       "    </tr>\n",
       "  </thead>\n",
       "  <tbody>\n",
       "    <tr>\n",
       "      <th>2016-09-20</th>\n",
       "      <td>332</td>\n",
       "      <td>99</td>\n",
       "      <td>233</td>\n",
       "    </tr>\n",
       "    <tr>\n",
       "      <th>2016-09-22</th>\n",
       "      <td>394</td>\n",
       "      <td>115</td>\n",
       "      <td>279</td>\n",
       "    </tr>\n",
       "    <tr>\n",
       "      <th>2016-09-26</th>\n",
       "      <td>274</td>\n",
       "      <td>82</td>\n",
       "      <td>192</td>\n",
       "    </tr>\n",
       "    <tr>\n",
       "      <th>2016-09-28</th>\n",
       "      <td>250</td>\n",
       "      <td>66</td>\n",
       "      <td>184</td>\n",
       "    </tr>\n",
       "    <tr>\n",
       "      <th>2016-09-30</th>\n",
       "      <td>338</td>\n",
       "      <td>109</td>\n",
       "      <td>229</td>\n",
       "    </tr>\n",
       "    <tr>\n",
       "      <th>...</th>\n",
       "      <td>...</td>\n",
       "      <td>...</td>\n",
       "      <td>...</td>\n",
       "    </tr>\n",
       "    <tr>\n",
       "      <th>2018-04-26</th>\n",
       "      <td>88</td>\n",
       "      <td>18</td>\n",
       "      <td>70</td>\n",
       "    </tr>\n",
       "    <tr>\n",
       "      <th>2018-04-27</th>\n",
       "      <td>80</td>\n",
       "      <td>23</td>\n",
       "      <td>57</td>\n",
       "    </tr>\n",
       "    <tr>\n",
       "      <th>2018-04-28</th>\n",
       "      <td>87</td>\n",
       "      <td>22</td>\n",
       "      <td>65</td>\n",
       "    </tr>\n",
       "    <tr>\n",
       "      <th>2018-04-29</th>\n",
       "      <td>85</td>\n",
       "      <td>27</td>\n",
       "      <td>58</td>\n",
       "    </tr>\n",
       "    <tr>\n",
       "      <th>2018-04-30</th>\n",
       "      <td>94</td>\n",
       "      <td>15</td>\n",
       "      <td>79</td>\n",
       "    </tr>\n",
       "  </tbody>\n",
       "</table>\n",
       "<p>491 rows × 3 columns</p>\n",
       "</div>"
      ],
      "text/plain": [
       "            Joined  Chatted  Not_Chatted\n",
       "dayLog                                  \n",
       "2016-09-20     332       99          233\n",
       "2016-09-22     394      115          279\n",
       "2016-09-26     274       82          192\n",
       "2016-09-28     250       66          184\n",
       "2016-09-30     338      109          229\n",
       "...            ...      ...          ...\n",
       "2018-04-26      88       18           70\n",
       "2018-04-27      80       23           57\n",
       "2018-04-28      87       22           65\n",
       "2018-04-29      85       27           58\n",
       "2018-04-30      94       15           79\n",
       "\n",
       "[491 rows x 3 columns]"
      ]
     },
     "execution_count": 65,
     "metadata": {},
     "output_type": "execute_result"
    }
   ],
   "source": [
    "'OKAY TO RUN'\n",
    "Not_chatted = dayWise.apply(check_if, axis= 1)\n",
    "Not_chatted"
   ]
  },
  {
   "cell_type": "markdown",
   "metadata": {},
   "source": [
    "This ↑ shows the day wise how many joind, chatted and how many didn't chat."
   ]
  },
  {
   "cell_type": "markdown",
   "metadata": {},
   "source": [
    "### \"Not Chatters\" day wise"
   ]
  },
  {
   "cell_type": "code",
   "execution_count": 251,
   "metadata": {},
   "outputs": [
    {
     "data": {
      "text/plain": [
       "<AxesSubplot:>"
      ]
     },
     "execution_count": 251,
     "metadata": {},
     "output_type": "execute_result"
    },
    {
     "data": {
      "image/png": "[encoded data removed]",
      "text/plain": [
       "<Figure size 432x288 with 1 Axes>"
      ]
     },
     "metadata": {
      "needs_background": "light"
     },
     "output_type": "display_data"
    }
   ],
   "source": [
    "Not_chatted.groupby(lambda date: date.day_name()).Not_Chatted.mean().sort_values().plot(kind= \"bar\")"
   ]
  },
  {
   "cell_type": "markdown",
   "metadata": {},
   "source": [
    "There is not a strong trend, NOT CHATTERS are less on Saturday which might make sense because they used to chat with others more on sat - on weekend and having time... (this is not for normal people though - it is hackers by the way!) "
   ]
  },
  {
   "cell_type": "markdown",
   "metadata": {},
   "source": [
    "# "
   ]
  },
  {
   "cell_type": "markdown",
   "metadata": {},
   "source": [
    "# Q2. Which users spent the most time in the logs?"
   ]
  },
  {
   "cell_type": "markdown",
   "metadata": {},
   "source": [
    "For this I have to get all names of users - from all days and then need to check on each day When he entered and When he left. And also need to take care about if he or she enters again - that will be counted as well.\n",
    "\n",
    "*NOTE: This is for EACH log. It is not for EACH day. So log is opened and closed on multiple days as well*"
   ]
  },
  {
   "cell_type": "markdown",
   "metadata": {},
   "source": [
    "###### "
   ]
  },
  {
   "cell_type": "markdown",
   "metadata": {},
   "source": [
    "There are 3 possibilities to end the time of that person:\n",
    "* He Quits (message Quit)\n",
    "* He Lefts (message Left)\n",
    "* Log ends (day changes)\n",
    "\n",
    "Three of them will only be applied IF we have encountered the START message (join)."
   ]
  },
  {
   "cell_type": "markdown",
   "metadata": {},
   "source": [
    "# "
   ]
  },
  {
   "cell_type": "markdown",
   "metadata": {},
   "source": [
    "### Q2.1 Getting for EACH session per log. "
   ]
  },
  {
   "cell_type": "code",
   "execution_count": 66,
   "metadata": {},
   "outputs": [],
   "source": [
    "'OKAY TO RUN'\n",
    "\n",
    "# Here I am using the regex to extract the ACTION - to group then together\n",
    "Notifs[\"short_action\"] = Notifs.action.str.extract(r\"(\\b\\w+\\s\\w+\\b)\", re.I)"
   ]
  },
  {
   "cell_type": "code",
   "execution_count": 67,
   "metadata": {},
   "outputs": [
    {
     "data": {
      "text/plain": [
       "has joined         114562\n",
       "has quit           109457\n",
       "has left             4000\n",
       "by EmmaWatson        3634\n",
       "by evilbox             20\n",
       "by satan               19\n",
       "by guapo                9\n",
       "by OperServ             8\n",
       "by twelve               8\n",
       "by keddy                7\n",
       "by Iggy                 6\n",
       "by phusion              6\n",
       "by Logical              5\n",
       "by BOFH                 4\n",
       "by Cogitabundus         3\n",
       "by AnonOps              1\n",
       "Name: short_action, dtype: int64"
      ]
     },
     "execution_count": 67,
     "metadata": {},
     "output_type": "execute_result"
    }
   ],
   "source": [
    "Notifs.short_action.value_counts(0)"
   ]
  },
  {
   "cell_type": "markdown",
   "metadata": {},
   "source": [
    "We can see that there are 3 types of Actions that suggest the Entry or Exit of a person. Joined / Quit / Left"
   ]
  },
  {
   "cell_type": "markdown",
   "metadata": {},
   "source": [
    "Here left means that the person has left the group. We can use it as the Quit while counting the Time."
   ]
  },
  {
   "cell_type": "markdown",
   "metadata": {},
   "source": [
    "# "
   ]
  },
  {
   "cell_type": "code",
   "execution_count": 68,
   "metadata": {},
   "outputs": [],
   "source": [
    "'OKAY TO RUN'\n",
    "\n",
    "def count_stay(group, uname):\n",
    "    \"\"\"\n",
    "    This function calculates the difference between join and leave\n",
    "    based on the condition it will make its job done. If the log ends\n",
    "    and that user hasn't left - it will auto matically end the session.\n",
    "    \n",
    "    THIS IS NOT FOR EACH LOG - IT IS GENERAL SESSION\n",
    "    \"\"\"\n",
    "    \n",
    "    start_time = False\n",
    "    for i in group.iterrows():\n",
    "        row = i[1]\n",
    "        if row['short_action'] == \"has joined\":\n",
    "            if start_time == False:\n",
    "                start_time = row['time']\n",
    "            else:\n",
    "                names[uname].append(row['time'] - start_time)\n",
    "                start_time = row['time']\n",
    "        elif row['short_action'] in [\"has quit\", \"has left\"]:\n",
    "            if start_time != False:\n",
    "                names[uname].append(row['time'] - start_time)\n",
    "                start_time = False\n",
    "                \n",
    "    if start_time != False:\n",
    "        names[uname].append(row['time'] - start_time)"
   ]
  },
  {
   "cell_type": "code",
   "execution_count": 69,
   "metadata": {},
   "outputs": [],
   "source": [
    "'OKAY TO RUN'\n",
    "u_names = Notifs.uname.unique()"
   ]
  },
  {
   "cell_type": "code",
   "execution_count": null,
   "metadata": {},
   "outputs": [],
   "source": [
    "\"DON'T RUN\"\n",
    "# This loop will iteratively take each user's name and\n",
    "# calculate their average session\n",
    "\n",
    "names = defaultdict(list)\n",
    "for th, name in enumerate(u_names):\n",
    "    print(th, name)\n",
    "    for_name = Notifs[Notifs.uname == name]\n",
    "    for_name.groupby(\"dayLog\")[['short_action', 'time']].apply(count_stay, uname= name)\n",
    "    \n",
    "names_ser = pd.Series(names)"
   ]
  },
  {
   "cell_type": "markdown",
   "metadata": {},
   "source": [
    "###### "
   ]
  },
  {
   "cell_type": "markdown",
   "metadata": {},
   "source": [
    "**THAT IS DON't RUN** So you can get the already run file writing this: <br>\n"
   ]
  },
  {
   "cell_type": "code",
   "execution_count": 70,
   "metadata": {},
   "outputs": [],
   "source": [
    "with pd.HDFStore(\"./cleaned_tables_3.h5\") as file:\n",
    "    names_ser = file['names_with_time']"
   ]
  },
  {
   "cell_type": "markdown",
   "metadata": {},
   "source": [
    "###### "
   ]
  },
  {
   "cell_type": "code",
   "execution_count": 71,
   "metadata": {},
   "outputs": [
    {
     "data": {
      "text/plain": [
       "peejr           [0 days 00:09:00, 0 days 00:04:00, 0 days 00:0...\n",
       "Gilgamesh       [0 days 00:16:00, 0 days 00:36:00, 0 days 00:1...\n",
       "Bobseviltwin    [0 days 01:01:00, 0 days 00:53:00, 0 days 04:5...\n",
       "Anonymous5      [0 days 00:10:00, 0 days 00:03:00, 0 days 00:3...\n",
       "lazyNitr0       [0 days 15:26:00, 0 days 10:40:00, 0 days 02:2...\n",
       "                                      ...                        \n",
       "nemesys-                                        [0 days 00:00:00]\n",
       "arrow                                           [0 days 01:28:00]\n",
       "Guest24853                     [0 days 00:13:00, 0 days 00:00:00]\n",
       "Nightyy                                         [0 days 00:01:00]\n",
       "feakquency                                      [0 days 00:11:00]\n",
       "Length: 14315, dtype: object"
      ]
     },
     "execution_count": 71,
     "metadata": {},
     "output_type": "execute_result"
    }
   ],
   "source": [
    "names_ser"
   ]
  },
  {
   "cell_type": "markdown",
   "metadata": {},
   "source": [
    "See that ↑ and ↓ are different. Which makes sense because not each user has stayed in the log or many of them have changed their names during the time. So... the unique names have to be larger."
   ]
  },
  {
   "cell_type": "code",
   "execution_count": 269,
   "metadata": {},
   "outputs": [
    {
     "data": {
      "text/plain": [
       "18761"
      ]
     },
     "execution_count": 269,
     "metadata": {},
     "output_type": "execute_result"
    }
   ],
   "source": [
    "len(u_names)"
   ]
  },
  {
   "cell_type": "markdown",
   "metadata": {},
   "source": [
    "# "
   ]
  },
  {
   "cell_type": "code",
   "execution_count": 72,
   "metadata": {},
   "outputs": [
    {
     "data": {
      "text/plain": [
       "peejr                    0 days 00:57:20\n",
       "Gilgamesh                0 days 00:31:10\n",
       "Bobseviltwin   0 days 02:10:27.945205479\n",
       "Anonymous5     0 days 00:11:08.571428571\n",
       "lazyNitr0         0 days 03:43:58.750000\n",
       "                          ...           \n",
       "nemesys-                 0 days 00:00:00\n",
       "arrow                    0 days 01:28:00\n",
       "Guest24853               0 days 00:06:30\n",
       "Nightyy                  0 days 00:01:00\n",
       "feakquency               0 days 00:11:00\n",
       "Length: 14315, dtype: timedelta64[ns]"
      ]
     },
     "execution_count": 72,
     "metadata": {},
     "output_type": "execute_result"
    }
   ],
   "source": [
    "'OKAY TO RUN'\n",
    "\n",
    "# Now, from that data we can extract the average session time\n",
    "mean_stay_per_log = names_ser.apply(lambda x: np.array(x).mean())\n",
    "mean_stay_per_log"
   ]
  },
  {
   "cell_type": "markdown",
   "metadata": {},
   "source": [
    "## Top 10 people who are kind of Most active. "
   ]
  },
  {
   "cell_type": "code",
   "execution_count": 73,
   "metadata": {},
   "outputs": [
    {
     "data": {
      "text/plain": [
       "specialant      8 days 05:10:00\n",
       "b               4 days 02:02:30\n",
       "ipwn_           3 days 17:11:20\n",
       "Guest36850      3 days 13:00:00\n",
       "onlyr4spb3rry   3 days 06:31:00\n",
       "FreeAnons-911   2 days 19:56:00\n",
       "patamon         2 days 18:43:00\n",
       "literallyfly    2 days 11:38:00\n",
       "H0n             2 days 04:34:00\n",
       "Meganium        2 days 03:48:00\n",
       "dtype: timedelta64[ns]"
      ]
     },
     "execution_count": 73,
     "metadata": {},
     "output_type": "execute_result"
    }
   ],
   "source": [
    "mean_stay_per_log.sort_values(ascending= False)[:10]"
   ]
  },
  {
   "cell_type": "markdown",
   "metadata": {},
   "source": [
    "# "
   ]
  },
  {
   "cell_type": "markdown",
   "metadata": {},
   "source": [
    "These are the top players! Now, if you see that - first one has got 8 days long online presence!<br>\n",
    "— <br>\n",
    "Well I have cross checked it, it is true! That person has loggned in and out after 8 days straight!\n",
    "\n",
    "But he only has one presence (means one entry for in and one for out) so... we shouldn't count. Let's make one more metrics with the mean and counts."
   ]
  },
  {
   "cell_type": "markdown",
   "metadata": {},
   "source": [
    "##### "
   ]
  },
  {
   "cell_type": "markdown",
   "metadata": {},
   "source": [
    "Because there are people with only 1 or 2 sessions, they can influence the calculations. Let's also count their frequencies."
   ]
  },
  {
   "cell_type": "code",
   "execution_count": 74,
   "metadata": {},
   "outputs": [],
   "source": [
    "'OKAY TO RUN'\n",
    "\n",
    "def mean_count(x):\n",
    "    x = np.array(x)\n",
    "    return pd.Series([x.mean(), len(x)], index=[\"mean\", \"count\"])"
   ]
  },
  {
   "cell_type": "code",
   "execution_count": 75,
   "metadata": {},
   "outputs": [
    {
     "data": {
      "text/html": [
       "<div>\n",
       "<style scoped>\n",
       "    .dataframe tbody tr th:only-of-type {\n",
       "        vertical-align: middle;\n",
       "    }\n",
       "\n",
       "    .dataframe tbody tr th {\n",
       "        vertical-align: top;\n",
       "    }\n",
       "\n",
       "    .dataframe thead th {\n",
       "        text-align: right;\n",
       "    }\n",
       "</style>\n",
       "<table border=\"1\" class=\"dataframe\">\n",
       "  <thead>\n",
       "    <tr style=\"text-align: right;\">\n",
       "      <th></th>\n",
       "      <th>mean</th>\n",
       "      <th>count</th>\n",
       "    </tr>\n",
       "  </thead>\n",
       "  <tbody>\n",
       "    <tr>\n",
       "      <th>peejr</th>\n",
       "      <td>0 days 00:57:20</td>\n",
       "      <td>9</td>\n",
       "    </tr>\n",
       "    <tr>\n",
       "      <th>Gilgamesh</th>\n",
       "      <td>0 days 00:31:10</td>\n",
       "      <td>18</td>\n",
       "    </tr>\n",
       "    <tr>\n",
       "      <th>Bobseviltwin</th>\n",
       "      <td>0 days 02:10:27.945205479</td>\n",
       "      <td>73</td>\n",
       "    </tr>\n",
       "    <tr>\n",
       "      <th>Anonymous5</th>\n",
       "      <td>0 days 00:11:08.571428571</td>\n",
       "      <td>7</td>\n",
       "    </tr>\n",
       "    <tr>\n",
       "      <th>lazyNitr0</th>\n",
       "      <td>0 days 03:43:58.750000</td>\n",
       "      <td>336</td>\n",
       "    </tr>\n",
       "    <tr>\n",
       "      <th>...</th>\n",
       "      <td>...</td>\n",
       "      <td>...</td>\n",
       "    </tr>\n",
       "    <tr>\n",
       "      <th>nemesys-</th>\n",
       "      <td>0 days 00:00:00</td>\n",
       "      <td>1</td>\n",
       "    </tr>\n",
       "    <tr>\n",
       "      <th>arrow</th>\n",
       "      <td>0 days 01:28:00</td>\n",
       "      <td>1</td>\n",
       "    </tr>\n",
       "    <tr>\n",
       "      <th>Guest24853</th>\n",
       "      <td>0 days 00:06:30</td>\n",
       "      <td>2</td>\n",
       "    </tr>\n",
       "    <tr>\n",
       "      <th>Nightyy</th>\n",
       "      <td>0 days 00:01:00</td>\n",
       "      <td>1</td>\n",
       "    </tr>\n",
       "    <tr>\n",
       "      <th>feakquency</th>\n",
       "      <td>0 days 00:11:00</td>\n",
       "      <td>1</td>\n",
       "    </tr>\n",
       "  </tbody>\n",
       "</table>\n",
       "<p>14315 rows × 2 columns</p>\n",
       "</div>"
      ],
      "text/plain": [
       "                                  mean  count\n",
       "peejr                  0 days 00:57:20      9\n",
       "Gilgamesh              0 days 00:31:10     18\n",
       "Bobseviltwin 0 days 02:10:27.945205479     73\n",
       "Anonymous5   0 days 00:11:08.571428571      7\n",
       "lazyNitr0       0 days 03:43:58.750000    336\n",
       "...                                ...    ...\n",
       "nemesys-               0 days 00:00:00      1\n",
       "arrow                  0 days 01:28:00      1\n",
       "Guest24853             0 days 00:06:30      2\n",
       "Nightyy                0 days 00:01:00      1\n",
       "feakquency             0 days 00:11:00      1\n",
       "\n",
       "[14315 rows x 2 columns]"
      ]
     },
     "execution_count": 75,
     "metadata": {},
     "output_type": "execute_result"
    }
   ],
   "source": [
    "'OKAY TO RUN'\n",
    "\n",
    "mean_stay_per_log = names_ser.apply(mean_count)\n",
    "mean_stay_per_log"
   ]
  },
  {
   "cell_type": "code",
   "execution_count": 76,
   "metadata": {},
   "outputs": [
    {
     "data": {
      "text/plain": [
       "8.002933985330074"
      ]
     },
     "execution_count": 76,
     "metadata": {},
     "output_type": "execute_result"
    }
   ],
   "source": [
    "mean_stay_per_log['count'].mean()"
   ]
  },
  {
   "cell_type": "code",
   "execution_count": 77,
   "metadata": {},
   "outputs": [
    {
     "data": {
      "text/plain": [
       "1.0"
      ]
     },
     "execution_count": 77,
     "metadata": {},
     "output_type": "execute_result"
    }
   ],
   "source": [
    "mean_stay_per_log['count'].quantile(0.25)"
   ]
  },
  {
   "cell_type": "code",
   "execution_count": 78,
   "metadata": {},
   "outputs": [
    {
     "data": {
      "text/plain": [
       "1.0"
      ]
     },
     "execution_count": 78,
     "metadata": {},
     "output_type": "execute_result"
    }
   ],
   "source": [
    "mean_stay_per_log['count'].quantile(0.5)"
   ]
  },
  {
   "cell_type": "code",
   "execution_count": 79,
   "metadata": {},
   "outputs": [
    {
     "data": {
      "text/plain": [
       "3.0"
      ]
     },
     "execution_count": 79,
     "metadata": {},
     "output_type": "execute_result"
    }
   ],
   "source": [
    "mean_stay_per_log['count'].quantile(0.75)"
   ]
  },
  {
   "cell_type": "markdown",
   "metadata": {},
   "source": [
    "We should take 10 as the deciding factor! "
   ]
  },
  {
   "cell_type": "code",
   "execution_count": 80,
   "metadata": {},
   "outputs": [
    {
     "data": {
      "text/plain": [
       "<AxesSubplot:>"
      ]
     },
     "execution_count": 80,
     "metadata": {},
     "output_type": "execute_result"
    },
    {
     "data": {
      "image/png": "[encoded data removed]",
      "text/plain": [
       "<Figure size 1440x720 with 1 Axes>"
      ]
     },
     "metadata": {
      "needs_background": "light"
     },
     "output_type": "display_data"
    }
   ],
   "source": [
    "mean_stay_per_log['count'].plot(figsize= (20, 10))"
   ]
  },
  {
   "cell_type": "code",
   "execution_count": 81,
   "metadata": {},
   "outputs": [
    {
     "data": {
      "text/html": [
       "<div>\n",
       "<style scoped>\n",
       "    .dataframe tbody tr th:only-of-type {\n",
       "        vertical-align: middle;\n",
       "    }\n",
       "\n",
       "    .dataframe tbody tr th {\n",
       "        vertical-align: top;\n",
       "    }\n",
       "\n",
       "    .dataframe thead th {\n",
       "        text-align: right;\n",
       "    }\n",
       "</style>\n",
       "<table border=\"1\" class=\"dataframe\">\n",
       "  <thead>\n",
       "    <tr style=\"text-align: right;\">\n",
       "      <th></th>\n",
       "      <th>mean</th>\n",
       "      <th>count</th>\n",
       "    </tr>\n",
       "  </thead>\n",
       "  <tbody>\n",
       "    <tr>\n",
       "      <th>eee</th>\n",
       "      <td>1 days 05:25:24</td>\n",
       "      <td>10</td>\n",
       "    </tr>\n",
       "    <tr>\n",
       "      <th>user</th>\n",
       "      <td>0 days 16:22:17.142857142</td>\n",
       "      <td>14</td>\n",
       "    </tr>\n",
       "    <tr>\n",
       "      <th>acacia</th>\n",
       "      <td>0 days 11:25:58.333333333</td>\n",
       "      <td>36</td>\n",
       "    </tr>\n",
       "    <tr>\n",
       "      <th>nusma</th>\n",
       "      <td>0 days 11:03:44</td>\n",
       "      <td>45</td>\n",
       "    </tr>\n",
       "    <tr>\n",
       "      <th>sTrikEforCe</th>\n",
       "      <td>0 days 10:58:31.836734693</td>\n",
       "      <td>49</td>\n",
       "    </tr>\n",
       "    <tr>\n",
       "      <th>ThePhoenix47</th>\n",
       "      <td>0 days 10:55:03.428571428</td>\n",
       "      <td>35</td>\n",
       "    </tr>\n",
       "    <tr>\n",
       "      <th>Flutts</th>\n",
       "      <td>0 days 10:02:55</td>\n",
       "      <td>12</td>\n",
       "    </tr>\n",
       "    <tr>\n",
       "      <th>c00lguy</th>\n",
       "      <td>0 days 09:26:57.777777777</td>\n",
       "      <td>27</td>\n",
       "    </tr>\n",
       "    <tr>\n",
       "      <th>AnonLord</th>\n",
       "      <td>0 days 09:19:48.750000</td>\n",
       "      <td>16</td>\n",
       "    </tr>\n",
       "    <tr>\n",
       "      <th>n16h75h4d0w</th>\n",
       "      <td>0 days 09:06:50.769230769</td>\n",
       "      <td>26</td>\n",
       "    </tr>\n",
       "  </tbody>\n",
       "</table>\n",
       "</div>"
      ],
      "text/plain": [
       "                                  mean  count\n",
       "eee                    1 days 05:25:24     10\n",
       "user         0 days 16:22:17.142857142     14\n",
       "acacia       0 days 11:25:58.333333333     36\n",
       "nusma                  0 days 11:03:44     45\n",
       "sTrikEforCe  0 days 10:58:31.836734693     49\n",
       "ThePhoenix47 0 days 10:55:03.428571428     35\n",
       "Flutts                 0 days 10:02:55     12\n",
       "c00lguy      0 days 09:26:57.777777777     27\n",
       "AnonLord        0 days 09:19:48.750000     16\n",
       "n16h75h4d0w  0 days 09:06:50.769230769     26"
      ]
     },
     "execution_count": 81,
     "metadata": {},
     "output_type": "execute_result"
    }
   ],
   "source": [
    "mean_stay_per_log[mean_stay_per_log['count'] >= 10].sort_values(by= \"mean\", ascending= False)[:10]"
   ]
  },
  {
   "cell_type": "markdown",
   "metadata": {},
   "source": [
    "So... we have people who are staying active more than 1 day too!"
   ]
  },
  {
   "cell_type": "markdown",
   "metadata": {},
   "source": [
    "Again, these numbers show the AVERAGE SESSION from entire data set. But the original question was average session per LOG. So that is ↓"
   ]
  },
  {
   "cell_type": "markdown",
   "metadata": {},
   "source": [
    "##### "
   ]
  },
  {
   "cell_type": "markdown",
   "metadata": {},
   "source": [
    "### Q2.2 Average Session per log \n",
    "Now instead of counting session average, now we will count per log average."
   ]
  },
  {
   "cell_type": "code",
   "execution_count": 82,
   "metadata": {},
   "outputs": [],
   "source": [
    "'OKAY TO RUN'\n",
    "\n",
    "def count_stay(group, uname):\n",
    "    \"\"\"\n",
    "    This function is similar to the function above, (the long one)\n",
    "    but the main difference is that this will calcualte for whole \n",
    "    log - instead of each seassion.\n",
    "    \"\"\"\n",
    "    start_time = False\n",
    "    each_log = []\n",
    "    for i in group.iterrows():\n",
    "        row = i[1]\n",
    "        if row['short_action'] == \"has joined\":\n",
    "            if start_time == False:\n",
    "                start_time = row['time']\n",
    "            else:\n",
    "                each_log.append(row['time'] - start_time)\n",
    "                start_time = row['time']\n",
    "        elif row['short_action'] in [\"has quit\", \"has left\"]:\n",
    "            if start_time != False:\n",
    "                each_log.append(row['time'] - start_time)\n",
    "                start_time = False\n",
    "                \n",
    "    if start_time != False:\n",
    "        each_log.append(row['time'] - start_time)\n",
    "    total_time = np.array(each_log).sum()\n",
    "    if total_time != 0:\n",
    "        names[uname].append(total_time)"
   ]
  },
  {
   "cell_type": "code",
   "execution_count": 83,
   "metadata": {},
   "outputs": [],
   "source": [
    "'OKAY TO RUN'\n",
    "u_names = Notifs.uname.unique()"
   ]
  },
  {
   "cell_type": "code",
   "execution_count": null,
   "metadata": {},
   "outputs": [],
   "source": [
    "\"DON'T RUN\"\n",
    "\n",
    "names = defaultdict(list)\n",
    "for th, name in enumerate(u_names):\n",
    "    print(th, name)\n",
    "    for_name = Notifs[Notifs.uname == name]\n",
    "    for_name.groupby(\"dayLog\")[['short_action', 'time']].apply(count_stay, uname= name)\n",
    "    \n",
    "names_ser = pd.Series(names)"
   ]
  },
  {
   "cell_type": "markdown",
   "metadata": {},
   "source": [
    "##### "
   ]
  },
  {
   "cell_type": "markdown",
   "metadata": {},
   "source": [
    "##### **THAT IS DON't RUN** So you can get the already run file writing this: <br>\n"
   ]
  },
  {
   "cell_type": "code",
   "execution_count": 94,
   "metadata": {},
   "outputs": [],
   "source": [
    "with pd.HDFStore(\"./cleaned_tables_3.h5\") as file:\n",
    "    names_ser = file[\"names_per_log\"]"
   ]
  },
  {
   "cell_type": "markdown",
   "metadata": {},
   "source": [
    "##### "
   ]
  },
  {
   "cell_type": "code",
   "execution_count": 95,
   "metadata": {},
   "outputs": [],
   "source": [
    "def mean_count(x):\n",
    "    x = np.array(x)\n",
    "    return pd.Series([x.mean(), len(x)], index=[\"mean\", \"count\"])"
   ]
  },
  {
   "cell_type": "code",
   "execution_count": 96,
   "metadata": {},
   "outputs": [
    {
     "data": {
      "text/html": [
       "<div>\n",
       "<style scoped>\n",
       "    .dataframe tbody tr th:only-of-type {\n",
       "        vertical-align: middle;\n",
       "    }\n",
       "\n",
       "    .dataframe tbody tr th {\n",
       "        vertical-align: top;\n",
       "    }\n",
       "\n",
       "    .dataframe thead th {\n",
       "        text-align: right;\n",
       "    }\n",
       "</style>\n",
       "<table border=\"1\" class=\"dataframe\">\n",
       "  <thead>\n",
       "    <tr style=\"text-align: right;\">\n",
       "      <th></th>\n",
       "      <th>mean</th>\n",
       "      <th>count</th>\n",
       "    </tr>\n",
       "  </thead>\n",
       "  <tbody>\n",
       "    <tr>\n",
       "      <th>peejr</th>\n",
       "      <td>0 days 02:52:00</td>\n",
       "      <td>3</td>\n",
       "    </tr>\n",
       "    <tr>\n",
       "      <th>Gilgamesh</th>\n",
       "      <td>0 days 01:52:12</td>\n",
       "      <td>5</td>\n",
       "    </tr>\n",
       "    <tr>\n",
       "      <th>Bobseviltwin</th>\n",
       "      <td>0 days 07:12:54.545454545</td>\n",
       "      <td>22</td>\n",
       "    </tr>\n",
       "    <tr>\n",
       "      <th>Anonymous5</th>\n",
       "      <td>0 days 00:15:36</td>\n",
       "      <td>5</td>\n",
       "    </tr>\n",
       "    <tr>\n",
       "      <th>lazyNitr0</th>\n",
       "      <td>0 days 04:25:55.547703180</td>\n",
       "      <td>283</td>\n",
       "    </tr>\n",
       "    <tr>\n",
       "      <th>...</th>\n",
       "      <td>...</td>\n",
       "      <td>...</td>\n",
       "    </tr>\n",
       "    <tr>\n",
       "      <th>nemesys-</th>\n",
       "      <td>0 days 00:00:00</td>\n",
       "      <td>1</td>\n",
       "    </tr>\n",
       "    <tr>\n",
       "      <th>arrow</th>\n",
       "      <td>0 days 01:28:00</td>\n",
       "      <td>1</td>\n",
       "    </tr>\n",
       "    <tr>\n",
       "      <th>Guest24853</th>\n",
       "      <td>0 days 00:13:00</td>\n",
       "      <td>1</td>\n",
       "    </tr>\n",
       "    <tr>\n",
       "      <th>Nightyy</th>\n",
       "      <td>0 days 00:01:00</td>\n",
       "      <td>1</td>\n",
       "    </tr>\n",
       "    <tr>\n",
       "      <th>feakquency</th>\n",
       "      <td>0 days 00:11:00</td>\n",
       "      <td>1</td>\n",
       "    </tr>\n",
       "  </tbody>\n",
       "</table>\n",
       "<p>14315 rows × 2 columns</p>\n",
       "</div>"
      ],
      "text/plain": [
       "                                  mean  count\n",
       "peejr                  0 days 02:52:00      3\n",
       "Gilgamesh              0 days 01:52:12      5\n",
       "Bobseviltwin 0 days 07:12:54.545454545     22\n",
       "Anonymous5             0 days 00:15:36      5\n",
       "lazyNitr0    0 days 04:25:55.547703180    283\n",
       "...                                ...    ...\n",
       "nemesys-               0 days 00:00:00      1\n",
       "arrow                  0 days 01:28:00      1\n",
       "Guest24853             0 days 00:13:00      1\n",
       "Nightyy                0 days 00:01:00      1\n",
       "feakquency             0 days 00:11:00      1\n",
       "\n",
       "[14315 rows x 2 columns]"
      ]
     },
     "execution_count": 96,
     "metadata": {},
     "output_type": "execute_result"
    }
   ],
   "source": [
    "'OKAY TO RUN'\n",
    "\n",
    "mean_stay_per_log = names_ser.apply(mean_count)\n",
    "mean_stay_per_log"
   ]
  },
  {
   "cell_type": "code",
   "execution_count": 97,
   "metadata": {},
   "outputs": [
    {
     "data": {
      "text/html": [
       "<div>\n",
       "<style scoped>\n",
       "    .dataframe tbody tr th:only-of-type {\n",
       "        vertical-align: middle;\n",
       "    }\n",
       "\n",
       "    .dataframe tbody tr th {\n",
       "        vertical-align: top;\n",
       "    }\n",
       "\n",
       "    .dataframe thead th {\n",
       "        text-align: right;\n",
       "    }\n",
       "</style>\n",
       "<table border=\"1\" class=\"dataframe\">\n",
       "  <thead>\n",
       "    <tr style=\"text-align: right;\">\n",
       "      <th></th>\n",
       "      <th>mean</th>\n",
       "      <th>count</th>\n",
       "    </tr>\n",
       "  </thead>\n",
       "  <tbody>\n",
       "    <tr>\n",
       "      <th>offs3tzer0</th>\n",
       "      <td>3 days 05:53:12</td>\n",
       "      <td>5</td>\n",
       "    </tr>\n",
       "    <tr>\n",
       "      <th>bang</th>\n",
       "      <td>2 days 18:41:40</td>\n",
       "      <td>3</td>\n",
       "    </tr>\n",
       "    <tr>\n",
       "      <th>rute</th>\n",
       "      <td>2 days 03:37:00</td>\n",
       "      <td>4</td>\n",
       "    </tr>\n",
       "    <tr>\n",
       "      <th>eee</th>\n",
       "      <td>2 days 01:02:20</td>\n",
       "      <td>6</td>\n",
       "    </tr>\n",
       "    <tr>\n",
       "      <th>Guest39742</th>\n",
       "      <td>1 days 16:10:00</td>\n",
       "      <td>3</td>\n",
       "    </tr>\n",
       "    <tr>\n",
       "      <th>...</th>\n",
       "      <td>...</td>\n",
       "      <td>...</td>\n",
       "    </tr>\n",
       "    <tr>\n",
       "      <th>ajb_</th>\n",
       "      <td>0 days 00:00:00</td>\n",
       "      <td>4</td>\n",
       "    </tr>\n",
       "    <tr>\n",
       "      <th>WhoAmI__</th>\n",
       "      <td>0 days 00:00:00</td>\n",
       "      <td>3</td>\n",
       "    </tr>\n",
       "    <tr>\n",
       "      <th>Autismus_Primus</th>\n",
       "      <td>0 days 00:00:00</td>\n",
       "      <td>3</td>\n",
       "    </tr>\n",
       "    <tr>\n",
       "      <th>ansivirus__</th>\n",
       "      <td>0 days 00:00:00</td>\n",
       "      <td>4</td>\n",
       "    </tr>\n",
       "    <tr>\n",
       "      <th>loplp</th>\n",
       "      <td>0 days 00:00:00</td>\n",
       "      <td>3</td>\n",
       "    </tr>\n",
       "  </tbody>\n",
       "</table>\n",
       "<p>2841 rows × 2 columns</p>\n",
       "</div>"
      ],
      "text/plain": [
       "                           mean  count\n",
       "offs3tzer0      3 days 05:53:12      5\n",
       "bang            2 days 18:41:40      3\n",
       "rute            2 days 03:37:00      4\n",
       "eee             2 days 01:02:20      6\n",
       "Guest39742      1 days 16:10:00      3\n",
       "...                         ...    ...\n",
       "ajb_            0 days 00:00:00      4\n",
       "WhoAmI__        0 days 00:00:00      3\n",
       "Autismus_Primus 0 days 00:00:00      3\n",
       "ansivirus__     0 days 00:00:00      4\n",
       "loplp           0 days 00:00:00      3\n",
       "\n",
       "[2841 rows x 2 columns]"
      ]
     },
     "execution_count": 97,
     "metadata": {},
     "output_type": "execute_result"
    }
   ],
   "source": [
    "'OKAY TO RUN'\n",
    "\n",
    "# There was the mean median and Q1 Q3 near number 3.\n",
    "# Filtering data with count more than 3.\n",
    "mean_stay_per_log[mean_stay_per_log['count'] >= 3].sort_values(by= \"mean\", ascending= False)"
   ]
  },
  {
   "cell_type": "markdown",
   "metadata": {},
   "source": [
    "Now this gives us the better idea, that per log, how much time does a user stay."
   ]
  },
  {
   "cell_type": "markdown",
   "metadata": {},
   "source": [
    "# "
   ]
  },
  {
   "cell_type": "markdown",
   "metadata": {},
   "source": [
    "## Q3. Which users logged in the most? "
   ]
  },
  {
   "cell_type": "markdown",
   "metadata": {},
   "source": [
    "Again, for this we would have to use our Notifs df. And we will count their login."
   ]
  },
  {
   "cell_type": "code",
   "execution_count": 98,
   "metadata": {},
   "outputs": [],
   "source": [
    "'OKAY TO RUN'\n",
    "\n",
    "# filtering only with the action \"has joined\"\n",
    "join_details = Notifs[Notifs.short_action == \"has joined\"]"
   ]
  },
  {
   "cell_type": "code",
   "execution_count": 99,
   "metadata": {},
   "outputs": [
    {
     "data": {
      "text/plain": [
       "uname\n",
       "Hex            1949\n",
       "twelve         1759\n",
       "xAcex          1683\n",
       "native         1682\n",
       "target_        1593\n",
       "terrorista     1204\n",
       "S1rLancelot     954\n",
       "John297         805\n",
       "doe896          802\n",
       "scribbler       795\n",
       "dtype: int64"
      ]
     },
     "execution_count": 99,
     "metadata": {},
     "output_type": "execute_result"
    }
   ],
   "source": [
    "# Top people whose count is the mose\n",
    "join_details.groupby('uname').size().sort_values(ascending= False)[:10]"
   ]
  },
  {
   "cell_type": "markdown",
   "metadata": {},
   "source": [
    "From HEX to Sctibbler - we have the details about log in."
   ]
  },
  {
   "cell_type": "markdown",
   "metadata": {},
   "source": [
    "# "
   ]
  },
  {
   "cell_type": "markdown",
   "metadata": {},
   "source": [
    "# Q4. Find the most common words in chat"
   ]
  },
  {
   "cell_type": "markdown",
   "metadata": {},
   "source": [
    "Finally we are to find the most common words from chat. I mean - our Chat df can be utilized."
   ]
  },
  {
   "cell_type": "code",
   "execution_count": 101,
   "metadata": {},
   "outputs": [],
   "source": [
    "from collections import Counter"
   ]
  },
  {
   "cell_type": "code",
   "execution_count": 102,
   "metadata": {},
   "outputs": [],
   "source": [
    "'OKAY TO RUN'\n",
    "\n",
    "# Using this technique will help us a lot.\n",
    "common_words = Counter(\" \".join(Chats[\"message\"].str.lower()).split())"
   ]
  },
  {
   "cell_type": "code",
   "execution_count": 103,
   "metadata": {},
   "outputs": [],
   "source": [
    "common_words = pd.Series(common_words)"
   ]
  },
  {
   "cell_type": "code",
   "execution_count": 104,
   "metadata": {},
   "outputs": [
    {
     "data": {
      "text/plain": [
       "a            40026\n",
       "to           38794\n",
       "the          36508\n",
       "and          35971\n",
       "i            35917\n",
       "             ...  \n",
       "jezuz            1\n",
       "chiar            1\n",
       "janz_?           1\n",
       "neechan          1\n",
       "wreckless        1\n",
       "Length: 84256, dtype: int64"
      ]
     },
     "execution_count": 104,
     "metadata": {},
     "output_type": "execute_result"
    }
   ],
   "source": [
    "common_words.sort_values(ascending= False)"
   ]
  },
  {
   "cell_type": "markdown",
   "metadata": {},
   "source": [
    "Of course the grramatical words will be the most repeated ones... but we can remove them by using the NLTK stopwords."
   ]
  },
  {
   "cell_type": "markdown",
   "metadata": {},
   "source": [
    "# "
   ]
  },
  {
   "cell_type": "markdown",
   "metadata": {},
   "source": [
    "### Now to address the common words in the english...\n",
    "We can use the nltk stopwords. (Install them id you don't have them and run the cells as is)"
   ]
  },
  {
   "cell_type": "code",
   "execution_count": 106,
   "metadata": {},
   "outputs": [
    {
     "name": "stderr",
     "output_type": "stream",
     "text": [
      "[nltk_data] Downloading package stopwords to\n",
      "[nltk_data]     C:\\Users\\DELL\\AppData\\Roaming\\nltk_data...\n",
      "[nltk_data]   Package stopwords is already up-to-date!\n"
     ]
    }
   ],
   "source": [
    "import nltk\n",
    "nltk.download('stopwords')\n",
    "\n",
    "from nltk.corpus import stopwords"
   ]
  },
  {
   "cell_type": "code",
   "execution_count": 107,
   "metadata": {},
   "outputs": [],
   "source": [
    "stopwords = stopwords.words('english')"
   ]
  },
  {
   "cell_type": "code",
   "execution_count": 108,
   "metadata": {},
   "outputs": [
    {
     "data": {
      "text/plain": [
       "-          28433\n",
       "use         6403\n",
       "network     5822\n",
       "lol         5758\n",
       "open        5570\n",
       "like        5189\n",
       "source      5137\n",
       "know        4883\n",
       "file        4283\n",
       "get         4215\n",
       "tool        4179\n",
       "local       3867\n",
       "?           3810\n",
       "scanner     3755\n",
       "used        3516\n",
       "windows     3356\n",
       "im          3207\n",
       "need        3108\n",
       "one         3081\n",
       "web         3011\n",
       "dtype: int64"
      ]
     },
     "execution_count": 108,
     "metadata": {},
     "output_type": "execute_result"
    }
   ],
   "source": [
    "'OKAY TO RUN'\n",
    "common_words[common_words.index.isin(common_words.index.difference(pd.Index(stopwords)))].sort_values(ascending= False)[:20]"
   ]
  },
  {
   "cell_type": "markdown",
   "metadata": {},
   "source": [
    "The more cleaning can be done like removal of the special charecters, but from looking at these data, we have a good estimate on which words are most used. (Man 'use' is the most used!)"
   ]
  },
  {
   "cell_type": "markdown",
   "metadata": {},
   "source": [
    "# "
   ]
  },
  {
   "cell_type": "markdown",
   "metadata": {},
   "source": [
    "# Q5. Count the total number of written messages (only those with actual text content)  "
   ]
  },
  {
   "cell_type": "markdown",
   "metadata": {},
   "source": [
    "I don't think this makes sense... but if we try to look at the Chats df, all are the messages! So... there is no question. But still if you want to check for further exploration, we can go forward."
   ]
  },
  {
   "cell_type": "code",
   "execution_count": 109,
   "metadata": {},
   "outputs": [
    {
     "data": {
      "text/plain": [
       "lol                                                                                                                                             3027\n",
       "hi                                                                                                                                              1745\n",
       "-tools                                                                                                                                          1372\n",
       "darkd0rk3r - dork searching and searches for local file inclusion and sql injection                                                             1194\n",
       "nipper - used to make observations about the security configurations of many different device types such as routers, firewalls, and switches    1194\n",
       "                                                                                                                                                ... \n",
       "eyy                                                                                                                                                1\n",
       "halo anon                                                                                                                                          1\n",
       "whats up bro techsupportbro                                                                                                                        1\n",
       "they can block me on google right?                                                                                                                 1\n",
       "but is anyone thinking                                                                                                                             1\n",
       "Name: message, Length: 157688, dtype: int64"
      ]
     },
     "execution_count": 109,
     "metadata": {},
     "output_type": "execute_result"
    }
   ],
   "source": [
    "'OKAY TO RUN'\n",
    "Chats.message.str.lower().value_counts()"
   ]
  },
  {
   "cell_type": "markdown",
   "metadata": {},
   "source": [
    "LOL! Is the most used as a separate message!"
   ]
  },
  {
   "cell_type": "markdown",
   "metadata": {},
   "source": [
    "Now looking at the 3rd most commong message, I sense that the Q5. might make some sense here... let's see why the message is so formal!"
   ]
  },
  {
   "cell_type": "code",
   "execution_count": 110,
   "metadata": {},
   "outputs": [
    {
     "data": {
      "text/html": [
       "<div>\n",
       "<style scoped>\n",
       "    .dataframe tbody tr th:only-of-type {\n",
       "        vertical-align: middle;\n",
       "    }\n",
       "\n",
       "    .dataframe tbody tr th {\n",
       "        vertical-align: top;\n",
       "    }\n",
       "\n",
       "    .dataframe thead th {\n",
       "        text-align: right;\n",
       "    }\n",
       "</style>\n",
       "<table border=\"1\" class=\"dataframe\">\n",
       "  <thead>\n",
       "    <tr style=\"text-align: right;\">\n",
       "      <th></th>\n",
       "      <th>time</th>\n",
       "      <th>uname</th>\n",
       "      <th>message</th>\n",
       "      <th>dayLog</th>\n",
       "      <th>dayChange</th>\n",
       "    </tr>\n",
       "  </thead>\n",
       "  <tbody>\n",
       "    <tr>\n",
       "      <th>580</th>\n",
       "      <td>2016-09-20 18:54:00</td>\n",
       "      <td>&lt;+evilbot&gt;</td>\n",
       "      <td>AdminLoginFinder - is a perl script that scans...</td>\n",
       "      <td>2016-09-20</td>\n",
       "      <td>2016-09-20</td>\n",
       "    </tr>\n",
       "    <tr>\n",
       "      <th>628</th>\n",
       "      <td>2016-09-20 19:42:00</td>\n",
       "      <td>&lt;+evilbot&gt;</td>\n",
       "      <td>AdminLoginFinder - is a perl script that scans...</td>\n",
       "      <td>2016-09-20</td>\n",
       "      <td>2016-09-20</td>\n",
       "    </tr>\n",
       "    <tr>\n",
       "      <th>758</th>\n",
       "      <td>2016-09-20 20:55:00</td>\n",
       "      <td>&lt;+evilbot&gt;</td>\n",
       "      <td>AdminLoginFinder - is a perl script that scans...</td>\n",
       "      <td>2016-09-20</td>\n",
       "      <td>2016-09-20</td>\n",
       "    </tr>\n",
       "    <tr>\n",
       "      <th>877</th>\n",
       "      <td>2016-09-20 23:37:00</td>\n",
       "      <td>&lt;+evilbot&gt;</td>\n",
       "      <td>AdminLoginFinder - is a perl script that scans...</td>\n",
       "      <td>2016-09-20</td>\n",
       "      <td>2016-09-20</td>\n",
       "    </tr>\n",
       "    <tr>\n",
       "      <th>930</th>\n",
       "      <td>2016-09-21 00:10:00</td>\n",
       "      <td>&lt;+evilbot&gt;</td>\n",
       "      <td>AdminLoginFinder - is a perl script that scans...</td>\n",
       "      <td>2016-09-20</td>\n",
       "      <td>2016-09-21</td>\n",
       "    </tr>\n",
       "    <tr>\n",
       "      <th>...</th>\n",
       "      <td>...</td>\n",
       "      <td>...</td>\n",
       "      <td>...</td>\n",
       "      <td>...</td>\n",
       "      <td>...</td>\n",
       "    </tr>\n",
       "    <tr>\n",
       "      <th>416404</th>\n",
       "      <td>2018-01-08 05:26:00</td>\n",
       "      <td>&lt;+evilbot&gt;</td>\n",
       "      <td>AdminLoginFinder - is a perl script that scans...</td>\n",
       "      <td>2018-01-07</td>\n",
       "      <td>2018-01-08</td>\n",
       "    </tr>\n",
       "    <tr>\n",
       "      <th>416716</th>\n",
       "      <td>2018-01-08 20:27:00</td>\n",
       "      <td>&lt;+evilbot&gt;</td>\n",
       "      <td>AdminLoginFinder - is a perl script that scans...</td>\n",
       "      <td>2018-01-07</td>\n",
       "      <td>2018-01-08</td>\n",
       "    </tr>\n",
       "    <tr>\n",
       "      <th>417761</th>\n",
       "      <td>2018-01-10 13:11:00</td>\n",
       "      <td>&lt;+evilbot&gt;</td>\n",
       "      <td>AdminLoginFinder - is a perl script that scans...</td>\n",
       "      <td>2018-01-09</td>\n",
       "      <td>2018-01-10</td>\n",
       "    </tr>\n",
       "    <tr>\n",
       "      <th>417964</th>\n",
       "      <td>2018-01-10 20:45:00</td>\n",
       "      <td>&lt;+evilbot&gt;</td>\n",
       "      <td>AdminLoginFinder - is a perl script that scans...</td>\n",
       "      <td>2018-01-09</td>\n",
       "      <td>2018-01-10</td>\n",
       "    </tr>\n",
       "    <tr>\n",
       "      <th>419559</th>\n",
       "      <td>2018-01-13 14:43:00</td>\n",
       "      <td>&lt;+evilbot&gt;</td>\n",
       "      <td>AdminLoginFinder - is a perl script that scans...</td>\n",
       "      <td>2018-01-13</td>\n",
       "      <td>2018-01-13</td>\n",
       "    </tr>\n",
       "  </tbody>\n",
       "</table>\n",
       "<p>1195 rows × 5 columns</p>\n",
       "</div>"
      ],
      "text/plain": [
       "                      time       uname  \\\n",
       "580    2016-09-20 18:54:00  <+evilbot>   \n",
       "628    2016-09-20 19:42:00  <+evilbot>   \n",
       "758    2016-09-20 20:55:00  <+evilbot>   \n",
       "877    2016-09-20 23:37:00  <+evilbot>   \n",
       "930    2016-09-21 00:10:00  <+evilbot>   \n",
       "...                    ...         ...   \n",
       "416404 2018-01-08 05:26:00  <+evilbot>   \n",
       "416716 2018-01-08 20:27:00  <+evilbot>   \n",
       "417761 2018-01-10 13:11:00  <+evilbot>   \n",
       "417964 2018-01-10 20:45:00  <+evilbot>   \n",
       "419559 2018-01-13 14:43:00  <+evilbot>   \n",
       "\n",
       "                                                  message     dayLog  \\\n",
       "580     AdminLoginFinder - is a perl script that scans... 2016-09-20   \n",
       "628     AdminLoginFinder - is a perl script that scans... 2016-09-20   \n",
       "758     AdminLoginFinder - is a perl script that scans... 2016-09-20   \n",
       "877     AdminLoginFinder - is a perl script that scans... 2016-09-20   \n",
       "930     AdminLoginFinder - is a perl script that scans... 2016-09-20   \n",
       "...                                                   ...        ...   \n",
       "416404  AdminLoginFinder - is a perl script that scans... 2018-01-07   \n",
       "416716  AdminLoginFinder - is a perl script that scans... 2018-01-07   \n",
       "417761  AdminLoginFinder - is a perl script that scans... 2018-01-09   \n",
       "417964  AdminLoginFinder - is a perl script that scans... 2018-01-09   \n",
       "419559  AdminLoginFinder - is a perl script that scans... 2018-01-13   \n",
       "\n",
       "        dayChange  \n",
       "580    2016-09-20  \n",
       "628    2016-09-20  \n",
       "758    2016-09-20  \n",
       "877    2016-09-20  \n",
       "930    2016-09-21  \n",
       "...           ...  \n",
       "416404 2018-01-08  \n",
       "416716 2018-01-08  \n",
       "417761 2018-01-10  \n",
       "417964 2018-01-10  \n",
       "419559 2018-01-13  \n",
       "\n",
       "[1195 rows x 5 columns]"
      ]
     },
     "execution_count": 110,
     "metadata": {},
     "output_type": "execute_result"
    }
   ],
   "source": [
    "# There is some message that seems like sent by bot. Checking\n",
    "Chats[Chats.message.str.lower().str.contains(\"adminloginfinder - is a perl script that scans webservers for administrative login / control panel sections.\")]"
   ]
  },
  {
   "cell_type": "markdown",
   "metadata": {},
   "source": [
    "Looking at the data, we see that - the message it self is send by some kind of bot. But it is itself a message. Now, we may need some kind of AI to sense it is the FORMAL message. But, we can drop the idea... and take another approach."
   ]
  },
  {
   "cell_type": "code",
   "execution_count": 111,
   "metadata": {},
   "outputs": [
    {
     "data": {
      "text/plain": [
       "lol                                                                                                                                                 3027\n",
       "hi                                                                                                                                                  1745\n",
       "-tools                                                                                                                                              1372\n",
       "darkd0rk3r - dork searching and searches for local file inclusion and sql injection                                                                 1194\n",
       "nipper - used to make observations about the security configurations of many different device types such as routers, firewalls, and switches        1194\n",
       "hashid - identifies the different types of hashes used to encrypt data                                                                              1194\n",
       "image-exiftool - provides an extensible set of perl modules to read and write meta information in a wide variety of image, audio and video files    1194\n",
       "maltego - an open source intelligence and forensics application                                                                                     1194\n",
       "this is for educational purposes only!                                                                                                              1194\n",
       "cintruder - an automatic pentesting tool to bypass captchas                                                                                         1194\n",
       "dsniff - is a collection of tools for network auditing and penetration testing                                                                      1194\n",
       "adminloginfinder - is a perl script that scans webservers for administrative login / control panel sections.                                        1194\n",
       "aircrack-ng - 802.11 wep and wpa-psk keys cracking program                                                                                          1194\n",
       "nikto - an open source web server scanner                                                                                                           1194\n",
       "hashcatplus - a gpgpu-based multi-hash cracker                                                                                                      1194\n",
       "johntheripper - a fast password cracker                                                                                                             1194\n",
       "uniscan - a simple remote file include, local file include and remote command execution vulnerability scanner                                       1194\n",
       "we are not responsible for any malicious use of these tools. use them wisely.                                                                       1194\n",
       "sqlmap - an open source penetration testing tool that automates the process of detecting and exploiting sql injection flaws                         1194\n",
       "cmsexplorer - is designed to reveal the the specific modules, plugins, components and themes that various cms driven web sites are running          1194\n",
       "nmap - a free and open source utility for network discovery and security auditing                                                                   1194\n",
       "wpscan - a black box wordpress vulnerability scanner                                                                                                1193\n",
       "unix-privesc-checker - tries to find misconfigurations that could allow local unprivilged users to escalate privileges to other users               1193\n",
       "xsser - an automatic -framework- to detect, exploit and report xss vulnerabilities in web-based applications                                        1193\n",
       "wireshark - a network protocol analyzer for unix and windows                                                                                        1191\n",
       "ok                                                                                                                                                  1079\n",
       "yes                                                                                                                                                  938\n",
       "v3n0m - the official adoption of darkd0rker heavily recoded, updated, expanded and improved upon                                                     817\n",
       "networkmine - a network forensic analysis tool (nfat) for windows                                                                                    765\n",
       "hello                                                                                                                                                729\n",
       "?                                                                                                                                                    687\n",
       ":)                                                                                                                                                   614\n",
       "no                                                                                                                                                   612\n",
       "xd                                                                                                                                                   542\n",
       "hey                                                                                                                                                  529\n",
       "yeah                                                                                                                                                 443\n",
       "networkminer - a network forensic analysis tool (nfat) for windows                                                                                   427\n",
       "^                                                                                                                                                    371\n",
       ":p                                                                                                                                                   302\n",
       ":d                                                                                                                                                   298\n",
       "Name: message, dtype: int64"
      ]
     },
     "execution_count": 111,
     "metadata": {},
     "output_type": "execute_result"
    }
   ],
   "source": [
    "Chats.message.str.lower().value_counts()[:40]"
   ]
  },
  {
   "cell_type": "markdown",
   "metadata": {},
   "source": [
    "Looks like the bot sends the same message on each log... but..."
   ]
  },
  {
   "cell_type": "markdown",
   "metadata": {},
   "source": [
    "Skipping this."
   ]
  },
  {
   "cell_type": "markdown",
   "metadata": {},
   "source": [
    "# "
   ]
  },
  {
   "cell_type": "markdown",
   "metadata": {},
   "source": [
    "# Q6. Summarize the users that posted the most messages"
   ]
  },
  {
   "cell_type": "markdown",
   "metadata": {},
   "source": [
    "This one sounds cool. Let's do this."
   ]
  },
  {
   "cell_type": "markdown",
   "metadata": {},
   "source": [
    "Now, to summarize users - who posted the most messages means let's take top 10 users. <br>\n",
    "We can include these things in the summary (for each individual user):\n",
    "* How many messages posted\n",
    "* Total time spent in the logs\n",
    "* Average time DAILY\n",
    "* Most used words in message\n",
    "* Avg. message length\n",
    "* Total times name changed\n",
    "* Avg. Daily active time when message is sent more"
   ]
  },
  {
   "cell_type": "code",
   "execution_count": 112,
   "metadata": {},
   "outputs": [
    {
     "data": {
      "text/plain": [
       "<+evilbot>         30721\n",
       "<@guapo>            8083\n",
       "< sTrikEforCe>      5305\n",
       "<@BOFH>             4449\n",
       "< lazarus>          3923\n",
       "< DeTH>             3028\n",
       "< catface>          2939\n",
       "< dd_>              2927\n",
       "<+Meow>             2627\n",
       "<+Cogitabundus>     2579\n",
       "Name: uname, dtype: int64"
      ]
     },
     "execution_count": 112,
     "metadata": {},
     "output_type": "execute_result"
    }
   ],
   "source": [
    "# Grabbing users (top 10)\n",
    "Chats.uname.value_counts()[:10]"
   ]
  },
  {
   "cell_type": "code",
   "execution_count": 113,
   "metadata": {},
   "outputs": [
    {
     "data": {
      "text/plain": [
       "Index(['<+evilbot>', '<@guapo>', '< sTrikEforCe>', '<@BOFH>', '< lazarus>',\n",
       "       '< DeTH>', '< catface>', '< dd_>', '<+Meow>', '<+Cogitabundus>'],\n",
       "      dtype='object')"
      ]
     },
     "execution_count": 113,
     "metadata": {},
     "output_type": "execute_result"
    }
   ],
   "source": [
    "'OKAY TO RUN'\n",
    "active_users = Chats.uname.value_counts()[:10].index\n",
    "active_users"
   ]
  },
  {
   "cell_type": "markdown",
   "metadata": {},
   "source": [
    "Looking at the pattern, I see that - the FIRST letter just before the actual username - is the TYPE of the user, + suggests somethig, @ suggests somethings and the most of them are having the ' ' space. Which may suggest the regualr or normal user. \n",
    "\n",
    "Now we need to extract the names so that we can use them in the Notifs df"
   ]
  },
  {
   "cell_type": "code",
   "execution_count": 114,
   "metadata": {},
   "outputs": [
    {
     "data": {
      "text/html": [
       "<div>\n",
       "<style scoped>\n",
       "    .dataframe tbody tr th:only-of-type {\n",
       "        vertical-align: middle;\n",
       "    }\n",
       "\n",
       "    .dataframe tbody tr th {\n",
       "        vertical-align: top;\n",
       "    }\n",
       "\n",
       "    .dataframe thead th {\n",
       "        text-align: right;\n",
       "    }\n",
       "</style>\n",
       "<table border=\"1\" class=\"dataframe\">\n",
       "  <thead>\n",
       "    <tr style=\"text-align: right;\">\n",
       "      <th></th>\n",
       "      <th>notif_name</th>\n",
       "      <th>chat_name</th>\n",
       "    </tr>\n",
       "  </thead>\n",
       "  <tbody>\n",
       "    <tr>\n",
       "      <th>0</th>\n",
       "      <td>evilbot</td>\n",
       "      <td>&lt;+evilbot&gt;</td>\n",
       "    </tr>\n",
       "    <tr>\n",
       "      <th>1</th>\n",
       "      <td>guapo</td>\n",
       "      <td>&lt;@guapo&gt;</td>\n",
       "    </tr>\n",
       "    <tr>\n",
       "      <th>2</th>\n",
       "      <td>sTrikEforCe</td>\n",
       "      <td>&lt; sTrikEforCe&gt;</td>\n",
       "    </tr>\n",
       "    <tr>\n",
       "      <th>3</th>\n",
       "      <td>BOFH</td>\n",
       "      <td>&lt;@BOFH&gt;</td>\n",
       "    </tr>\n",
       "    <tr>\n",
       "      <th>4</th>\n",
       "      <td>lazarus</td>\n",
       "      <td>&lt; lazarus&gt;</td>\n",
       "    </tr>\n",
       "    <tr>\n",
       "      <th>5</th>\n",
       "      <td>DeTH</td>\n",
       "      <td>&lt; DeTH&gt;</td>\n",
       "    </tr>\n",
       "    <tr>\n",
       "      <th>6</th>\n",
       "      <td>catface</td>\n",
       "      <td>&lt; catface&gt;</td>\n",
       "    </tr>\n",
       "    <tr>\n",
       "      <th>7</th>\n",
       "      <td>dd_</td>\n",
       "      <td>&lt; dd_&gt;</td>\n",
       "    </tr>\n",
       "    <tr>\n",
       "      <th>8</th>\n",
       "      <td>Meow</td>\n",
       "      <td>&lt;+Meow&gt;</td>\n",
       "    </tr>\n",
       "    <tr>\n",
       "      <th>9</th>\n",
       "      <td>Cogitabundus</td>\n",
       "      <td>&lt;+Cogitabundus&gt;</td>\n",
       "    </tr>\n",
       "  </tbody>\n",
       "</table>\n",
       "</div>"
      ],
      "text/plain": [
       "     notif_name        chat_name\n",
       "0       evilbot       <+evilbot>\n",
       "1         guapo         <@guapo>\n",
       "2   sTrikEforCe   < sTrikEforCe>\n",
       "3          BOFH          <@BOFH>\n",
       "4       lazarus       < lazarus>\n",
       "5          DeTH          < DeTH>\n",
       "6       catface       < catface>\n",
       "7           dd_           < dd_>\n",
       "8          Meow          <+Meow>\n",
       "9  Cogitabundus  <+Cogitabundus>"
      ]
     },
     "execution_count": 114,
     "metadata": {},
     "output_type": "execute_result"
    }
   ],
   "source": [
    "'OKAY TO RUN'\n",
    "\n",
    "# Because both df Chats and Notifs - are having different format for username\n",
    "# I am creating a single df to address them both\n",
    "\n",
    "active_users = pd.concat([active_users.str.extract(\"<.(.+)>\", flags= re.I), pd.Series(active_users)], axis= 1)\n",
    "active_users.columns = [\"notif_name\", \"chat_name\"]\n",
    "active_users"
   ]
  },
  {
   "cell_type": "markdown",
   "metadata": {},
   "source": [
    "# "
   ]
  },
  {
   "cell_type": "markdown",
   "metadata": {},
   "source": [
    "##### How many messages posted"
   ]
  },
  {
   "cell_type": "code",
   "execution_count": 115,
   "metadata": {},
   "outputs": [
    {
     "data": {
      "text/plain": [
       "uname\n",
       "< DeTH>             3028\n",
       "< catface>          2939\n",
       "< dd_>              2927\n",
       "< lazarus>          3923\n",
       "< sTrikEforCe>      5305\n",
       "<+Cogitabundus>     2579\n",
       "<+Meow>             2627\n",
       "<+evilbot>         30721\n",
       "<@BOFH>             4449\n",
       "<@guapo>            8083\n",
       "dtype: int64"
      ]
     },
     "execution_count": 115,
     "metadata": {},
     "output_type": "execute_result"
    }
   ],
   "source": [
    "'OKAY TO RUN'\n",
    "Chats[Chats.uname.isin(active_users.chat_name)].groupby(\"uname\").size()"
   ]
  },
  {
   "cell_type": "markdown",
   "metadata": {},
   "source": [
    "##### "
   ]
  },
  {
   "cell_type": "markdown",
   "metadata": {},
   "source": [
    "##### Total time spent in the logs"
   ]
  },
  {
   "cell_type": "markdown",
   "metadata": {},
   "source": [
    "*Here our WELL RESEARCHED! series will come in help*"
   ]
  },
  {
   "cell_type": "code",
   "execution_count": 117,
   "metadata": {},
   "outputs": [],
   "source": [
    "'OKAY TO RUN'\n",
    "\n",
    "with pd.HDFStore(\"./cleaned_tables_3.h5\") as file:\n",
    "    names_time = file[\"names_with_time\"]"
   ]
  },
  {
   "cell_type": "code",
   "execution_count": 118,
   "metadata": {},
   "outputs": [
    {
     "data": {
      "text/plain": [
       "Cogitabundus   56 days 10:13:00\n",
       "catface        39 days 05:49:00\n",
       "BOFH           37 days 14:14:00\n",
       "guapo          33 days 18:21:00\n",
       "DeTH           23 days 19:34:00\n",
       "sTrikEforCe    22 days 09:48:00\n",
       "lazarus        20 days 17:33:00\n",
       "dd_            12 days 05:22:00\n",
       "Meow            6 days 03:13:00\n",
       "evilbot         3 days 07:33:00\n",
       "dtype: timedelta64[ns]"
      ]
     },
     "execution_count": 118,
     "metadata": {},
     "output_type": "execute_result"
    }
   ],
   "source": [
    "'OKAY TO RUN'\n",
    "names_time[names_time.index.isin(active_users.notif_name)].apply(lambda x: np.array(x).sum()).sort_values(ascending= False)"
   ]
  },
  {
   "cell_type": "markdown",
   "metadata": {},
   "source": [
    "##### "
   ]
  },
  {
   "cell_type": "markdown",
   "metadata": {},
   "source": [
    "##### Average time DAILY"
   ]
  },
  {
   "cell_type": "markdown",
   "metadata": {},
   "source": [
    "For this we need again to group by DAY - instead of the log. And then do the same stuff... but this time with only 10 users."
   ]
  },
  {
   "cell_type": "code",
   "execution_count": 119,
   "metadata": {},
   "outputs": [
    {
     "data": {
      "text/html": [
       "<div>\n",
       "<style scoped>\n",
       "    .dataframe tbody tr th:only-of-type {\n",
       "        vertical-align: middle;\n",
       "    }\n",
       "\n",
       "    .dataframe tbody tr th {\n",
       "        vertical-align: top;\n",
       "    }\n",
       "\n",
       "    .dataframe thead th {\n",
       "        text-align: right;\n",
       "    }\n",
       "</style>\n",
       "<table border=\"1\" class=\"dataframe\">\n",
       "  <thead>\n",
       "    <tr style=\"text-align: right;\">\n",
       "      <th></th>\n",
       "      <th>time</th>\n",
       "      <th>uname</th>\n",
       "      <th>action</th>\n",
       "      <th>dayLog</th>\n",
       "      <th>dayChange</th>\n",
       "      <th>short_action</th>\n",
       "    </tr>\n",
       "  </thead>\n",
       "  <tbody>\n",
       "    <tr>\n",
       "      <th>99</th>\n",
       "      <td>2016-09-20 03:43:00</td>\n",
       "      <td>guapo</td>\n",
       "      <td>has quit [Ping timeout: 121 seconds]</td>\n",
       "      <td>2016-09-20</td>\n",
       "      <td>2016-09-20</td>\n",
       "      <td>has quit</td>\n",
       "    </tr>\n",
       "    <tr>\n",
       "      <th>176</th>\n",
       "      <td>2016-09-20 07:46:00</td>\n",
       "      <td>sTrikEforCe</td>\n",
       "      <td>has quit [Connection closed]</td>\n",
       "      <td>2016-09-20</td>\n",
       "      <td>2016-09-20</td>\n",
       "      <td>has quit</td>\n",
       "    </tr>\n",
       "    <tr>\n",
       "      <th>277</th>\n",
       "      <td>2016-09-20 12:48:00</td>\n",
       "      <td>guapo</td>\n",
       "      <td>has joined #hackers</td>\n",
       "      <td>2016-09-20</td>\n",
       "      <td>2016-09-20</td>\n",
       "      <td>has joined</td>\n",
       "    </tr>\n",
       "    <tr>\n",
       "      <th>368</th>\n",
       "      <td>2016-09-20 14:56:00</td>\n",
       "      <td>DeTH</td>\n",
       "      <td>has joined #hackers</td>\n",
       "      <td>2016-09-20</td>\n",
       "      <td>2016-09-20</td>\n",
       "      <td>has joined</td>\n",
       "    </tr>\n",
       "    <tr>\n",
       "      <th>444</th>\n",
       "      <td>2016-09-20 15:14:00</td>\n",
       "      <td>DeTH</td>\n",
       "      <td>has quit [Ping timeout: 121 seconds]</td>\n",
       "      <td>2016-09-20</td>\n",
       "      <td>2016-09-20</td>\n",
       "      <td>has quit</td>\n",
       "    </tr>\n",
       "    <tr>\n",
       "      <th>...</th>\n",
       "      <td>...</td>\n",
       "      <td>...</td>\n",
       "      <td>...</td>\n",
       "      <td>...</td>\n",
       "      <td>...</td>\n",
       "      <td>...</td>\n",
       "    </tr>\n",
       "    <tr>\n",
       "      <th>478778</th>\n",
       "      <td>2018-05-01 15:58:00</td>\n",
       "      <td>BOFH</td>\n",
       "      <td>has joined #hackers</td>\n",
       "      <td>2018-04-30</td>\n",
       "      <td>2018-05-01</td>\n",
       "      <td>has joined</td>\n",
       "    </tr>\n",
       "    <tr>\n",
       "      <th>478860</th>\n",
       "      <td>2018-05-01 17:25:00</td>\n",
       "      <td>Cogitabundus</td>\n",
       "      <td>has quit [Quit: Leaving]</td>\n",
       "      <td>2018-04-30</td>\n",
       "      <td>2018-05-01</td>\n",
       "      <td>has quit</td>\n",
       "    </tr>\n",
       "    <tr>\n",
       "      <th>478861</th>\n",
       "      <td>2018-05-01 17:51:00</td>\n",
       "      <td>Cogitabundus</td>\n",
       "      <td>has joined #hackers</td>\n",
       "      <td>2018-04-30</td>\n",
       "      <td>2018-05-01</td>\n",
       "      <td>has joined</td>\n",
       "    </tr>\n",
       "    <tr>\n",
       "      <th>478872</th>\n",
       "      <td>2018-05-01 18:01:00</td>\n",
       "      <td>Cogitabundus</td>\n",
       "      <td>has quit [Ping timeout: 121 seconds]</td>\n",
       "      <td>2018-04-30</td>\n",
       "      <td>2018-05-01</td>\n",
       "      <td>has quit</td>\n",
       "    </tr>\n",
       "    <tr>\n",
       "      <th>478881</th>\n",
       "      <td>2018-05-01 18:30:00</td>\n",
       "      <td>Cogitabundus</td>\n",
       "      <td>has joined #hackers</td>\n",
       "      <td>2018-04-30</td>\n",
       "      <td>2018-05-01</td>\n",
       "      <td>has joined</td>\n",
       "    </tr>\n",
       "  </tbody>\n",
       "</table>\n",
       "<p>3991 rows × 6 columns</p>\n",
       "</div>"
      ],
      "text/plain": [
       "                      time         uname  \\\n",
       "99     2016-09-20 03:43:00         guapo   \n",
       "176    2016-09-20 07:46:00   sTrikEforCe   \n",
       "277    2016-09-20 12:48:00         guapo   \n",
       "368    2016-09-20 14:56:00          DeTH   \n",
       "444    2016-09-20 15:14:00          DeTH   \n",
       "...                    ...           ...   \n",
       "478778 2018-05-01 15:58:00          BOFH   \n",
       "478860 2018-05-01 17:25:00  Cogitabundus   \n",
       "478861 2018-05-01 17:51:00  Cogitabundus   \n",
       "478872 2018-05-01 18:01:00  Cogitabundus   \n",
       "478881 2018-05-01 18:30:00  Cogitabundus   \n",
       "\n",
       "                                      action     dayLog  dayChange  \\\n",
       "99      has quit [Ping timeout: 121 seconds] 2016-09-20 2016-09-20   \n",
       "176             has quit [Connection closed] 2016-09-20 2016-09-20   \n",
       "277                      has joined #hackers 2016-09-20 2016-09-20   \n",
       "368                      has joined #hackers 2016-09-20 2016-09-20   \n",
       "444     has quit [Ping timeout: 121 seconds] 2016-09-20 2016-09-20   \n",
       "...                                      ...        ...        ...   \n",
       "478778                   has joined #hackers 2018-04-30 2018-05-01   \n",
       "478860              has quit [Quit: Leaving] 2018-04-30 2018-05-01   \n",
       "478861                   has joined #hackers 2018-04-30 2018-05-01   \n",
       "478872  has quit [Ping timeout: 121 seconds] 2018-04-30 2018-05-01   \n",
       "478881                   has joined #hackers 2018-04-30 2018-05-01   \n",
       "\n",
       "       short_action  \n",
       "99         has quit  \n",
       "176        has quit  \n",
       "277      has joined  \n",
       "368      has joined  \n",
       "444        has quit  \n",
       "...             ...  \n",
       "478778   has joined  \n",
       "478860     has quit  \n",
       "478861   has joined  \n",
       "478872     has quit  \n",
       "478881   has joined  \n",
       "\n",
       "[3991 rows x 6 columns]"
      ]
     },
     "execution_count": 119,
     "metadata": {},
     "output_type": "execute_result"
    }
   ],
   "source": [
    "'OKAY TO RUN'\n",
    "\n",
    "notifs_for_daily = Notifs[Notifs.uname.isin(active_users.notif_name)]\n",
    "notifs_for_daily"
   ]
  },
  {
   "cell_type": "markdown",
   "metadata": {},
   "source": [
    "Now this will again take us the same kind of loop... which we had used to get the difference of Login and Logout for each user. \n",
    "\n",
    "But now, the situation is a bit different, we now need to take care of each user - each day. "
   ]
  },
  {
   "cell_type": "code",
   "execution_count": 120,
   "metadata": {},
   "outputs": [],
   "source": [
    "def count_stay(group, uname):\n",
    "    \"\"\"\n",
    "    This is the third long function, which will count the\n",
    "    time PER DAY. (before this we counted per session and per log)\n",
    "    \"\"\"\n",
    "    \n",
    "    start_time = False\n",
    "    each_day = []\n",
    "    for i in group.iterrows():\n",
    "        row = i[1]\n",
    "        if row['short_action'] == \"has joined\":\n",
    "            if start_time == False:\n",
    "                start_time = row['time']\n",
    "            else:\n",
    "                each_day.append(row['time'] - start_time)\n",
    "                start_time = row['time']\n",
    "        elif row['short_action'] in [\"has quit\", \"has left\"]:\n",
    "            if start_time != False:\n",
    "                each_day.append(row['time'] - start_time)\n",
    "                start_time = False\n",
    "                \n",
    "    if start_time != False:\n",
    "        each_day.append(row['time'] - start_time)\n",
    "    total_time = np.array(each_day).sum()\n",
    "    if total_time != 0:\n",
    "        names[uname].append(total_time)"
   ]
  },
  {
   "cell_type": "code",
   "execution_count": 121,
   "metadata": {},
   "outputs": [],
   "source": [
    "'OKAY TO RUN'\n",
    "u_names = notifs_for_daily.uname.unique()"
   ]
  },
  {
   "cell_type": "code",
   "execution_count": 123,
   "metadata": {},
   "outputs": [
    {
     "name": "stdout",
     "output_type": "stream",
     "text": [
      "0 guapo\n",
      "1 sTrikEforCe\n",
      "2 DeTH\n",
      "3 catface\n",
      "4 Cogitabundus\n",
      "5 BOFH\n",
      "6 lazarus\n",
      "7 evilbot\n",
      "8 dd_\n",
      "9 Meow\n"
     ]
    }
   ],
   "source": [
    "'OKAY TO RUN yes really! For only 10 people it is OKAY TO RUN'\n",
    "\n",
    "names = defaultdict(list)\n",
    "for th, name in enumerate(u_names):\n",
    "    print(th, name)\n",
    "    for_name = Notifs[Notifs.uname == name]\n",
    "    for_name.groupby(\"dayChange\")[['short_action', 'time']].apply(count_stay, uname= name)"
   ]
  },
  {
   "cell_type": "code",
   "execution_count": 125,
   "metadata": {},
   "outputs": [],
   "source": [
    "# Converting in series for ease\n",
    "names_ser = pd.Series(names)"
   ]
  },
  {
   "cell_type": "code",
   "execution_count": 126,
   "metadata": {},
   "outputs": [],
   "source": [
    "def mean_count(x):\n",
    "    x = np.array(x)\n",
    "    return pd.Series([x.mean(), len(x)], index=[\"mean\", \"count\"])"
   ]
  },
  {
   "cell_type": "code",
   "execution_count": 127,
   "metadata": {},
   "outputs": [
    {
     "data": {
      "text/html": [
       "<div>\n",
       "<style scoped>\n",
       "    .dataframe tbody tr th:only-of-type {\n",
       "        vertical-align: middle;\n",
       "    }\n",
       "\n",
       "    .dataframe tbody tr th {\n",
       "        vertical-align: top;\n",
       "    }\n",
       "\n",
       "    .dataframe thead th {\n",
       "        text-align: right;\n",
       "    }\n",
       "</style>\n",
       "<table border=\"1\" class=\"dataframe\">\n",
       "  <thead>\n",
       "    <tr style=\"text-align: right;\">\n",
       "      <th></th>\n",
       "      <th>mean</th>\n",
       "      <th>count</th>\n",
       "    </tr>\n",
       "  </thead>\n",
       "  <tbody>\n",
       "    <tr>\n",
       "      <th>catface</th>\n",
       "      <td>0 days 03:38:10.875000</td>\n",
       "      <td>160</td>\n",
       "    </tr>\n",
       "    <tr>\n",
       "      <th>lazarus</th>\n",
       "      <td>0 days 03:10:30.573248407</td>\n",
       "      <td>157</td>\n",
       "    </tr>\n",
       "    <tr>\n",
       "      <th>DeTH</th>\n",
       "      <td>0 days 03:01:54.193548387</td>\n",
       "      <td>124</td>\n",
       "    </tr>\n",
       "    <tr>\n",
       "      <th>Cogitabundus</th>\n",
       "      <td>0 days 02:14:26.415094339</td>\n",
       "      <td>318</td>\n",
       "    </tr>\n",
       "    <tr>\n",
       "      <th>dd_</th>\n",
       "      <td>0 days 02:06:50</td>\n",
       "      <td>42</td>\n",
       "    </tr>\n",
       "    <tr>\n",
       "      <th>BOFH</th>\n",
       "      <td>0 days 01:50:46.730769230</td>\n",
       "      <td>208</td>\n",
       "    </tr>\n",
       "    <tr>\n",
       "      <th>guapo</th>\n",
       "      <td>0 days 01:42:23.492063492</td>\n",
       "      <td>189</td>\n",
       "    </tr>\n",
       "    <tr>\n",
       "      <th>evilbot</th>\n",
       "      <td>0 days 01:13:54.782608695</td>\n",
       "      <td>23</td>\n",
       "    </tr>\n",
       "    <tr>\n",
       "      <th>sTrikEforCe</th>\n",
       "      <td>0 days 01:05:40.588235294</td>\n",
       "      <td>34</td>\n",
       "    </tr>\n",
       "    <tr>\n",
       "      <th>Meow</th>\n",
       "      <td>0 days 00:46:20.412371134</td>\n",
       "      <td>97</td>\n",
       "    </tr>\n",
       "  </tbody>\n",
       "</table>\n",
       "</div>"
      ],
      "text/plain": [
       "                                  mean  count\n",
       "catface         0 days 03:38:10.875000    160\n",
       "lazarus      0 days 03:10:30.573248407    157\n",
       "DeTH         0 days 03:01:54.193548387    124\n",
       "Cogitabundus 0 days 02:14:26.415094339    318\n",
       "dd_                    0 days 02:06:50     42\n",
       "BOFH         0 days 01:50:46.730769230    208\n",
       "guapo        0 days 01:42:23.492063492    189\n",
       "evilbot      0 days 01:13:54.782608695     23\n",
       "sTrikEforCe  0 days 01:05:40.588235294     34\n",
       "Meow         0 days 00:46:20.412371134     97"
      ]
     },
     "execution_count": 127,
     "metadata": {},
     "output_type": "execute_result"
    }
   ],
   "source": [
    "'OKAY TO RUN'\n",
    "\n",
    "mean_stay_per_day = names_ser.apply(mean_count)\n",
    "mean_stay_per_day.sort_values(by= 'mean', ascending= False)"
   ]
  },
  {
   "cell_type": "markdown",
   "metadata": {},
   "source": [
    "#### "
   ]
  },
  {
   "cell_type": "markdown",
   "metadata": {},
   "source": [
    "##### Most used words in the message (Top 1) "
   ]
  },
  {
   "cell_type": "code",
   "execution_count": 128,
   "metadata": {},
   "outputs": [],
   "source": [
    "'OKAY TO RUN'\n",
    "\n",
    "# Constraining the dataframe of Chats to just 10 people (active)\n",
    "chat_names_active = Chats[Chats.uname.isin(active_users.chat_name)]"
   ]
  },
  {
   "cell_type": "markdown",
   "metadata": {},
   "source": [
    "# "
   ]
  },
  {
   "cell_type": "code",
   "execution_count": 129,
   "metadata": {},
   "outputs": [],
   "source": [
    "# Importing string because we need to remove the punctuations\n",
    "import string"
   ]
  },
  {
   "cell_type": "code",
   "execution_count": 130,
   "metadata": {},
   "outputs": [],
   "source": [
    "'OKAY TO RUN'\n",
    "stopwords.extend(list(string.punctuation))"
   ]
  },
  {
   "cell_type": "code",
   "execution_count": 131,
   "metadata": {},
   "outputs": [],
   "source": [
    "def get_common_words(uname):\n",
    "    '''\n",
    "    With many steps, it will get the common word (most common)\n",
    "    per user and return it back\n",
    "    '''\n",
    "    user = chat_names_active[chat_names_active.uname == uname].message.str.lower()\n",
    "    words = pd.Series(Counter(\" \".join(user).split()))\n",
    "    return words[words.index.isin(words.index.difference(stopwords))].sort_values(ascending= False)[:1]"
   ]
  },
  {
   "cell_type": "code",
   "execution_count": 132,
   "metadata": {},
   "outputs": [],
   "source": [
    "'OKAY TO RUN'\n",
    "\n",
    "names = defaultdict(object)\n",
    "for uname in chat_names_active.uname.unique():\n",
    "    most_common = get_common_words(uname)\n",
    "    names[uname] = tuple([most_common.index[0], most_common[0]])"
   ]
  },
  {
   "cell_type": "code",
   "execution_count": 133,
   "metadata": {},
   "outputs": [
    {
     "data": {
      "text/plain": [
       "< sTrikEforCe>       (guapo:, 269)\n",
       "< DeTH>                (like, 106)\n",
       "<+Cogitabundus>         (well, 83)\n",
       "<+evilbot>         (network, 4924)\n",
       "<@BOFH>                (like, 182)\n",
       "< lazarus>              (yes, 173)\n",
       "< catface>             (like, 156)\n",
       "< dd_>                 (haha, 119)\n",
       "<@guapo>                (lol, 303)\n",
       "<+Meow>             (title:, 2261)\n",
       "dtype: object"
      ]
     },
     "execution_count": 133,
     "metadata": {},
     "output_type": "execute_result"
    }
   ],
   "source": [
    "pd.Series(names)"
   ]
  },
  {
   "cell_type": "markdown",
   "metadata": {},
   "source": [
    "As it is easily digestable, the names are indices and then the common words by them are in the tuple with the counts *(grammar and stopwords have been removed)*"
   ]
  },
  {
   "cell_type": "markdown",
   "metadata": {},
   "source": [
    "# "
   ]
  },
  {
   "cell_type": "markdown",
   "metadata": {},
   "source": [
    "##### Avg. message length"
   ]
  },
  {
   "cell_type": "code",
   "execution_count": 134,
   "metadata": {},
   "outputs": [
    {
     "data": {
      "text/plain": [
       "uname\n",
       "< DeTH>            28.856011\n",
       "< catface>         40.911875\n",
       "< dd_>             37.602323\n",
       "< lazarus>         21.894978\n",
       "< sTrikEforCe>     50.379076\n",
       "<+Cogitabundus>    36.182241\n",
       "<+Meow>            79.483061\n",
       "<+evilbot>         83.202174\n",
       "<@BOFH>            40.119128\n",
       "<@guapo>           25.670419\n",
       "Name: message, dtype: float64"
      ]
     },
     "execution_count": 134,
     "metadata": {},
     "output_type": "execute_result"
    }
   ],
   "source": [
    "'OKAY TO RUN'\n",
    "chat_names_active.groupby('uname').message.apply(lambda x: x.str.len().mean())"
   ]
  },
  {
   "cell_type": "markdown",
   "metadata": {},
   "source": [
    "# "
   ]
  },
  {
   "cell_type": "markdown",
   "metadata": {},
   "source": [
    "#####  Total times names changed"
   ]
  },
  {
   "cell_type": "markdown",
   "metadata": {},
   "source": [
    "Finally for the first time we can have the access to the Rename df."
   ]
  },
  {
   "cell_type": "code",
   "execution_count": 32,
   "metadata": {},
   "outputs": [
    {
     "data": {
      "text/html": [
       "<div>\n",
       "<style scoped>\n",
       "    .dataframe tbody tr th:only-of-type {\n",
       "        vertical-align: middle;\n",
       "    }\n",
       "\n",
       "    .dataframe tbody tr th {\n",
       "        vertical-align: top;\n",
       "    }\n",
       "\n",
       "    .dataframe thead th {\n",
       "        text-align: right;\n",
       "    }\n",
       "</style>\n",
       "<table border=\"1\" class=\"dataframe\">\n",
       "  <thead>\n",
       "    <tr style=\"text-align: right;\">\n",
       "      <th></th>\n",
       "      <th>time</th>\n",
       "      <th>type</th>\n",
       "      <th>old_name</th>\n",
       "      <th>message</th>\n",
       "      <th>_</th>\n",
       "      <th>new_name</th>\n",
       "      <th>dayLog</th>\n",
       "      <th>dayChange</th>\n",
       "    </tr>\n",
       "  </thead>\n",
       "  <tbody>\n",
       "    <tr>\n",
       "      <th>34</th>\n",
       "      <td>2016-09-20 01:31:00</td>\n",
       "      <td>-!-</td>\n",
       "      <td>hellboy</td>\n",
       "      <td>is now known as</td>\n",
       "      <td>is</td>\n",
       "      <td>Guest26312</td>\n",
       "      <td>2016-09-20</td>\n",
       "      <td>2016-09-20</td>\n",
       "    </tr>\n",
       "    <tr>\n",
       "      <th>38</th>\n",
       "      <td>2016-09-20 01:38:00</td>\n",
       "      <td>-!-</td>\n",
       "      <td>AndroUser2</td>\n",
       "      <td>is now known as</td>\n",
       "      <td>is</td>\n",
       "      <td>Guest25727</td>\n",
       "      <td>2016-09-20</td>\n",
       "      <td>2016-09-20</td>\n",
       "    </tr>\n",
       "    <tr>\n",
       "      <th>46</th>\n",
       "      <td>2016-09-20 01:54:00</td>\n",
       "      <td>-!-</td>\n",
       "      <td>AndroUser2</td>\n",
       "      <td>is now known as</td>\n",
       "      <td>is</td>\n",
       "      <td>Guest17978</td>\n",
       "      <td>2016-09-20</td>\n",
       "      <td>2016-09-20</td>\n",
       "    </tr>\n",
       "    <tr>\n",
       "      <th>49</th>\n",
       "      <td>2016-09-20 01:56:00</td>\n",
       "      <td>-!-</td>\n",
       "      <td>AndroUser2</td>\n",
       "      <td>is now known as</td>\n",
       "      <td>is</td>\n",
       "      <td>Guest65262</td>\n",
       "      <td>2016-09-20</td>\n",
       "      <td>2016-09-20</td>\n",
       "    </tr>\n",
       "    <tr>\n",
       "      <th>66</th>\n",
       "      <td>2016-09-20 02:21:00</td>\n",
       "      <td>-!-</td>\n",
       "      <td>Guest2385</td>\n",
       "      <td>is now known as</td>\n",
       "      <td>is</td>\n",
       "      <td>__desu__</td>\n",
       "      <td>2016-09-20</td>\n",
       "      <td>2016-09-20</td>\n",
       "    </tr>\n",
       "    <tr>\n",
       "      <th>...</th>\n",
       "      <td>...</td>\n",
       "      <td>...</td>\n",
       "      <td>...</td>\n",
       "      <td>...</td>\n",
       "      <td>...</td>\n",
       "      <td>...</td>\n",
       "      <td>...</td>\n",
       "      <td>...</td>\n",
       "    </tr>\n",
       "    <tr>\n",
       "      <th>478762</th>\n",
       "      <td>2018-05-01 14:58:00</td>\n",
       "      <td>-!-</td>\n",
       "      <td>raiz</td>\n",
       "      <td>is now known as</td>\n",
       "      <td>is</td>\n",
       "      <td>Guest6167</td>\n",
       "      <td>2018-04-30</td>\n",
       "      <td>2018-05-01</td>\n",
       "    </tr>\n",
       "    <tr>\n",
       "      <th>478763</th>\n",
       "      <td>2018-05-01 14:59:00</td>\n",
       "      <td>-!-</td>\n",
       "      <td>Guest6167</td>\n",
       "      <td>is now known as</td>\n",
       "      <td>is</td>\n",
       "      <td>raiz</td>\n",
       "      <td>2018-04-30</td>\n",
       "      <td>2018-05-01</td>\n",
       "    </tr>\n",
       "    <tr>\n",
       "      <th>478841</th>\n",
       "      <td>2018-05-01 16:56:00</td>\n",
       "      <td>-!-</td>\n",
       "      <td>anonunknown</td>\n",
       "      <td>is now known as</td>\n",
       "      <td>is</td>\n",
       "      <td>Guest59820</td>\n",
       "      <td>2018-04-30</td>\n",
       "      <td>2018-05-01</td>\n",
       "    </tr>\n",
       "    <tr>\n",
       "      <th>478865</th>\n",
       "      <td>2018-05-01 17:54:00</td>\n",
       "      <td>-!-</td>\n",
       "      <td>regyroman</td>\n",
       "      <td>is now known as</td>\n",
       "      <td>is</td>\n",
       "      <td>Guest64959</td>\n",
       "      <td>2018-04-30</td>\n",
       "      <td>2018-05-01</td>\n",
       "    </tr>\n",
       "    <tr>\n",
       "      <th>478887</th>\n",
       "      <td>2018-05-01 18:42:00</td>\n",
       "      <td>-!-</td>\n",
       "      <td>raiz</td>\n",
       "      <td>is now known as</td>\n",
       "      <td>is</td>\n",
       "      <td>Guest10265</td>\n",
       "      <td>2018-04-30</td>\n",
       "      <td>2018-05-01</td>\n",
       "    </tr>\n",
       "  </tbody>\n",
       "</table>\n",
       "<p>13799 rows × 8 columns</p>\n",
       "</div>"
      ],
      "text/plain": [
       "                      time   type     old_name            message    _  \\\n",
       "34     2016-09-20 01:31:00   -!-       hellboy   is now known as   is    \n",
       "38     2016-09-20 01:38:00   -!-    AndroUser2   is now known as   is    \n",
       "46     2016-09-20 01:54:00   -!-    AndroUser2   is now known as   is    \n",
       "49     2016-09-20 01:56:00   -!-    AndroUser2   is now known as   is    \n",
       "66     2016-09-20 02:21:00   -!-     Guest2385   is now known as   is    \n",
       "...                    ...    ...          ...                ...  ...   \n",
       "478762 2018-05-01 14:58:00   -!-          raiz   is now known as   is    \n",
       "478763 2018-05-01 14:59:00   -!-     Guest6167   is now known as   is    \n",
       "478841 2018-05-01 16:56:00   -!-   anonunknown   is now known as   is    \n",
       "478865 2018-05-01 17:54:00   -!-     regyroman   is now known as   is    \n",
       "478887 2018-05-01 18:42:00   -!-          raiz   is now known as   is    \n",
       "\n",
       "          new_name     dayLog  dayChange  \n",
       "34      Guest26312 2016-09-20 2016-09-20  \n",
       "38      Guest25727 2016-09-20 2016-09-20  \n",
       "46      Guest17978 2016-09-20 2016-09-20  \n",
       "49      Guest65262 2016-09-20 2016-09-20  \n",
       "66        __desu__ 2016-09-20 2016-09-20  \n",
       "...            ...        ...        ...  \n",
       "478762   Guest6167 2018-04-30 2018-05-01  \n",
       "478763        raiz 2018-04-30 2018-05-01  \n",
       "478841  Guest59820 2018-04-30 2018-05-01  \n",
       "478865  Guest64959 2018-04-30 2018-05-01  \n",
       "478887  Guest10265 2018-04-30 2018-05-01  \n",
       "\n",
       "[13799 rows x 8 columns]"
      ]
     },
     "execution_count": 32,
     "metadata": {},
     "output_type": "execute_result"
    }
   ],
   "source": [
    "Renams"
   ]
  },
  {
   "cell_type": "code",
   "execution_count": 135,
   "metadata": {},
   "outputs": [
    {
     "data": {
      "text/html": [
       "<div>\n",
       "<style scoped>\n",
       "    .dataframe tbody tr th:only-of-type {\n",
       "        vertical-align: middle;\n",
       "    }\n",
       "\n",
       "    .dataframe tbody tr th {\n",
       "        vertical-align: top;\n",
       "    }\n",
       "\n",
       "    .dataframe thead th {\n",
       "        text-align: right;\n",
       "    }\n",
       "</style>\n",
       "<table border=\"1\" class=\"dataframe\">\n",
       "  <thead>\n",
       "    <tr style=\"text-align: right;\">\n",
       "      <th></th>\n",
       "      <th>time</th>\n",
       "      <th>type</th>\n",
       "      <th>old_name</th>\n",
       "      <th>message</th>\n",
       "      <th>_</th>\n",
       "      <th>new_name</th>\n",
       "      <th>dayLog</th>\n",
       "      <th>dayChange</th>\n",
       "    </tr>\n",
       "  </thead>\n",
       "  <tbody>\n",
       "    <tr>\n",
       "      <th>11070</th>\n",
       "      <td>2016-09-27 13:05:00</td>\n",
       "      <td>-!-</td>\n",
       "      <td>dd_</td>\n",
       "      <td>is now known as</td>\n",
       "      <td>is</td>\n",
       "      <td>Guest18625</td>\n",
       "      <td>2016-09-26</td>\n",
       "      <td>2016-09-27</td>\n",
       "    </tr>\n",
       "    <tr>\n",
       "      <th>22741</th>\n",
       "      <td>2016-10-07 22:39:00</td>\n",
       "      <td>-!-</td>\n",
       "      <td>BOFH</td>\n",
       "      <td>is now known as</td>\n",
       "      <td>is</td>\n",
       "      <td>EatenByAnAardvark</td>\n",
       "      <td>2016-10-06</td>\n",
       "      <td>2016-10-07</td>\n",
       "    </tr>\n",
       "    <tr>\n",
       "      <th>22751</th>\n",
       "      <td>2016-10-07 23:00:00</td>\n",
       "      <td>-!-</td>\n",
       "      <td>Cogitabundus</td>\n",
       "      <td>is now known as</td>\n",
       "      <td>is</td>\n",
       "      <td>cogitafungus</td>\n",
       "      <td>2016-10-06</td>\n",
       "      <td>2016-10-07</td>\n",
       "    </tr>\n",
       "    <tr>\n",
       "      <th>23265</th>\n",
       "      <td>2016-10-08 01:12:00</td>\n",
       "      <td>-!-</td>\n",
       "      <td>lazarus</td>\n",
       "      <td>is now known as</td>\n",
       "      <td>is</td>\n",
       "      <td>Guest64050</td>\n",
       "      <td>2016-10-06</td>\n",
       "      <td>2016-10-08</td>\n",
       "    </tr>\n",
       "    <tr>\n",
       "      <th>24047</th>\n",
       "      <td>2016-10-08 06:33:00</td>\n",
       "      <td>-!-</td>\n",
       "      <td>lazarus</td>\n",
       "      <td>is now known as</td>\n",
       "      <td>is</td>\n",
       "      <td>Guest25559</td>\n",
       "      <td>2016-10-06</td>\n",
       "      <td>2016-10-08</td>\n",
       "    </tr>\n",
       "    <tr>\n",
       "      <th>...</th>\n",
       "      <td>...</td>\n",
       "      <td>...</td>\n",
       "      <td>...</td>\n",
       "      <td>...</td>\n",
       "      <td>...</td>\n",
       "      <td>...</td>\n",
       "      <td>...</td>\n",
       "      <td>...</td>\n",
       "    </tr>\n",
       "    <tr>\n",
       "      <th>464979</th>\n",
       "      <td>2018-04-04 19:21:00</td>\n",
       "      <td>-!-</td>\n",
       "      <td>lazarus</td>\n",
       "      <td>is now known as</td>\n",
       "      <td>is</td>\n",
       "      <td>Guest20021</td>\n",
       "      <td>2018-04-03</td>\n",
       "      <td>2018-04-04</td>\n",
       "    </tr>\n",
       "    <tr>\n",
       "      <th>467955</th>\n",
       "      <td>2018-04-11 09:10:00</td>\n",
       "      <td>-!-</td>\n",
       "      <td>guapo</td>\n",
       "      <td>is now known as</td>\n",
       "      <td>is</td>\n",
       "      <td>Guest30229</td>\n",
       "      <td>2018-04-10</td>\n",
       "      <td>2018-04-11</td>\n",
       "    </tr>\n",
       "    <tr>\n",
       "      <th>472494</th>\n",
       "      <td>2018-04-20 08:21:00</td>\n",
       "      <td>-!-</td>\n",
       "      <td>guapo</td>\n",
       "      <td>is now known as</td>\n",
       "      <td>is</td>\n",
       "      <td>Guest48792</td>\n",
       "      <td>2018-04-19</td>\n",
       "      <td>2018-04-20</td>\n",
       "    </tr>\n",
       "    <tr>\n",
       "      <th>475334</th>\n",
       "      <td>2018-04-26 10:10:00</td>\n",
       "      <td>-!-</td>\n",
       "      <td>guapo</td>\n",
       "      <td>is now known as</td>\n",
       "      <td>is</td>\n",
       "      <td>Guest27802</td>\n",
       "      <td>2018-04-25</td>\n",
       "      <td>2018-04-26</td>\n",
       "    </tr>\n",
       "    <tr>\n",
       "      <th>476754</th>\n",
       "      <td>2018-04-28 16:10:00</td>\n",
       "      <td>-!-</td>\n",
       "      <td>lazarus</td>\n",
       "      <td>is now known as</td>\n",
       "      <td>is</td>\n",
       "      <td>Guest53545</td>\n",
       "      <td>2018-04-27</td>\n",
       "      <td>2018-04-28</td>\n",
       "    </tr>\n",
       "  </tbody>\n",
       "</table>\n",
       "<p>240 rows × 8 columns</p>\n",
       "</div>"
      ],
      "text/plain": [
       "                      time   type      old_name            message    _  \\\n",
       "11070  2016-09-27 13:05:00   -!-            dd_   is now known as   is    \n",
       "22741  2016-10-07 22:39:00   -!-           BOFH   is now known as   is    \n",
       "22751  2016-10-07 23:00:00   -!-   Cogitabundus   is now known as   is    \n",
       "23265  2016-10-08 01:12:00   -!-        lazarus   is now known as   is    \n",
       "24047  2016-10-08 06:33:00   -!-        lazarus   is now known as   is    \n",
       "...                    ...    ...           ...                ...  ...   \n",
       "464979 2018-04-04 19:21:00   -!-        lazarus   is now known as   is    \n",
       "467955 2018-04-11 09:10:00   -!-          guapo   is now known as   is    \n",
       "472494 2018-04-20 08:21:00   -!-          guapo   is now known as   is    \n",
       "475334 2018-04-26 10:10:00   -!-          guapo   is now known as   is    \n",
       "476754 2018-04-28 16:10:00   -!-        lazarus   is now known as   is    \n",
       "\n",
       "                 new_name     dayLog  dayChange  \n",
       "11070          Guest18625 2016-09-26 2016-09-27  \n",
       "22741   EatenByAnAardvark 2016-10-06 2016-10-07  \n",
       "22751        cogitafungus 2016-10-06 2016-10-07  \n",
       "23265          Guest64050 2016-10-06 2016-10-08  \n",
       "24047          Guest25559 2016-10-06 2016-10-08  \n",
       "...                   ...        ...        ...  \n",
       "464979         Guest20021 2018-04-03 2018-04-04  \n",
       "467955         Guest30229 2018-04-10 2018-04-11  \n",
       "472494         Guest48792 2018-04-19 2018-04-20  \n",
       "475334         Guest27802 2018-04-25 2018-04-26  \n",
       "476754         Guest53545 2018-04-27 2018-04-28  \n",
       "\n",
       "[240 rows x 8 columns]"
      ]
     },
     "execution_count": 135,
     "metadata": {},
     "output_type": "execute_result"
    }
   ],
   "source": [
    "# Constraining to just 10 active users\n",
    "renams_active = Renams[Renams.old_name.isin(active_users.notif_name)]\n",
    "renams_active"
   ]
  },
  {
   "cell_type": "code",
   "execution_count": 137,
   "metadata": {},
   "outputs": [
    {
     "data": {
      "text/plain": [
       "old_name\n",
       "BOFH             34\n",
       "Cogitabundus     30\n",
       "DeTH             35\n",
       "Meow              2\n",
       "catface           3\n",
       "dd_               6\n",
       "evilbot           1\n",
       "guapo            27\n",
       "lazarus         101\n",
       "sTrikEforCe       1\n",
       "dtype: int64"
      ]
     },
     "execution_count": 137,
     "metadata": {},
     "output_type": "execute_result"
    }
   ],
   "source": [
    "'OKAY TO RUN'\n",
    "renams_active.groupby(\"old_name\").size()"
   ]
  },
  {
   "cell_type": "markdown",
   "metadata": {},
   "source": [
    "##### "
   ]
  },
  {
   "cell_type": "markdown",
   "metadata": {},
   "source": [
    "##### Time when most active (more message sent) "
   ]
  },
  {
   "cell_type": "markdown",
   "metadata": {},
   "source": [
    "This is a new kind of problem that we will try to addrress, here - we will do some pandas magic."
   ]
  },
  {
   "cell_type": "code",
   "execution_count": 138,
   "metadata": {},
   "outputs": [
    {
     "data": {
      "text/plain": [
       "< sTrikEforCe>      4\n",
       "< DeTH>             6\n",
       "<+Cogitabundus>    20\n",
       "<+evilbot>         19\n",
       "<@BOFH>            24\n",
       "< lazarus>         10\n",
       "< catface>         21\n",
       "< dd_>             17\n",
       "<@guapo>           24\n",
       "<+Meow>            19\n",
       "dtype: int64"
      ]
     },
     "execution_count": 138,
     "metadata": {},
     "output_type": "execute_result"
    }
   ],
   "source": [
    "'OKAY TO RUN'\n",
    "\n",
    "u_names = chat_names_active.uname.unique()\n",
    "names_active = []\n",
    "for name in u_names:\n",
    "    temp = chat_names_active[chat_names_active.uname == name]\n",
    "    names_active.append((name, temp.set_index('time').groupby(lambda time: time.hour + 1).size().idxmax()))\n",
    "    \n",
    "names_active = pd.Series(dict(names_active))\n",
    "names_active"
   ]
  },
  {
   "cell_type": "markdown",
   "metadata": {},
   "source": [
    "# "
   ]
  },
  {
   "cell_type": "markdown",
   "metadata": {},
   "source": [
    "If you are following this till now, the naming conventions should be the same as mine. So, let's get one variable loaded again, because that is overwritten."
   ]
  },
  {
   "cell_type": "code",
   "execution_count": 143,
   "metadata": {},
   "outputs": [],
   "source": [
    "with pd.HDFStore(\"./cleaned_tables_3.h5\") as file:\n",
    "    names_with_time = file['names_with_time']"
   ]
  },
  {
   "cell_type": "markdown",
   "metadata": {},
   "source": [
    "# "
   ]
  },
  {
   "cell_type": "markdown",
   "metadata": {},
   "source": [
    "# Now that we have all data\n",
    "Let's put them all together"
   ]
  },
  {
   "cell_type": "markdown",
   "metadata": {},
   "source": [
    "> ALL ARE OKAY TO RUN FROM NOW."
   ]
  },
  {
   "cell_type": "code",
   "execution_count": 145,
   "metadata": {},
   "outputs": [],
   "source": [
    "# Total messages\n",
    "total_num_messages = Chats[Chats.uname.isin(active_users.chat_name)].groupby(\"uname\").size()"
   ]
  },
  {
   "cell_type": "code",
   "execution_count": 146,
   "metadata": {},
   "outputs": [],
   "source": [
    "# Total time spent in logs\n",
    "time_spent_logs = names_with_time[names_with_time.index.isin(active_users.notif_name)].apply(lambda x: np.array(x).sum()).sort_values(ascending= False)"
   ]
  },
  {
   "cell_type": "code",
   "execution_count": 147,
   "metadata": {},
   "outputs": [],
   "source": [
    "# Average time spend per day\n",
    "mean_stay_per_day = names_ser.apply(mean_count)\n",
    "mean_stay_per_day = mean_stay_per_day.sort_values(by= 'mean', ascending= False)"
   ]
  },
  {
   "cell_type": "code",
   "execution_count": 148,
   "metadata": {},
   "outputs": [],
   "source": [
    "# Common words\n",
    "names = defaultdict(object)\n",
    "for uname in chat_names_active.uname.unique():\n",
    "    most_common = get_common_words(uname)\n",
    "    names[uname] = tuple([most_common.index[0], most_common[0]])\n",
    "    \n",
    "common_words = pd.Series(names)"
   ]
  },
  {
   "cell_type": "code",
   "execution_count": 149,
   "metadata": {},
   "outputs": [],
   "source": [
    "# Average Message length\n",
    "message_length = chat_names_active.groupby('uname').message.apply(lambda x: x.str.len().mean())"
   ]
  },
  {
   "cell_type": "code",
   "execution_count": 150,
   "metadata": {},
   "outputs": [],
   "source": [
    "# Made renames\n",
    "renames_made = renams_active.groupby(\"old_name\").size()"
   ]
  },
  {
   "cell_type": "code",
   "execution_count": 151,
   "metadata": {},
   "outputs": [],
   "source": [
    "# Active time hourly\n",
    "u_names = chat_names_active.uname.unique()\n",
    "names_active = []\n",
    "for name in u_names:\n",
    "    temp = chat_names_active[chat_names_active.uname == name]\n",
    "    names_active.append((name, temp.set_index('time').groupby(lambda time: time.hour + 1).size().idxmax()))\n",
    "    \n",
    "names_active = pd.Series(dict(names_active))"
   ]
  },
  {
   "cell_type": "markdown",
   "metadata": {},
   "source": [
    "### "
   ]
  },
  {
   "cell_type": "markdown",
   "metadata": {},
   "source": [
    "Now, extracting the user name when they are encoded in the brackets. So the merge becomes meaningful."
   ]
  },
  {
   "cell_type": "code",
   "execution_count": 152,
   "metadata": {},
   "outputs": [],
   "source": [
    "total_num_messages.index = total_num_messages.index.str.extract(\"<.(.+)>\")[0]\n",
    "message_length.index = message_length.index.str.extract(\"<.(.+)>\")[0]\n",
    "common_words.index = common_words.index.str.extract(\"<.(.+)>\")[0]\n",
    "names_active.index = names_active.index.str.extract(\"<.(.+)>\")[0]"
   ]
  },
  {
   "cell_type": "code",
   "execution_count": 153,
   "metadata": {},
   "outputs": [
    {
     "data": {
      "text/html": [
       "<div>\n",
       "<style scoped>\n",
       "    .dataframe tbody tr th:only-of-type {\n",
       "        vertical-align: middle;\n",
       "    }\n",
       "\n",
       "    .dataframe tbody tr th {\n",
       "        vertical-align: top;\n",
       "    }\n",
       "\n",
       "    .dataframe thead th {\n",
       "        text-align: right;\n",
       "    }\n",
       "</style>\n",
       "<table border=\"1\" class=\"dataframe\">\n",
       "  <thead>\n",
       "    <tr style=\"text-align: right;\">\n",
       "      <th></th>\n",
       "      <th>Total Messages</th>\n",
       "      <th>Total Time Spent in Logs</th>\n",
       "      <th>Avg. Daily Active Time</th>\n",
       "      <th>Most Common Words</th>\n",
       "      <th>Avg. Message Length</th>\n",
       "      <th>Total Renames Made</th>\n",
       "      <th>Was most active on (24hr)</th>\n",
       "    </tr>\n",
       "  </thead>\n",
       "  <tbody>\n",
       "    <tr>\n",
       "      <th>DeTH</th>\n",
       "      <td>3028</td>\n",
       "      <td>23 days 19:34:00</td>\n",
       "      <td>3 Hours 1 Miutes</td>\n",
       "      <td>(like, 106)</td>\n",
       "      <td>28.856011</td>\n",
       "      <td>35</td>\n",
       "      <td>6</td>\n",
       "    </tr>\n",
       "    <tr>\n",
       "      <th>catface</th>\n",
       "      <td>2939</td>\n",
       "      <td>39 days 05:49:00</td>\n",
       "      <td>3 Hours 38 Miutes</td>\n",
       "      <td>(like, 156)</td>\n",
       "      <td>40.911875</td>\n",
       "      <td>3</td>\n",
       "      <td>21</td>\n",
       "    </tr>\n",
       "    <tr>\n",
       "      <th>dd_</th>\n",
       "      <td>2927</td>\n",
       "      <td>12 days 05:22:00</td>\n",
       "      <td>2 Hours 6 Miutes</td>\n",
       "      <td>(haha, 119)</td>\n",
       "      <td>37.602323</td>\n",
       "      <td>6</td>\n",
       "      <td>17</td>\n",
       "    </tr>\n",
       "    <tr>\n",
       "      <th>lazarus</th>\n",
       "      <td>3923</td>\n",
       "      <td>20 days 17:33:00</td>\n",
       "      <td>3 Hours 10 Miutes</td>\n",
       "      <td>(yes, 173)</td>\n",
       "      <td>21.894978</td>\n",
       "      <td>101</td>\n",
       "      <td>10</td>\n",
       "    </tr>\n",
       "    <tr>\n",
       "      <th>sTrikEforCe</th>\n",
       "      <td>5305</td>\n",
       "      <td>22 days 09:48:00</td>\n",
       "      <td>1 Hours 5 Miutes</td>\n",
       "      <td>(guapo:, 269)</td>\n",
       "      <td>50.379076</td>\n",
       "      <td>1</td>\n",
       "      <td>4</td>\n",
       "    </tr>\n",
       "    <tr>\n",
       "      <th>Cogitabundus</th>\n",
       "      <td>2579</td>\n",
       "      <td>56 days 10:13:00</td>\n",
       "      <td>2 Hours 14 Miutes</td>\n",
       "      <td>(well, 83)</td>\n",
       "      <td>36.182241</td>\n",
       "      <td>30</td>\n",
       "      <td>20</td>\n",
       "    </tr>\n",
       "    <tr>\n",
       "      <th>Meow</th>\n",
       "      <td>2627</td>\n",
       "      <td>6 days 03:13:00</td>\n",
       "      <td>0 Hours 46 Miutes</td>\n",
       "      <td>(title:, 2261)</td>\n",
       "      <td>79.483061</td>\n",
       "      <td>2</td>\n",
       "      <td>19</td>\n",
       "    </tr>\n",
       "    <tr>\n",
       "      <th>evilbot</th>\n",
       "      <td>30721</td>\n",
       "      <td>3 days 07:33:00</td>\n",
       "      <td>1 Hours 13 Miutes</td>\n",
       "      <td>(network, 4924)</td>\n",
       "      <td>83.202174</td>\n",
       "      <td>1</td>\n",
       "      <td>19</td>\n",
       "    </tr>\n",
       "    <tr>\n",
       "      <th>BOFH</th>\n",
       "      <td>4449</td>\n",
       "      <td>37 days 14:14:00</td>\n",
       "      <td>1 Hours 50 Miutes</td>\n",
       "      <td>(like, 182)</td>\n",
       "      <td>40.119128</td>\n",
       "      <td>34</td>\n",
       "      <td>24</td>\n",
       "    </tr>\n",
       "    <tr>\n",
       "      <th>guapo</th>\n",
       "      <td>8083</td>\n",
       "      <td>33 days 18:21:00</td>\n",
       "      <td>1 Hours 42 Miutes</td>\n",
       "      <td>(lol, 303)</td>\n",
       "      <td>25.670419</td>\n",
       "      <td>27</td>\n",
       "      <td>24</td>\n",
       "    </tr>\n",
       "  </tbody>\n",
       "</table>\n",
       "</div>"
      ],
      "text/plain": [
       "              Total Messages Total Time Spent in Logs Avg. Daily Active Time  \\\n",
       "DeTH                    3028         23 days 19:34:00       3 Hours 1 Miutes   \n",
       "catface                 2939         39 days 05:49:00      3 Hours 38 Miutes   \n",
       "dd_                     2927         12 days 05:22:00       2 Hours 6 Miutes   \n",
       "lazarus                 3923         20 days 17:33:00      3 Hours 10 Miutes   \n",
       "sTrikEforCe             5305         22 days 09:48:00       1 Hours 5 Miutes   \n",
       "Cogitabundus            2579         56 days 10:13:00      2 Hours 14 Miutes   \n",
       "Meow                    2627          6 days 03:13:00      0 Hours 46 Miutes   \n",
       "evilbot                30721          3 days 07:33:00      1 Hours 13 Miutes   \n",
       "BOFH                    4449         37 days 14:14:00      1 Hours 50 Miutes   \n",
       "guapo                   8083         33 days 18:21:00      1 Hours 42 Miutes   \n",
       "\n",
       "             Most Common Words  Avg. Message Length  Total Renames Made  \\\n",
       "DeTH               (like, 106)            28.856011                  35   \n",
       "catface            (like, 156)            40.911875                   3   \n",
       "dd_                (haha, 119)            37.602323                   6   \n",
       "lazarus             (yes, 173)            21.894978                 101   \n",
       "sTrikEforCe      (guapo:, 269)            50.379076                   1   \n",
       "Cogitabundus        (well, 83)            36.182241                  30   \n",
       "Meow            (title:, 2261)            79.483061                   2   \n",
       "evilbot        (network, 4924)            83.202174                   1   \n",
       "BOFH               (like, 182)            40.119128                  34   \n",
       "guapo               (lol, 303)            25.670419                  27   \n",
       "\n",
       "              Was most active on (24hr)  \n",
       "DeTH                                  6  \n",
       "catface                              21  \n",
       "dd_                                  17  \n",
       "lazarus                              10  \n",
       "sTrikEforCe                           4  \n",
       "Cogitabundus                         20  \n",
       "Meow                                 19  \n",
       "evilbot                              19  \n",
       "BOFH                                 24  \n",
       "guapo                                24  "
      ]
     },
     "execution_count": 153,
     "metadata": {},
     "output_type": "execute_result"
    }
   ],
   "source": [
    "summary = pd.concat([total_num_messages, \n",
    "           time_spent_logs,\n",
    "           mean_stay_per_day['mean'],\n",
    "           common_words,\n",
    "           message_length,\n",
    "           renames_made,\n",
    "           names_active], axis= 1)\n",
    "\n",
    "summary.columns = ['Total Messages', 'Total Time Spent in Logs', 'Avg. Daily Active Time', 'Most Common Words', 'Avg. Message Length',\n",
    "                   'Total Renames Made', 'Was most active on (24hr)']\n",
    "\n",
    "summary['Avg. Daily Active Time'] = summary['Avg. Daily Active Time'].apply(lambda time: str(time.seconds//3600) + \" Hours \" + str((time.seconds//60) % 60)) + \" Miutes\"\n",
    "summary"
   ]
  },
  {
   "cell_type": "markdown",
   "metadata": {},
   "source": [
    "I like that!"
   ]
  },
  {
   "cell_type": "markdown",
   "metadata": {},
   "source": [
    "# "
   ]
  },
  {
   "cell_type": "markdown",
   "metadata": {},
   "source": [
    "# Q7. Find and Rank the Non-english words. (malware words too!) "
   ]
  },
  {
   "cell_type": "markdown",
   "metadata": {},
   "source": [
    "Here I will count the different words first. So... as we did before..."
   ]
  },
  {
   "cell_type": "code",
   "execution_count": 154,
   "metadata": {},
   "outputs": [],
   "source": [
    "word_counts = pd.Series(Counter(\" \".join(Chats.message.str.lower()).split()))"
   ]
  },
  {
   "cell_type": "code",
   "execution_count": 155,
   "metadata": {},
   "outputs": [
    {
     "data": {
      "text/plain": [
       "anyone         1895\n",
       "good           2865\n",
       "with           6639\n",
       "exploiting     1305\n",
       "cisco            67\n",
       "               ... \n",
       "\"noob\"            1\n",
       "word).            1\n",
       "wild?             1\n",
       "consequence       1\n",
       "wreckless         1\n",
       "Length: 84256, dtype: int64"
      ]
     },
     "execution_count": 155,
     "metadata": {},
     "output_type": "execute_result"
    }
   ],
   "source": [
    "word_counts"
   ]
  },
  {
   "cell_type": "markdown",
   "metadata": {},
   "source": [
    "Now from the index, I will check for each word's presence in the Dict."
   ]
  },
  {
   "cell_type": "code",
   "execution_count": 156,
   "metadata": {},
   "outputs": [
    {
     "name": "stderr",
     "output_type": "stream",
     "text": [
      "[nltk_data] Downloading package words to\n",
      "[nltk_data]     C:\\Users\\DELL\\AppData\\Roaming\\nltk_data...\n",
      "[nltk_data]   Package words is already up-to-date!\n"
     ]
    }
   ],
   "source": [
    "nltk.download('words')\n",
    "from nltk.corpus import words"
   ]
  },
  {
   "cell_type": "code",
   "execution_count": 157,
   "metadata": {},
   "outputs": [],
   "source": [
    "words = list(map(str.lower, words.words()))"
   ]
  },
  {
   "cell_type": "code",
   "execution_count": 158,
   "metadata": {},
   "outputs": [],
   "source": [
    "words = set(words)"
   ]
  },
  {
   "cell_type": "code",
   "execution_count": 161,
   "metadata": {},
   "outputs": [],
   "source": [
    "'THIS IS OKAY TO RUN - BUT WILL TAKE A WHILE '\n",
    "wordmap = []\n",
    "for word in word_counts.index:\n",
    "    if word in words:\n",
    "        wordmap.append(True)\n",
    "    else:\n",
    "        try:\n",
    "            flat_word = re.sub(\"[.+!/\\\\?,;`~$#\\'\\\"]\", '', word)\n",
    "            wordmap.append(flat_word in words)\n",
    "        except Exception:\n",
    "            wordmap.append(False)"
   ]
  },
  {
   "cell_type": "code",
   "execution_count": 162,
   "metadata": {},
   "outputs": [],
   "source": [
    "word_counts_non_eng = word_counts[~np.array(wordmap)]"
   ]
  },
  {
   "cell_type": "markdown",
   "metadata": {},
   "source": [
    "As we can see, there are 50K words which are not found in the dictionary. There is a strong chance that - those are because of the punctuations."
   ]
  },
  {
   "cell_type": "code",
   "execution_count": 163,
   "metadata": {},
   "outputs": [
    {
     "data": {
      "text/plain": [
       "exploiting                                     1305\n",
       "extrabacon?                                       2\n",
       "op                                              204\n",
       "trusted                                          26\n",
       "services                                        174\n",
       "                                               ... \n",
       "https://www.youtube.com/watch?v=ibvf7kuez78       1\n",
       "havij.exe                                         1\n",
       "\"noob\"                                            1\n",
       "word).                                            1\n",
       "wreckless                                         1\n",
       "Length: 59883, dtype: int64"
      ]
     },
     "execution_count": 163,
     "metadata": {},
     "output_type": "execute_result"
    }
   ],
   "source": [
    "word_counts_non_eng"
   ]
  },
  {
   "cell_type": "markdown",
   "metadata": {},
   "source": [
    "# "
   ]
  },
  {
   "cell_type": "code",
   "execution_count": 164,
   "metadata": {},
   "outputs": [],
   "source": [
    "import string\n",
    "punc = string.punctuation"
   ]
  },
  {
   "cell_type": "code",
   "execution_count": 165,
   "metadata": {},
   "outputs": [],
   "source": [
    "word_counts_non_eng = word_counts_non_eng[~word_counts_non_eng.index.isin(list(punc))]"
   ]
  },
  {
   "cell_type": "code",
   "execution_count": 166,
   "metadata": {},
   "outputs": [
    {
     "data": {
      "text/plain": [
       "lol         5758\n",
       "windows     3356\n",
       "im          3207\n",
       "sql         2791\n",
       "users       2609\n",
       "perl        2540\n",
       "types       2472\n",
       "auditing    2422\n",
       "i'm         2415\n",
       "title:      2265\n",
       "using       1932\n",
       "tools       1897\n",
       "shit        1855\n",
       "has         1840\n",
       ":)          1591\n",
       "nmap        1581\n",
       "files       1522\n",
       "sites       1498\n",
       "-tools      1433\n",
       "fuck        1414\n",
       "dtype: int64"
      ]
     },
     "execution_count": 166,
     "metadata": {},
     "output_type": "execute_result"
    }
   ],
   "source": [
    "word_counts_non_eng.sort_values(ascending= False)[:20]"
   ]
  },
  {
   "cell_type": "markdown",
   "metadata": {},
   "source": [
    "I know thses are not going to be correct. But still... Ah, I don't know."
   ]
  },
  {
   "cell_type": "markdown",
   "metadata": {},
   "source": [
    "## "
   ]
  },
  {
   "cell_type": "markdown",
   "metadata": {},
   "source": [
    "# Q8. Which hour of the day had the most messages?"
   ]
  },
  {
   "cell_type": "code",
   "execution_count": 167,
   "metadata": {},
   "outputs": [],
   "source": [
    "# grouping by hour\n",
    "most_messages = Chats.set_index('time').groupby(lambda x: x.hour + 1).size().sort_values(ascending= False)"
   ]
  },
  {
   "cell_type": "code",
   "execution_count": 168,
   "metadata": {},
   "outputs": [
    {
     "data": {
      "text/plain": [
       "21    14901\n",
       "20    14215\n",
       "19    14029\n",
       "24    13682\n",
       "22    13632\n",
       "23    13013\n",
       "18    11829\n",
       "1     11482\n",
       "16    11430\n",
       "17    11194\n",
       "2     10253\n",
       "3      9939\n",
       "15     9269\n",
       "4      9097\n",
       "14     8218\n",
       "5      7759\n",
       "13     7342\n",
       "6      7243\n",
       "9      5792\n",
       "12     5430\n",
       "7      5233\n",
       "10     5114\n",
       "8      4826\n",
       "11     4681\n",
       "dtype: int64"
      ]
     },
     "execution_count": 168,
     "metadata": {},
     "output_type": "execute_result"
    }
   ],
   "source": [
    "most_messages"
   ]
  },
  {
   "cell_type": "markdown",
   "metadata": {},
   "source": [
    "Oh! It seems like the amount of messages are to most at 9 PM!"
   ]
  },
  {
   "cell_type": "code",
   "execution_count": 170,
   "metadata": {},
   "outputs": [
    {
     "data": {
      "text/plain": [
       "<AxesSubplot:>"
      ]
     },
     "execution_count": 170,
     "metadata": {},
     "output_type": "execute_result"
    },
    {
     "data": {
      "image/png": "[encoded data removed]",
      "text/plain": [
       "<Figure size 1440x720 with 1 Axes>"
      ]
     },
     "metadata": {
      "needs_background": "light"
     },
     "output_type": "display_data"
    }
   ],
   "source": [
    "most_messages.sort_index().plot(kind= \"bar\", figsize= (20, 10))"
   ]
  },
  {
   "cell_type": "markdown",
   "metadata": {},
   "source": [
    "# "
   ]
  },
  {
   "cell_type": "markdown",
   "metadata": {},
   "source": [
    "# Q9. Which days had the most amount of messages? "
   ]
  },
  {
   "cell_type": "code",
   "execution_count": 172,
   "metadata": {},
   "outputs": [
    {
     "data": {
      "text/plain": [
       "Saturday     37217\n",
       "Friday       36405\n",
       "Wednesday    33341\n",
       "Thursday     32109\n",
       "Tuesday      30848\n",
       "Monday       30235\n",
       "Sunday       29448\n",
       "dtype: int64"
      ]
     },
     "execution_count": 172,
     "metadata": {},
     "output_type": "execute_result"
    }
   ],
   "source": [
    "# grouping by name of day\n",
    "most_messages = Chats.set_index('time').groupby(lambda x: x.day_name()).size().sort_values(ascending= False)\n",
    "most_messages"
   ]
  },
  {
   "cell_type": "code",
   "execution_count": 173,
   "metadata": {},
   "outputs": [
    {
     "data": {
      "text/plain": [
       "<AxesSubplot:>"
      ]
     },
     "execution_count": 173,
     "metadata": {},
     "output_type": "execute_result"
    },
    {
     "data": {
      "image/png": "[encoded data removed]",
      "text/plain": [
       "<Figure size 720x360 with 1 Axes>"
      ]
     },
     "metadata": {
      "needs_background": "light"
     },
     "output_type": "display_data"
    }
   ],
   "source": [
    "most_messages.reindex(['Monday', 'Tuesday',\n",
    "                       'Wednesday', 'Tuesday',\n",
    "                       'Friday', 'Saturday',\n",
    "                       'Sunday']).plot(kind= \"bar\", figsize= (10, 5))"
   ]
  },
  {
   "cell_type": "markdown",
   "metadata": {},
   "source": [
    "# "
   ]
  },
  {
   "cell_type": "markdown",
   "metadata": {},
   "source": [
    "# Q9. The posted URL "
   ]
  },
  {
   "cell_type": "markdown",
   "metadata": {},
   "source": [
    "This is again amazing! Here I have used a cool pattern which can recognize a url. Check it!"
   ]
  },
  {
   "cell_type": "code",
   "execution_count": 174,
   "metadata": {},
   "outputs": [],
   "source": [
    "Chats.message.to_csv(\"messages\", index= False)"
   ]
  },
  {
   "cell_type": "code",
   "execution_count": 175,
   "metadata": {},
   "outputs": [],
   "source": [
    "amazing_url_pattern = r\"(https?:\\/\\/[a-z]+\\.[a-z-_+0-9]+\\.[a-z]{0,5}[\\\\\\/a-z0-9!@#$%^&*().=?><:;`_~-]+\\b)|(https?:\\/\\/[a-z-_+0-9]+\\.[a-z]{0,5}[\\\\/a-z0-9!@#$%^&*().=?><:;`_~-]+\\b)|([a-z]+\\.[a-z-_+0-9]+\\.[a-z]{0,5}[\\\\/a-z0-9!@#$%^&*().=?><:;`_~-]+\\b)\"\n"
   ]
  },
  {
   "cell_type": "code",
   "execution_count": 177,
   "metadata": {},
   "outputs": [],
   "source": [
    "'OKAY TO RUN'\n",
    "\n",
    "urls= Chats.message.str.extract(amazing_url_pattern, flags= re.I | re.M)"
   ]
  },
  {
   "cell_type": "code",
   "execution_count": 180,
   "metadata": {},
   "outputs": [],
   "source": [
    "# Focusing on only NonNulls\n",
    "urls = urls[urls.notna().any(1)]"
   ]
  },
  {
   "cell_type": "markdown",
   "metadata": {},
   "source": [
    "Till now..."
   ]
  },
  {
   "cell_type": "code",
   "execution_count": 181,
   "metadata": {},
   "outputs": [
    {
     "data": {
      "text/html": [
       "<div>\n",
       "<style scoped>\n",
       "    .dataframe tbody tr th:only-of-type {\n",
       "        vertical-align: middle;\n",
       "    }\n",
       "\n",
       "    .dataframe tbody tr th {\n",
       "        vertical-align: top;\n",
       "    }\n",
       "\n",
       "    .dataframe thead th {\n",
       "        text-align: right;\n",
       "    }\n",
       "</style>\n",
       "<table border=\"1\" class=\"dataframe\">\n",
       "  <thead>\n",
       "    <tr style=\"text-align: right;\">\n",
       "      <th></th>\n",
       "      <th>0</th>\n",
       "      <th>1</th>\n",
       "      <th>2</th>\n",
       "    </tr>\n",
       "  </thead>\n",
       "  <tbody>\n",
       "    <tr>\n",
       "      <th>225</th>\n",
       "      <td>http://i.imgur.com/PoCjYqQ.png</td>\n",
       "      <td>NaN</td>\n",
       "      <td>NaN</td>\n",
       "    </tr>\n",
       "    <tr>\n",
       "      <th>236</th>\n",
       "      <td>https://vid.pr0gramm.com/2015/08/28/8a9af17937...</td>\n",
       "      <td>NaN</td>\n",
       "      <td>NaN</td>\n",
       "    </tr>\n",
       "    <tr>\n",
       "      <th>239</th>\n",
       "      <td>NaN</td>\n",
       "      <td>NaN</td>\n",
       "      <td>www.ismoman.com</td>\n",
       "    </tr>\n",
       "    <tr>\n",
       "      <th>396</th>\n",
       "      <td>NaN</td>\n",
       "      <td>NaN</td>\n",
       "      <td>www.ismoman.com:2083</td>\n",
       "    </tr>\n",
       "    <tr>\n",
       "      <th>435</th>\n",
       "      <td>NaN</td>\n",
       "      <td>NaN</td>\n",
       "      <td>www.ismoman.com/wp-content/themes/ism</td>\n",
       "    </tr>\n",
       "    <tr>\n",
       "      <th>...</th>\n",
       "      <td>...</td>\n",
       "      <td>...</td>\n",
       "      <td>...</td>\n",
       "    </tr>\n",
       "    <tr>\n",
       "      <th>478475</th>\n",
       "      <td>https://www.ezecom.com.kh/newsdetail/hacked-by...</td>\n",
       "      <td>NaN</td>\n",
       "      <td>NaN</td>\n",
       "    </tr>\n",
       "    <tr>\n",
       "      <th>478479</th>\n",
       "      <td>NaN</td>\n",
       "      <td>http://flutehotel.com/index.php</td>\n",
       "      <td>NaN</td>\n",
       "    </tr>\n",
       "    <tr>\n",
       "      <th>478486</th>\n",
       "      <td>NaN</td>\n",
       "      <td>https://ghostbin.com/paste/r8g3e</td>\n",
       "      <td>NaN</td>\n",
       "    </tr>\n",
       "    <tr>\n",
       "      <th>478496</th>\n",
       "      <td>http://www.plainvilleks.com/Departments/Police...</td>\n",
       "      <td>NaN</td>\n",
       "      <td>NaN</td>\n",
       "    </tr>\n",
       "    <tr>\n",
       "      <th>478792</th>\n",
       "      <td>https://www.youtube.com/watch?v=IBvf7KUEZ78</td>\n",
       "      <td>NaN</td>\n",
       "      <td>NaN</td>\n",
       "    </tr>\n",
       "  </tbody>\n",
       "</table>\n",
       "<p>4981 rows × 3 columns</p>\n",
       "</div>"
      ],
      "text/plain": [
       "                                                        0  \\\n",
       "225                        http://i.imgur.com/PoCjYqQ.png   \n",
       "236     https://vid.pr0gramm.com/2015/08/28/8a9af17937...   \n",
       "239                                                   NaN   \n",
       "396                                                   NaN   \n",
       "435                                                   NaN   \n",
       "...                                                   ...   \n",
       "478475  https://www.ezecom.com.kh/newsdetail/hacked-by...   \n",
       "478479                                                NaN   \n",
       "478486                                                NaN   \n",
       "478496  http://www.plainvilleks.com/Departments/Police...   \n",
       "478792        https://www.youtube.com/watch?v=IBvf7KUEZ78   \n",
       "\n",
       "                                       1  \\\n",
       "225                                  NaN   \n",
       "236                                  NaN   \n",
       "239                                  NaN   \n",
       "396                                  NaN   \n",
       "435                                  NaN   \n",
       "...                                  ...   \n",
       "478475                               NaN   \n",
       "478479   http://flutehotel.com/index.php   \n",
       "478486  https://ghostbin.com/paste/r8g3e   \n",
       "478496                               NaN   \n",
       "478792                               NaN   \n",
       "\n",
       "                                            2  \n",
       "225                                       NaN  \n",
       "236                                       NaN  \n",
       "239                           www.ismoman.com  \n",
       "396                      www.ismoman.com:2083  \n",
       "435     www.ismoman.com/wp-content/themes/ism  \n",
       "...                                       ...  \n",
       "478475                                    NaN  \n",
       "478479                                    NaN  \n",
       "478486                                    NaN  \n",
       "478496                                    NaN  \n",
       "478792                                    NaN  \n",
       "\n",
       "[4981 rows x 3 columns]"
      ]
     },
     "execution_count": 181,
     "metadata": {},
     "output_type": "execute_result"
    }
   ],
   "source": [
    "urls"
   ]
  },
  {
   "cell_type": "code",
   "execution_count": 182,
   "metadata": {},
   "outputs": [],
   "source": [
    "# Filling where there are nulls\n",
    "wow_url = urls[0].fillna(urls[1]).fillna(urls[2])"
   ]
  },
  {
   "cell_type": "code",
   "execution_count": 183,
   "metadata": {},
   "outputs": [
    {
     "data": {
      "text/plain": [
       "0                          http://i.imgur.com/PoCjYqQ.png\n",
       "1       https://vid.pr0gramm.com/2015/08/28/8a9af17937...\n",
       "2                                         www.ismoman.com\n",
       "3                                    www.ismoman.com:2083\n",
       "4                   www.ismoman.com/wp-content/themes/ism\n",
       "                              ...                        \n",
       "4976    https://www.ezecom.com.kh/newsdetail/hacked-by...\n",
       "4977                      http://flutehotel.com/index.php\n",
       "4978                     https://ghostbin.com/paste/r8g3e\n",
       "4979    http://www.plainvilleks.com/Departments/Police...\n",
       "4980          https://www.youtube.com/watch?v=IBvf7KUEZ78\n",
       "Name: 0, Length: 4981, dtype: object"
      ]
     },
     "execution_count": 183,
     "metadata": {},
     "output_type": "execute_result"
    }
   ],
   "source": [
    "wow_url.reset_index(drop = True)"
   ]
  },
  {
   "cell_type": "markdown",
   "metadata": {},
   "source": [
    "These are the urls! Total 4981 Found. "
   ]
  },
  {
   "cell_type": "markdown",
   "metadata": {},
   "source": [
    "# "
   ]
  },
  {
   "cell_type": "markdown",
   "metadata": {},
   "source": [
    "# That's it!\n",
    "I know this is not too much as the EDA, it deserves a lot than this, but this was my try to demonstrate and practice the Regular Expressions. \n",
    "\n",
    "Thanks! <br>\n",
    "Aayush ∞ Shah"
   ]
  },
  {
   "cell_type": "markdown",
   "metadata": {},
   "source": [
    "# "
   ]
  }
 ],
 "metadata": {
  "kernelspec": {
   "display_name": "Python 3",
   "language": "python",
   "name": "python3"
  },
  "language_info": {
   "codemirror_mode": {
    "name": "ipython",
    "version": 3
   },
   "file_extension": ".py",
   "mimetype": "text/x-python",
   "name": "python",
   "nbconvert_exporter": "python",
   "pygments_lexer": "ipython3",
   "version": "3.8.5"
  }
 },
 "nbformat": 4,
 "nbformat_minor": 4
}
